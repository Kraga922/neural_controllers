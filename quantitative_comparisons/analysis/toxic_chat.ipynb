{
 "cells": [
  {
   "cell_type": "code",
   "execution_count": 1,
   "id": "40e5e6f1-c21e-44a2-b5a4-ba36de1698ee",
   "metadata": {
    "tags": []
   },
   "outputs": [],
   "source": [
    "%load_ext autoreload\n",
    "%autoreload 2"
   ]
  },
  {
   "cell_type": "code",
   "execution_count": 2,
   "id": "ee41a3e1-584c-4d7b-b3aa-f4f76e25a0a3",
   "metadata": {
    "tags": []
   },
   "outputs": [],
   "source": [
    "import pickle \n",
    "import torch\n",
    "import numpy as np"
   ]
  },
  {
   "cell_type": "code",
   "execution_count": 3,
   "id": "b6a09de0-ba8b-41dd-9710-04817da1a2a9",
   "metadata": {
    "tags": []
   },
   "outputs": [],
   "source": [
    "import matplotlib.pyplot as plt\n",
    "import json\n",
    "import re"
   ]
  },
  {
   "cell_type": "code",
   "execution_count": 4,
   "id": "d1b29eda-f5e8-4b66-a3af-b5de14025447",
   "metadata": {
    "tags": []
   },
   "outputs": [],
   "source": [
    "import argparse\n",
    "import os\n",
    "import sys\n",
    "NEURAL_CONTROLLERS_DIR = os.environ['NEURAL_CONTROLLERS_DIR']\n",
    "sys.path.append(NEURAL_CONTROLLERS_DIR)\n",
    "RESULTS_DIR = f'{NEURAL_CONTROLLERS_DIR}/results/toxic_chat_results'"
   ]
  },
  {
   "cell_type": "code",
   "execution_count": 5,
   "id": "adde68dd",
   "metadata": {},
   "outputs": [
    {
     "name": "stdout",
     "output_type": "stream",
     "text": [
      "rfm, aggregated over layers:\n",
      "acc: 96.95061971276805\n",
      "precision: 0.8022922635873269\n",
      "recall: 0.7650273223834692\n",
      "f1: 0.7832167781977016\n",
      "auc: 0.9691260305997026\n",
      "mse: 0.023036250844597816\n",
      "rfm, best single layer:\n",
      "acc: 96.10466260082629\n",
      "precision: 0.8962264150520648\n",
      "recall: 0.5191256830459255\n",
      "f1: 0.657439441698974\n",
      "auc: 0.9673692179548221\n",
      "mse: 0.029730556532740593\n",
      "========================================\n",
      "linear, aggregated over layers:\n",
      "acc: 96.8522526067283\n",
      "precision: 0.8626760563076522\n",
      "recall: 0.6693989070855355\n",
      "f1: 0.7538461489025327\n",
      "auc: 0.9689024467945845\n",
      "mse: 0.02623777464032173\n",
      "linear, best single layer:\n",
      "acc: 96.81290576431242\n",
      "precision: 0.8923076922733727\n",
      "recall: 0.6338797814034459\n",
      "f1: 0.741214052627668\n",
      "auc: 0.9684622299762168\n",
      "mse: 0.02648165449500084\n",
      "========================================\n",
      "logistic, aggregated over layers:\n",
      "acc: 96.81290576431242\n",
      "precision: 0.886363636330062\n",
      "recall: 0.6393442622776135\n",
      "f1: 0.7428571379646259\n",
      "auc: 0.9687263600672373\n",
      "mse: 54.34906005859375\n",
      "logistic, best single layer:\n",
      "acc: 96.10466260082629\n",
      "precision: 0.9468085105879357\n",
      "recall: 0.4863387978009197\n",
      "f1: 0.6425992734713082\n",
      "auc: 0.9709621981184207\n",
      "mse: 18.43355941772461\n",
      "========================================\n"
     ]
    }
   ],
   "source": [
    "model_name = 'llama_3.3_70b_4bit_it'\n",
    "original_control_methods = ['rfm', 'linear', 'logistic']\n",
    "for original_control_method in original_control_methods:\n",
    "    agg_metrics_file = f'{RESULTS_DIR}/{model_name}_{original_control_method}_bagged_aggregated_metrics.pkl'\n",
    "    # print(\"agg_metrics_file\", agg_metrics_file)\n",
    "    with open(agg_metrics_file, 'rb') as f:\n",
    "        agg_metrics = pickle.load(f)\n",
    "\n",
    "    print(f\"{original_control_method}, aggregated over layers:\")\n",
    "    for k, v in agg_metrics.items():\n",
    "        print(f\"{k}: {v}\")\n",
    "\n",
    "    best_layer_metrics_file = f'{RESULTS_DIR}/{model_name}_{original_control_method}_bagged_best_layer_metrics.pkl'\n",
    "    # print(\"best_layer_metrics_file\", best_layer_metrics_file)\n",
    "    with open(best_layer_metrics_file, 'rb') as f:\n",
    "        best_layer_metrics = pickle.load(f)\n",
    "\n",
    "    print(f\"{original_control_method}, best single layer:\")\n",
    "    for k, v in best_layer_metrics.items():\n",
    "        print(f\"{k}: {v}\")\n",
    "    print(\"=\"*40)"
   ]
  },
  {
   "cell_type": "code",
   "execution_count": 6,
   "id": "864b37df",
   "metadata": {},
   "outputs": [
    {
     "name": "stdout",
     "output_type": "stream",
     "text": [
      "Judge: gpt-4o, openai\n",
      "acc: 95.29805233130041\n",
      "precision: 0.777292576385271\n",
      "recall: 0.4863387978009197\n",
      "f1: 0.5983193229760612\n",
      "auc: 0.9234445575878899\n",
      "mse: 0.04516594671202839\n",
      "========================================\n",
      "Judge: llama_3.3_70b_4bit_it, llama\n",
      "acc: 94.3930749557348\n",
      "precision: 0.609756097544451\n",
      "recall: 0.6147540983438592\n",
      "f1: 0.6122448929426073\n",
      "auc: 0.9408733785829884\n",
      "mse: 0.049941163304951026\n",
      "========================================\n"
     ]
    }
   ],
   "source": [
    "judges = [('openai', 'gpt-4o'),('llama', 'llama_3.3_70b_4bit_it')]\n",
    "for judge in judges:\n",
    "    judge_type, judge_model = judge\n",
    "    metrics_file = f'{RESULTS_DIR}/{judge_type}_{judge_model}_metrics.pkl'\n",
    "    with open(metrics_file, 'rb') as f:\n",
    "        metrics = pickle.load(f)\n",
    "\n",
    "    print(f\"Judge: {judge_model}, {judge_type}\")\n",
    "    for k, v in metrics.items():\n",
    "        print(f\"{k}: {v}\")\n",
    "    print(\"=\"*40)\n"
   ]
  },
  {
   "cell_type": "code",
   "execution_count": null,
   "id": "2dcc872c",
   "metadata": {},
   "outputs": [],
   "source": []
  }
 ],
 "metadata": {
  "kernelspec": {
   "display_name": "daniel_jax",
   "language": "python",
   "name": "python3"
  },
  "language_info": {
   "codemirror_mode": {
    "name": "ipython",
    "version": 3
   },
   "file_extension": ".py",
   "mimetype": "text/x-python",
   "name": "python",
   "nbconvert_exporter": "python",
   "pygments_lexer": "ipython3",
   "version": "3.10.16"
  }
 },
 "nbformat": 4,
 "nbformat_minor": 5
}
