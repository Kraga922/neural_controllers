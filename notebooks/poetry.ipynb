{
 "cells": [
  {
   "cell_type": "code",
   "execution_count": 1,
   "id": "91f5e166-38a4-4d7c-8b3f-2964ba367711",
   "metadata": {
    "tags": []
   },
   "outputs": [],
   "source": [
    "%load_ext autoreload\n",
    "%autoreload 2"
   ]
  },
  {
   "cell_type": "code",
   "execution_count": 2,
   "id": "67496383-3332-4a94-af72-2469390dced6",
   "metadata": {
    "tags": []
   },
   "outputs": [],
   "source": [
    "import sys\n",
    "from pathlib import Path\n",
    "\n",
    "notebook_path = Path().absolute()\n",
    "sys.path.append(str(notebook_path.parent))"
   ]
  },
  {
   "cell_type": "code",
   "execution_count": 3,
   "id": "fd6438f5-0de8-48f5-843a-fac5dc46cb93",
   "metadata": {
    "tags": []
   },
   "outputs": [
    {
     "name": "stderr",
     "output_type": "stream",
     "text": [
      "/home/ubuntu/miniconda3/envs/nc_env/lib/python3.10/site-packages/tqdm/auto.py:21: TqdmWarning: IProgress not found. Please update jupyter and ipywidgets. See https://ipywidgets.readthedocs.io/en/stable/user_install.html\n",
      "  from .autonotebook import tqdm as notebook_tqdm\n"
     ]
    }
   ],
   "source": [
    "import torch\n",
    "from tqdm import tqdm\n",
    "from transformers import AutoTokenizer, AutoModelForCausalLM\n",
    "from neural_controllers import NeuralController\n",
    "import utils"
   ]
  },
  {
   "cell_type": "code",
   "execution_count": 4,
   "id": "9b77eb18-a0d1-4892-a81c-58c04bc67820",
   "metadata": {
    "tags": []
   },
   "outputs": [
    {
     "name": "stderr",
     "output_type": "stream",
     "text": [
      "Loading checkpoint shards: 100%|██████████| 4/4 [00:09<00:00,  2.45s/it]\n"
     ]
    }
   ],
   "source": [
    "model_type = 'llama'\n",
    "\n",
    "if model_type=='llama':\n",
    "    model_id = \"meta-llama/Meta-Llama-3.1-8B-Instruct\"\n",
    "\n",
    "    language_model = AutoModelForCausalLM.from_pretrained(\n",
    "        model_id, device_map=\"cuda\"\n",
    "    )\n",
    "\n",
    "    use_fast_tokenizer = \"LlamaForCausalLM\" not in language_model.config.architectures\n",
    "    tokenizer = AutoTokenizer.from_pretrained(model_id, use_fast=use_fast_tokenizer, padding_side=\"left\", legacy=False)\n",
    "    model_name='llama_3_8b_it'\n",
    "    assistant_tag = '<|start_header_id|>assistant<|end_header_id|>'\n",
    "    \n",
    "elif model_type=='gemma':\n",
    "\n",
    "    tokenizer = AutoTokenizer.from_pretrained(\"google/gemma-2-9b-it\")\n",
    "    language_model = AutoModelForCausalLM.from_pretrained(\n",
    "        \"google/gemma-2-9b-it\",\n",
    "        device_map=\"auto\",\n",
    "        torch_dtype=torch.bfloat16,\n",
    "    )\n",
    "    model_name='gemma_2_9b_it'\n",
    "    \n",
    "tokenizer.pad_token_id = 0 if tokenizer.pad_token_id is None else tokenizer.pad_token_id"
   ]
  },
  {
   "cell_type": "code",
   "execution_count": 5,
   "id": "279e2d56-b372-42a4-b116-fe8f7b4cc1f7",
   "metadata": {
    "tags": []
   },
   "outputs": [
    {
     "name": "stdout",
     "output_type": "stream",
     "text": [
      "train 200 test 0\n",
      "train 200 test 0\n"
     ]
    }
   ],
   "source": [
    "data_dir = \"../data/poetry\"\n",
    "\n",
    "dataset = utils.poetry_dataset(data_dir=data_dir, tokenizer=tokenizer, assistant_tag=assistant_tag)"
   ]
  },
  {
   "cell_type": "code",
   "execution_count": null,
   "id": "26ee713a-fe22-4f7f-8deb-372b42b855cd",
   "metadata": {
    "collapsed": true,
    "jupyter": {
     "outputs_hidden": true
    },
    "tags": []
   },
   "outputs": [
    {
     "name": "stderr",
     "output_type": "stream",
     "text": [
      "  0%|          | 0/2 [00:00<?, ?it/s]"
     ]
    },
    {
     "name": "stdout",
     "output_type": "stream",
     "text": [
      "n_components: 5\n",
      "Hidden layers KA: [-1, -2, -3, -4, -5, -6, -7, -8, -9, -10, -11, -12, -13, -14, -15, -16, -17, -18, -19, -20, -21, -22, -23, -24, -25, -26, -27, -28, -29, -30, -31]\n",
      "Hidden layers: [-1, -2, -3, -4, -5, -6, -7, -8, -9, -10, -11, -12, -13, -14, -15, -16, -17, -18, -19, -20, -21, -22, -23, -24, -25, -26, -27, -28, -29, -30, -31]\n",
      "\n",
      "Controller hyperparameters:\n",
      "control_method       : logistic\n",
      "rfm_iters            : 8\n",
      "forward_batch_size   : 2\n",
      "M_batch_size         : 2048\n",
      "n_components         : 5\n",
      "calibrate            : False\n",
      "\n",
      "Getting activations from forward passes\n"
     ]
    },
    {
     "name": "stderr",
     "output_type": "stream",
     "text": [
      "100%|██████████| 80/80 [00:09<00:00,  8.76it/s]\n"
     ]
    },
    {
     "name": "stdout",
     "output_type": "stream",
     "text": [
      "Getting activations from forward passes\n"
     ]
    },
    {
     "name": "stderr",
     "output_type": "stream",
     "text": [
      "100%|██████████| 20/20 [00:02<00:00,  8.81it/s]\n"
     ]
    },
    {
     "name": "stdout",
     "output_type": "stream",
     "text": [
      "train X shape: torch.Size([160, 4096]) train y shape: torch.Size([160, 1]) val X shape: torch.Size([40, 4096]) val y shape: torch.Size([40, 1])\n",
      "Training logistic regression\n",
      "Debug: y_true shape: (40,), pred_proba shape: (40,)\n",
      "Debug: y_true unique values: [0. 1.]\n",
      "Debug: y_true shape: (40,), pred_proba shape: (40,)\n",
      "Debug: y_true unique values: [0. 1.]\n",
      "Debug: y_true shape: (40,), pred_proba shape: (40,)\n",
      "Debug: y_true unique values: [0. 1.]\n",
      "Debug: y_true shape: (40,), pred_proba shape: (40,)\n",
      "Debug: y_true unique values: [0. 1.]\n",
      "Debug: y_true shape: (40,), pred_proba shape: (40,)\n",
      "Debug: y_true unique values: [0. 1.]\n",
      "Debug: y_true shape: (40,), pred_proba shape: (40,)\n",
      "Debug: y_true unique values: [0. 1.]\n",
      "Logistic probe auc: 1.0, C: 1000\n",
      "train X shape: torch.Size([160, 4096]) train y shape: torch.Size([160, 1]) val X shape: torch.Size([40, 4096]) val y shape: torch.Size([40, 1])\n",
      "Training logistic regression\n",
      "Debug: y_true shape: (40,), pred_proba shape: (40,)\n",
      "Debug: y_true unique values: [0. 1.]\n",
      "Debug: y_true shape: (40,), pred_proba shape: (40,)\n",
      "Debug: y_true unique values: [0. 1.]\n",
      "Debug: y_true shape: (40,), pred_proba shape: (40,)\n",
      "Debug: y_true unique values: [0. 1.]\n",
      "Debug: y_true shape: (40,), pred_proba shape: (40,)\n",
      "Debug: y_true unique values: [0. 1.]\n",
      "Debug: y_true shape: (40,), pred_proba shape: (40,)\n",
      "Debug: y_true unique values: [0. 1.]\n",
      "Debug: y_true shape: (40,), pred_proba shape: (40,)\n",
      "Debug: y_true unique values: [0. 1.]\n",
      "Logistic probe auc: 1.0, C: 1000\n",
      "train X shape: torch.Size([160, 4096]) train y shape: torch.Size([160, 1]) val X shape: torch.Size([40, 4096]) val y shape: torch.Size([40, 1])\n",
      "Training logistic regression\n",
      "Debug: y_true shape: (40,), pred_proba shape: (40,)\n",
      "Debug: y_true unique values: [0. 1.]\n"
     ]
    },
    {
     "name": "stderr",
     "output_type": "stream",
     "text": []
    },
    {
     "name": "stdout",
     "output_type": "stream",
     "text": [
      "Debug: y_true shape: (40,), pred_proba shape: (40,)\n",
      "Debug: y_true unique values: [0. 1.]\n",
      "Debug: y_true shape: (40,), pred_proba shape: (40,)\n",
      "Debug: y_true unique values: [0. 1.]\n",
      "Debug: y_true shape: (40,), pred_proba shape: (40,)\n",
      "Debug: y_true unique values: [0. 1.]\n",
      "Debug: y_true shape: (40,), pred_proba shape: (40,)\n",
      "Debug: y_true unique values: [0. 1.]\n",
      "Debug: y_true shape: (40,), pred_proba shape: (40,)\n",
      "Debug: y_true unique values: [0. 1.]\n",
      "Logistic probe auc: 1.0, C: 1000\n",
      "train X shape: torch.Size([160, 4096]) train y shape: torch.Size([160, 1]) val X shape: torch.Size([40, 4096]) val y shape: torch.Size([40, 1])\n",
      "Training logistic regression\n",
      "Debug: y_true shape: (40,), pred_proba shape: (40,)\n",
      "Debug: y_true unique values: [0. 1.]\n",
      "Debug: y_true shape: (40,), pred_proba shape: (40,)\n",
      "Debug: y_true unique values: [0. 1.]\n",
      "Debug: y_true shape: (40,), pred_proba shape: (40,)\n",
      "Debug: y_true unique values: [0. 1.]\n",
      "Debug: y_true shape: (40,), pred_proba shape: (40,)\n",
      "Debug: y_true unique values: [0. 1.]\n",
      "Debug: y_true shape: (40,), pred_proba shape: (40,)\n",
      "Debug: y_true unique values: [0. 1.]\n",
      "Debug: y_true shape: (40,), pred_proba shape: (40,)\n",
      "Debug: y_true unique values: [0. 1.]\n",
      "Logistic probe auc: 1.0, C: 1000\n",
      "train X shape: torch.Size([160, 4096]) train y shape: torch.Size([160, 1]) val X shape: torch.Size([40, 4096]) val y shape: torch.Size([40, 1])\n",
      "Training logistic regression\n",
      "Debug: y_true shape: (40,), pred_proba shape: (40,)\n",
      "Debug: y_true unique values: [0. 1.]\n",
      "Debug: y_true shape: (40,), pred_proba shape: (40,)\n",
      "Debug: y_true unique values: [0. 1.]\n",
      "Debug: y_true shape: (40,), pred_proba shape: (40,)\n",
      "Debug: y_true unique values: [0. 1.]\n",
      "Debug: y_true shape: (40,), pred_proba shape: (40,)\n",
      "Debug: y_true unique values: [0. 1.]\n"
     ]
    },
    {
     "name": "stderr",
     "output_type": "stream",
     "text": []
    },
    {
     "name": "stdout",
     "output_type": "stream",
     "text": [
      "Debug: y_true shape: (40,), pred_proba shape: (40,)\n",
      "Debug: y_true unique values: [0. 1.]\n",
      "Debug: y_true shape: (40,), pred_proba shape: (40,)\n",
      "Debug: y_true unique values: [0. 1.]\n",
      "Logistic probe auc: 1.0, C: 1000\n",
      "train X shape: torch.Size([160, 4096]) train y shape: torch.Size([160, 1]) val X shape: torch.Size([40, 4096]) val y shape: torch.Size([40, 1])\n",
      "Training logistic regression\n",
      "Debug: y_true shape: (40,), pred_proba shape: (40,)\n",
      "Debug: y_true unique values: [0. 1.]\n",
      "Debug: y_true shape: (40,), pred_proba shape: (40,)\n",
      "Debug: y_true unique values: [0. 1.]\n",
      "Debug: y_true shape: (40,), pred_proba shape: (40,)\n",
      "Debug: y_true unique values: [0. 1.]\n",
      "Debug: y_true shape: (40,), pred_proba shape: (40,)\n",
      "Debug: y_true unique values: [0. 1.]\n",
      "Debug: y_true shape: (40,), pred_proba shape: (40,)\n",
      "Debug: y_true unique values: [0. 1.]\n",
      "Debug: y_true shape: (40,), pred_proba shape: (40,)\n",
      "Debug: y_true unique values: [0. 1.]\n",
      "Logistic probe auc: 1.0, C: 1000\n",
      "train X shape: torch.Size([160, 4096]) train y shape: torch.Size([160, 1]) val X shape: torch.Size([40, 4096]) val y shape: torch.Size([40, 1])\n",
      "Training logistic regression\n",
      "Debug: y_true shape: (40,), pred_proba shape: (40,)\n",
      "Debug: y_true unique values: [0. 1.]\n",
      "Debug: y_true shape: (40,), pred_proba shape: (40,)\n",
      "Debug: y_true unique values: [0. 1.]\n",
      "Debug: y_true shape: (40,), pred_proba shape: (40,)\n",
      "Debug: y_true unique values: [0. 1.]\n",
      "Debug: y_true shape: (40,), pred_proba shape: (40,)\n",
      "Debug: y_true unique values: [0. 1.]\n",
      "Debug: y_true shape: (40,), pred_proba shape: (40,)\n",
      "Debug: y_true unique values: [0. 1.]\n",
      "Debug: y_true shape: (40,), pred_proba shape: (40,)\n",
      "Debug: y_true unique values: [0. 1.]\n",
      "Logistic probe auc: 1.0, C: 1000\n",
      "train X shape: torch.Size([160, 4096]) train y shape: torch.Size([160, 1]) val X shape: torch.Size([40, 4096]) val y shape: torch.Size([40, 1])\n",
      "Training logistic regression\n",
      "Debug: y_true shape: (40,), pred_proba shape: (40,)\n",
      "Debug: y_true unique values: [0. 1.]\n"
     ]
    },
    {
     "name": "stderr",
     "output_type": "stream",
     "text": []
    },
    {
     "name": "stdout",
     "output_type": "stream",
     "text": [
      "Debug: y_true shape: (40,), pred_proba shape: (40,)\n",
      "Debug: y_true unique values: [0. 1.]\n",
      "Debug: y_true shape: (40,), pred_proba shape: (40,)\n",
      "Debug: y_true unique values: [0. 1.]\n",
      "Debug: y_true shape: (40,), pred_proba shape: (40,)\n",
      "Debug: y_true unique values: [0. 1.]\n",
      "Debug: y_true shape: (40,), pred_proba shape: (40,)\n",
      "Debug: y_true unique values: [0. 1.]\n",
      "Debug: y_true shape: (40,), pred_proba shape: (40,)\n",
      "Debug: y_true unique values: [0. 1.]\n",
      "Logistic probe auc: 1.0, C: 1000\n",
      "train X shape: torch.Size([160, 4096]) train y shape: torch.Size([160, 1]) val X shape: torch.Size([40, 4096]) val y shape: torch.Size([40, 1])\n",
      "Training logistic regression\n",
      "Debug: y_true shape: (40,), pred_proba shape: (40,)\n",
      "Debug: y_true unique values: [0. 1.]\n",
      "Debug: y_true shape: (40,), pred_proba shape: (40,)\n",
      "Debug: y_true unique values: [0. 1.]\n",
      "Debug: y_true shape: (40,), pred_proba shape: (40,)\n",
      "Debug: y_true unique values: [0. 1.]\n",
      "Debug: y_true shape: (40,), pred_proba shape: (40,)\n",
      "Debug: y_true unique values: [0. 1.]\n",
      "Debug: y_true shape: (40,), pred_proba shape: (40,)\n",
      "Debug: y_true unique values: [0. 1.]\n",
      "Debug: y_true shape: (40,), pred_proba shape: (40,)\n",
      "Debug: y_true unique values: [0. 1.]\n",
      "Logistic probe auc: 1.0, C: 1000\n",
      "train X shape: torch.Size([160, 4096]) train y shape: torch.Size([160, 1]) val X shape: torch.Size([40, 4096]) val y shape: torch.Size([40, 1])\n",
      "Training logistic regression\n",
      "Debug: y_true shape: (40,), pred_proba shape: (40,)\n",
      "Debug: y_true unique values: [0. 1.]\n",
      "Debug: y_true shape: (40,), pred_proba shape: (40,)\n",
      "Debug: y_true unique values: [0. 1.]\n",
      "Debug: y_true shape: (40,), pred_proba shape: (40,)\n",
      "Debug: y_true unique values: [0. 1.]\n",
      "Debug: y_true shape: (40,), pred_proba shape: (40,)\n",
      "Debug: y_true unique values: [0. 1.]\n"
     ]
    },
    {
     "name": "stderr",
     "output_type": "stream",
     "text": []
    },
    {
     "name": "stdout",
     "output_type": "stream",
     "text": [
      "Debug: y_true shape: (40,), pred_proba shape: (40,)\n",
      "Debug: y_true unique values: [0. 1.]\n",
      "Debug: y_true shape: (40,), pred_proba shape: (40,)\n",
      "Debug: y_true unique values: [0. 1.]\n",
      "Logistic probe auc: 1.0, C: 1000\n",
      "train X shape: torch.Size([160, 4096]) train y shape: torch.Size([160, 1]) val X shape: torch.Size([40, 4096]) val y shape: torch.Size([40, 1])\n",
      "Training logistic regression\n",
      "Debug: y_true shape: (40,), pred_proba shape: (40,)\n",
      "Debug: y_true unique values: [0. 1.]\n",
      "Debug: y_true shape: (40,), pred_proba shape: (40,)\n",
      "Debug: y_true unique values: [0. 1.]\n",
      "Debug: y_true shape: (40,), pred_proba shape: (40,)\n",
      "Debug: y_true unique values: [0. 1.]\n",
      "Debug: y_true shape: (40,), pred_proba shape: (40,)\n",
      "Debug: y_true unique values: [0. 1.]\n",
      "Debug: y_true shape: (40,), pred_proba shape: (40,)\n",
      "Debug: y_true unique values: [0. 1.]\n",
      "Debug: y_true shape: (40,), pred_proba shape: (40,)\n",
      "Debug: y_true unique values: [0. 1.]\n",
      "Logistic probe auc: 1.0, C: 1000\n",
      "train X shape: torch.Size([160, 4096]) train y shape: torch.Size([160, 1]) val X shape: torch.Size([40, 4096]) val y shape: torch.Size([40, 1])\n",
      "Training logistic regression\n",
      "Debug: y_true shape: (40,), pred_proba shape: (40,)\n",
      "Debug: y_true unique values: [0. 1.]\n",
      "Debug: y_true shape: (40,), pred_proba shape: (40,)\n",
      "Debug: y_true unique values: [0. 1.]\n",
      "Debug: y_true shape: (40,), pred_proba shape: (40,)\n",
      "Debug: y_true unique values: [0. 1.]\n",
      "Debug: y_true shape: (40,), pred_proba shape: (40,)\n",
      "Debug: y_true unique values: [0. 1.]\n",
      "Debug: y_true shape: (40,), pred_proba shape: (40,)\n",
      "Debug: y_true unique values: [0. 1.]\n",
      "Debug: y_true shape: (40,), pred_proba shape: (40,)\n",
      "Debug: y_true unique values: [0. 1.]\n",
      "Logistic probe auc: 1.0, C: 1000\n",
      "train X shape: torch.Size([160, 4096]) train y shape: torch.Size([160, 1]) val X shape: torch.Size([40, 4096]) val y shape: torch.Size([40, 1])\n",
      "Training logistic regression\n"
     ]
    },
    {
     "name": "stderr",
     "output_type": "stream",
     "text": []
    },
    {
     "name": "stdout",
     "output_type": "stream",
     "text": [
      "Debug: y_true shape: (40,), pred_proba shape: (40,)\n",
      "Debug: y_true unique values: [0. 1.]\n",
      "Debug: y_true shape: (40,), pred_proba shape: (40,)\n",
      "Debug: y_true unique values: [0. 1.]\n",
      "Debug: y_true shape: (40,), pred_proba shape: (40,)\n",
      "Debug: y_true unique values: [0. 1.]\n",
      "Debug: y_true shape: (40,), pred_proba shape: (40,)\n",
      "Debug: y_true unique values: [0. 1.]\n",
      "Debug: y_true shape: (40,), pred_proba shape: (40,)\n",
      "Debug: y_true unique values: [0. 1.]\n",
      "Debug: y_true shape: (40,), pred_proba shape: (40,)\n",
      "Debug: y_true unique values: [0. 1.]\n",
      "Logistic probe auc: 1.0, C: 1000\n",
      "train X shape: torch.Size([160, 4096]) train y shape: torch.Size([160, 1]) val X shape: torch.Size([40, 4096]) val y shape: torch.Size([40, 1])\n",
      "Training logistic regression\n",
      "Debug: y_true shape: (40,), pred_proba shape: (40,)\n",
      "Debug: y_true unique values: [0. 1.]\n",
      "Debug: y_true shape: (40,), pred_proba shape: (40,)\n",
      "Debug: y_true unique values: [0. 1.]\n",
      "Debug: y_true shape: (40,), pred_proba shape: (40,)\n",
      "Debug: y_true unique values: [0. 1.]\n",
      "Debug: y_true shape: (40,), pred_proba shape: (40,)\n",
      "Debug: y_true unique values: [0. 1.]\n",
      "Debug: y_true shape: (40,), pred_proba shape: (40,)\n",
      "Debug: y_true unique values: [0. 1.]\n",
      "Debug: y_true shape: (40,), pred_proba shape: (40,)\n",
      "Debug: y_true unique values: [0. 1.]\n",
      "Logistic probe auc: 1.0, C: 1000\n",
      "train X shape: torch.Size([160, 4096]) train y shape: torch.Size([160, 1]) val X shape: torch.Size([40, 4096]) val y shape: torch.Size([40, 1])\n",
      "Training logistic regression\n",
      "Debug: y_true shape: (40,), pred_proba shape: (40,)\n",
      "Debug: y_true unique values: [0. 1.]\n",
      "Debug: y_true shape: (40,), pred_proba shape: (40,)\n",
      "Debug: y_true unique values: [0. 1.]\n"
     ]
    },
    {
     "name": "stderr",
     "output_type": "stream",
     "text": []
    },
    {
     "name": "stdout",
     "output_type": "stream",
     "text": [
      "Debug: y_true shape: (40,), pred_proba shape: (40,)\n",
      "Debug: y_true unique values: [0. 1.]\n",
      "Debug: y_true shape: (40,), pred_proba shape: (40,)\n",
      "Debug: y_true unique values: [0. 1.]\n",
      "Debug: y_true shape: (40,), pred_proba shape: (40,)\n",
      "Debug: y_true unique values: [0. 1.]\n",
      "Debug: y_true shape: (40,), pred_proba shape: (40,)\n",
      "Debug: y_true unique values: [0. 1.]\n",
      "Logistic probe auc: 1.0, C: 1000\n",
      "train X shape: torch.Size([160, 4096]) train y shape: torch.Size([160, 1]) val X shape: torch.Size([40, 4096]) val y shape: torch.Size([40, 1])\n",
      "Training logistic regression\n",
      "Debug: y_true shape: (40,), pred_proba shape: (40,)\n",
      "Debug: y_true unique values: [0. 1.]\n",
      "Debug: y_true shape: (40,), pred_proba shape: (40,)\n",
      "Debug: y_true unique values: [0. 1.]\n",
      "Debug: y_true shape: (40,), pred_proba shape: (40,)\n",
      "Debug: y_true unique values: [0. 1.]\n",
      "Debug: y_true shape: (40,), pred_proba shape: (40,)\n",
      "Debug: y_true unique values: [0. 1.]\n",
      "Debug: y_true shape: (40,), pred_proba shape: (40,)\n",
      "Debug: y_true unique values: [0. 1.]\n",
      "Debug: y_true shape: (40,), pred_proba shape: (40,)\n",
      "Debug: y_true unique values: [0. 1.]\n",
      "Logistic probe auc: 1.0, C: 1000\n",
      "train X shape: torch.Size([160, 4096]) train y shape: torch.Size([160, 1]) val X shape: torch.Size([40, 4096]) val y shape: torch.Size([40, 1])\n",
      "Training logistic regression\n",
      "Debug: y_true shape: (40,), pred_proba shape: (40,)\n",
      "Debug: y_true unique values: [0. 1.]\n",
      "Debug: y_true shape: (40,), pred_proba shape: (40,)\n",
      "Debug: y_true unique values: [0. 1.]\n",
      "Debug: y_true shape: (40,), pred_proba shape: (40,)\n",
      "Debug: y_true unique values: [0. 1.]\n",
      "Debug: y_true shape: (40,), pred_proba shape: (40,)\n",
      "Debug: y_true unique values: [0. 1.]\n",
      "Debug: y_true shape: (40,), pred_proba shape: (40,)\n",
      "Debug: y_true unique values: [0. 1.]\n"
     ]
    },
    {
     "name": "stderr",
     "output_type": "stream",
     "text": []
    },
    {
     "name": "stdout",
     "output_type": "stream",
     "text": [
      "Debug: y_true shape: (40,), pred_proba shape: (40,)\n",
      "Debug: y_true unique values: [0. 1.]\n",
      "Logistic probe auc: 1.0, C: 1000\n",
      "train X shape: torch.Size([160, 4096]) train y shape: torch.Size([160, 1]) val X shape: torch.Size([40, 4096]) val y shape: torch.Size([40, 1])\n",
      "Training logistic regression\n",
      "Debug: y_true shape: (40,), pred_proba shape: (40,)\n",
      "Debug: y_true unique values: [0. 1.]\n",
      "Debug: y_true shape: (40,), pred_proba shape: (40,)\n",
      "Debug: y_true unique values: [0. 1.]\n",
      "Debug: y_true shape: (40,), pred_proba shape: (40,)\n",
      "Debug: y_true unique values: [0. 1.]\n",
      "Debug: y_true shape: (40,), pred_proba shape: (40,)\n",
      "Debug: y_true unique values: [0. 1.]\n",
      "Debug: y_true shape: (40,), pred_proba shape: (40,)\n",
      "Debug: y_true unique values: [0. 1.]\n",
      "Debug: y_true shape: (40,), pred_proba shape: (40,)\n",
      "Debug: y_true unique values: [0. 1.]\n",
      "Logistic probe auc: 1.0, C: 1000\n",
      "train X shape: torch.Size([160, 4096]) train y shape: torch.Size([160, 1]) val X shape: torch.Size([40, 4096]) val y shape: torch.Size([40, 1])\n",
      "Training logistic regression\n",
      "Debug: y_true shape: (40,), pred_proba shape: (40,)\n",
      "Debug: y_true unique values: [0. 1.]\n",
      "Debug: y_true shape: (40,), pred_proba shape: (40,)\n",
      "Debug: y_true unique values: [0. 1.]\n",
      "Debug: y_true shape: (40,), pred_proba shape: (40,)\n",
      "Debug: y_true unique values: [0. 1.]\n",
      "Debug: y_true shape: (40,), pred_proba shape: (40,)\n",
      "Debug: y_true unique values: [0. 1.]\n",
      "Debug: y_true shape: (40,), pred_proba shape: (40,)\n",
      "Debug: y_true unique values: [0. 1.]\n",
      "Debug: y_true shape: (40,), pred_proba shape: (40,)\n",
      "Debug: y_true unique values: [0. 1.]\n",
      "Logistic probe auc: 1.0, C: 1000\n",
      "train X shape: torch.Size([160, 4096]) train y shape: torch.Size([160, 1]) val X shape: torch.Size([40, 4096]) val y shape: torch.Size([40, 1])\n",
      "Training logistic regression\n",
      "Debug: y_true shape: (40,), pred_proba shape: (40,)\n",
      "Debug: y_true unique values: [0. 1.]\n",
      "Debug: y_true shape: (40,), pred_proba shape: (40,)\n",
      "Debug: y_true unique values: [0. 1.]\n"
     ]
    },
    {
     "name": "stderr",
     "output_type": "stream",
     "text": []
    },
    {
     "name": "stdout",
     "output_type": "stream",
     "text": [
      "Debug: y_true shape: (40,), pred_proba shape: (40,)\n",
      "Debug: y_true unique values: [0. 1.]\n",
      "Debug: y_true shape: (40,), pred_proba shape: (40,)\n",
      "Debug: y_true unique values: [0. 1.]\n",
      "Debug: y_true shape: (40,), pred_proba shape: (40,)\n",
      "Debug: y_true unique values: [0. 1.]\n",
      "Debug: y_true shape: (40,), pred_proba shape: (40,)\n",
      "Debug: y_true unique values: [0. 1.]\n",
      "Logistic probe auc: 1.0, C: 1000\n",
      "train X shape: torch.Size([160, 4096]) train y shape: torch.Size([160, 1]) val X shape: torch.Size([40, 4096]) val y shape: torch.Size([40, 1])\n",
      "Training logistic regression\n",
      "Debug: y_true shape: (40,), pred_proba shape: (40,)\n",
      "Debug: y_true unique values: [0. 1.]\n",
      "Debug: y_true shape: (40,), pred_proba shape: (40,)\n",
      "Debug: y_true unique values: [0. 1.]\n",
      "Debug: y_true shape: (40,), pred_proba shape: (40,)\n",
      "Debug: y_true unique values: [0. 1.]\n",
      "Debug: y_true shape: (40,), pred_proba shape: (40,)\n",
      "Debug: y_true unique values: [0. 1.]\n",
      "Debug: y_true shape: (40,), pred_proba shape: (40,)\n",
      "Debug: y_true unique values: [0. 1.]\n",
      "Debug: y_true shape: (40,), pred_proba shape: (40,)\n",
      "Debug: y_true unique values: [0. 1.]\n",
      "Logistic probe auc: 1.0, C: 1000\n",
      "train X shape: torch.Size([160, 4096]) train y shape: torch.Size([160, 1]) val X shape: torch.Size([40, 4096]) val y shape: torch.Size([40, 1])\n",
      "Training logistic regression\n",
      "Debug: y_true shape: (40,), pred_proba shape: (40,)\n",
      "Debug: y_true unique values: [0. 1.]\n",
      "Debug: y_true shape: (40,), pred_proba shape: (40,)\n",
      "Debug: y_true unique values: [0. 1.]\n",
      "Debug: y_true shape: (40,), pred_proba shape: (40,)\n",
      "Debug: y_true unique values: [0. 1.]\n",
      "Debug: y_true shape: (40,), pred_proba shape: (40,)\n",
      "Debug: y_true unique values: [0. 1.]\n",
      "Debug: y_true shape: (40,), pred_proba shape: (40,)\n",
      "Debug: y_true unique values: [0. 1.]\n",
      "Debug: y_true shape: (40,), pred_proba shape: (40,)\n",
      "Debug: y_true unique values: [0. 1.]\n",
      "Logistic probe auc: 1.0, C: 1000\n",
      "train X shape: torch.Size([160, 4096]) train y shape: torch.Size([160, 1]) val X shape: torch.Size([40, 4096]) val y shape: torch.Size([40, 1])\n",
      "Training logistic regression\n",
      "Debug: y_true shape: (40,), pred_proba shape: (40,)\n",
      "Debug: y_true unique values: [0. 1.]\n"
     ]
    },
    {
     "name": "stderr",
     "output_type": "stream",
     "text": []
    },
    {
     "name": "stdout",
     "output_type": "stream",
     "text": [
      "Debug: y_true shape: (40,), pred_proba shape: (40,)\n",
      "Debug: y_true unique values: [0. 1.]\n",
      "Debug: y_true shape: (40,), pred_proba shape: (40,)\n",
      "Debug: y_true unique values: [0. 1.]\n",
      "Debug: y_true shape: (40,), pred_proba shape: (40,)\n",
      "Debug: y_true unique values: [0. 1.]\n",
      "Debug: y_true shape: (40,), pred_proba shape: (40,)\n",
      "Debug: y_true unique values: [0. 1.]\n",
      "Debug: y_true shape: (40,), pred_proba shape: (40,)\n",
      "Debug: y_true unique values: [0. 1.]\n",
      "Logistic probe auc: 1.0, C: 1000\n",
      "train X shape: torch.Size([160, 4096]) train y shape: torch.Size([160, 1]) val X shape: torch.Size([40, 4096]) val y shape: torch.Size([40, 1])\n",
      "Training logistic regression\n",
      "Debug: y_true shape: (40,), pred_proba shape: (40,)\n",
      "Debug: y_true unique values: [0. 1.]\n",
      "Debug: y_true shape: (40,), pred_proba shape: (40,)\n",
      "Debug: y_true unique values: [0. 1.]\n",
      "Debug: y_true shape: (40,), pred_proba shape: (40,)\n",
      "Debug: y_true unique values: [0. 1.]\n",
      "Debug: y_true shape: (40,), pred_proba shape: (40,)\n",
      "Debug: y_true unique values: [0. 1.]\n",
      "Debug: y_true shape: (40,), pred_proba shape: (40,)\n",
      "Debug: y_true unique values: [0. 1.]\n",
      "Debug: y_true shape: (40,), pred_proba shape: (40,)\n",
      "Debug: y_true unique values: [0. 1.]\n",
      "Logistic probe auc: 1.0, C: 1000\n",
      "train X shape: torch.Size([160, 4096]) train y shape: torch.Size([160, 1]) val X shape: torch.Size([40, 4096]) val y shape: torch.Size([40, 1])\n",
      "Training logistic regression\n",
      "Debug: y_true shape: (40,), pred_proba shape: (40,)\n",
      "Debug: y_true unique values: [0. 1.]\n",
      "Debug: y_true shape: (40,), pred_proba shape: (40,)\n",
      "Debug: y_true unique values: [0. 1.]\n",
      "Debug: y_true shape: (40,), pred_proba shape: (40,)\n",
      "Debug: y_true unique values: [0. 1.]\n",
      "Debug: y_true shape: (40,), pred_proba shape: (40,)\n",
      "Debug: y_true unique values: [0. 1.]\n",
      "Debug: y_true shape: (40,), pred_proba shape: (40,)\n",
      "Debug: y_true unique values: [0. 1.]\n"
     ]
    },
    {
     "name": "stderr",
     "output_type": "stream",
     "text": []
    },
    {
     "name": "stdout",
     "output_type": "stream",
     "text": [
      "Debug: y_true shape: (40,), pred_proba shape: (40,)\n",
      "Debug: y_true unique values: [0. 1.]\n",
      "Logistic probe auc: 1.0, C: 1000\n",
      "train X shape: torch.Size([160, 4096]) train y shape: torch.Size([160, 1]) val X shape: torch.Size([40, 4096]) val y shape: torch.Size([40, 1])\n",
      "Training logistic regression\n",
      "Debug: y_true shape: (40,), pred_proba shape: (40,)\n",
      "Debug: y_true unique values: [0. 1.]\n",
      "Debug: y_true shape: (40,), pred_proba shape: (40,)\n",
      "Debug: y_true unique values: [0. 1.]\n",
      "Debug: y_true shape: (40,), pred_proba shape: (40,)\n",
      "Debug: y_true unique values: [0. 1.]\n",
      "Debug: y_true shape: (40,), pred_proba shape: (40,)\n",
      "Debug: y_true unique values: [0. 1.]\n",
      "Debug: y_true shape: (40,), pred_proba shape: (40,)\n",
      "Debug: y_true unique values: [0. 1.]\n",
      "Debug: y_true shape: (40,), pred_proba shape: (40,)\n",
      "Debug: y_true unique values: [0. 1.]\n",
      "Logistic probe auc: 1.0, C: 1000\n",
      "train X shape: torch.Size([160, 4096]) train y shape: torch.Size([160, 1]) val X shape: torch.Size([40, 4096]) val y shape: torch.Size([40, 1])\n",
      "Training logistic regression\n",
      "Debug: y_true shape: (40,), pred_proba shape: (40,)\n",
      "Debug: y_true unique values: [0. 1.]\n",
      "Debug: y_true shape: (40,), pred_proba shape: (40,)\n",
      "Debug: y_true unique values: [0. 1.]\n",
      "Debug: y_true shape: (40,), pred_proba shape: (40,)\n",
      "Debug: y_true unique values: [0. 1.]\n",
      "Debug: y_true shape: (40,), pred_proba shape: (40,)\n",
      "Debug: y_true unique values: [0. 1.]\n",
      "Debug: y_true shape: (40,), pred_proba shape: (40,)\n",
      "Debug: y_true unique values: [0. 1.]\n",
      "Debug: y_true shape: (40,), pred_proba shape: (40,)\n",
      "Debug: y_true unique values: [0. 1.]\n",
      "Logistic probe auc: 1.0, C: 1000\n",
      "train X shape: torch.Size([160, 4096]) train y shape: torch.Size([160, 1]) val X shape: torch.Size([40, 4096]) val y shape: torch.Size([40, 1])\n",
      "Training logistic regression\n",
      "Debug: y_true shape: (40,), pred_proba shape: (40,)\n",
      "Debug: y_true unique values: [0. 1.]\n",
      "Debug: y_true shape: (40,), pred_proba shape: (40,)\n",
      "Debug: y_true unique values: [0. 1.]\n"
     ]
    },
    {
     "name": "stderr",
     "output_type": "stream",
     "text": []
    },
    {
     "name": "stdout",
     "output_type": "stream",
     "text": [
      "Debug: y_true shape: (40,), pred_proba shape: (40,)\n",
      "Debug: y_true unique values: [0. 1.]\n",
      "Debug: y_true shape: (40,), pred_proba shape: (40,)\n",
      "Debug: y_true unique values: [0. 1.]\n",
      "Debug: y_true shape: (40,), pred_proba shape: (40,)\n",
      "Debug: y_true unique values: [0. 1.]\n",
      "Debug: y_true shape: (40,), pred_proba shape: (40,)\n",
      "Debug: y_true unique values: [0. 1.]\n",
      "Logistic probe auc: 1.0, C: 1000\n",
      "train X shape: torch.Size([160, 4096]) train y shape: torch.Size([160, 1]) val X shape: torch.Size([40, 4096]) val y shape: torch.Size([40, 1])\n",
      "Training logistic regression\n",
      "Debug: y_true shape: (40,), pred_proba shape: (40,)\n",
      "Debug: y_true unique values: [0. 1.]\n",
      "Debug: y_true shape: (40,), pred_proba shape: (40,)\n",
      "Debug: y_true unique values: [0. 1.]\n",
      "Debug: y_true shape: (40,), pred_proba shape: (40,)\n",
      "Debug: y_true unique values: [0. 1.]\n",
      "Debug: y_true shape: (40,), pred_proba shape: (40,)\n",
      "Debug: y_true unique values: [0. 1.]\n",
      "Debug: y_true shape: (40,), pred_proba shape: (40,)\n",
      "Debug: y_true unique values: [0. 1.]\n",
      "Debug: y_true shape: (40,), pred_proba shape: (40,)\n",
      "Debug: y_true unique values: [0. 1.]\n",
      "Logistic probe auc: 1.0, C: 1000\n",
      "train X shape: torch.Size([160, 4096]) train y shape: torch.Size([160, 1]) val X shape: torch.Size([40, 4096]) val y shape: torch.Size([40, 1])\n",
      "Training logistic regression\n",
      "Debug: y_true shape: (40,), pred_proba shape: (40,)\n",
      "Debug: y_true unique values: [0. 1.]\n",
      "Debug: y_true shape: (40,), pred_proba shape: (40,)\n",
      "Debug: y_true unique values: [0. 1.]\n",
      "Debug: y_true shape: (40,), pred_proba shape: (40,)\n",
      "Debug: y_true unique values: [0. 1.]\n",
      "Debug: y_true shape: (40,), pred_proba shape: (40,)\n",
      "Debug: y_true unique values: [0. 1.]\n"
     ]
    },
    {
     "name": "stderr",
     "output_type": "stream",
     "text": [
      "100%|██████████| 31/31 [00:02<00:00, 11.65it/s]\n"
     ]
    },
    {
     "name": "stdout",
     "output_type": "stream",
     "text": [
      "Debug: y_true shape: (40,), pred_proba shape: (40,)\n",
      "Debug: y_true unique values: [0. 1.]\n",
      "Debug: y_true shape: (40,), pred_proba shape: (40,)\n",
      "Debug: y_true unique values: [0. 1.]\n",
      "Logistic probe auc: 1.0, C: 1000\n",
      "train X shape: torch.Size([160, 4096]) train y shape: torch.Size([160, 1]) val X shape: torch.Size([40, 4096]) val y shape: torch.Size([40, 1])\n",
      "Training logistic regression\n",
      "Debug: y_true shape: (40,), pred_proba shape: (40,)\n",
      "Debug: y_true unique values: [0. 1.]\n",
      "Debug: y_true shape: (40,), pred_proba shape: (40,)\n",
      "Debug: y_true unique values: [0. 1.]\n",
      "Debug: y_true shape: (40,), pred_proba shape: (40,)\n",
      "Debug: y_true unique values: [0. 1.]\n",
      "Debug: y_true shape: (40,), pred_proba shape: (40,)\n",
      "Debug: y_true unique values: [0. 1.]\n",
      "Debug: y_true shape: (40,), pred_proba shape: (40,)\n",
      "Debug: y_true unique values: [0. 1.]\n",
      "Debug: y_true shape: (40,), pred_proba shape: (40,)\n",
      "Debug: y_true unique values: [0. 1.]\n",
      "Logistic probe auc: 1.0, C: 1000\n",
      "Computing signs\n"
     ]
    },
    {
     "name": "stderr",
     "output_type": "stream",
     "text": [
      "100%|██████████| 31/31 [00:00<00:00, 20570.07it/s]\n",
      " 50%|█████     | 1/2 [00:14<00:14, 14.15s/it]"
     ]
    },
    {
     "name": "stdout",
     "output_type": "stream",
     "text": [
      "n_components: 5\n",
      "Hidden layers KA: [-1, -2, -3, -4, -5, -6, -7, -8, -9, -10, -11, -12, -13, -14, -15, -16, -17, -18, -19, -20, -21, -22, -23, -24, -25, -26, -27, -28, -29, -30, -31]\n",
      "Hidden layers: [-1, -2, -3, -4, -5, -6, -7, -8, -9, -10, -11, -12, -13, -14, -15, -16, -17, -18, -19, -20, -21, -22, -23, -24, -25, -26, -27, -28, -29, -30, -31]\n",
      "\n",
      "Controller hyperparameters:\n",
      "control_method       : logistic\n",
      "rfm_iters            : 8\n",
      "forward_batch_size   : 2\n",
      "M_batch_size         : 2048\n",
      "n_components         : 5\n",
      "calibrate            : False\n",
      "\n",
      "Getting activations from forward passes\n"
     ]
    },
    {
     "name": "stderr",
     "output_type": "stream",
     "text": [
      "100%|██████████| 80/80 [00:09<00:00,  8.79it/s]\n"
     ]
    },
    {
     "name": "stdout",
     "output_type": "stream",
     "text": [
      "Getting activations from forward passes\n"
     ]
    },
    {
     "name": "stderr",
     "output_type": "stream",
     "text": [
      "100%|██████████| 20/20 [00:02<00:00,  8.80it/s]\n"
     ]
    },
    {
     "name": "stdout",
     "output_type": "stream",
     "text": [
      "train X shape: torch.Size([160, 4096]) train y shape: torch.Size([160, 1]) val X shape: torch.Size([40, 4096]) val y shape: torch.Size([40, 1])\n",
      "Training logistic regression\n",
      "Debug: y_true shape: (40,), pred_proba shape: (40,)\n",
      "Debug: y_true unique values: [0. 1.]\n",
      "Debug: y_true shape: (40,), pred_proba shape: (40,)\n",
      "Debug: y_true unique values: [0. 1.]\n",
      "Debug: y_true shape: (40,), pred_proba shape: (40,)\n",
      "Debug: y_true unique values: [0. 1.]\n",
      "Debug: y_true shape: (40,), pred_proba shape: (40,)\n",
      "Debug: y_true unique values: [0. 1.]\n",
      "Debug: y_true shape: (40,), pred_proba shape: (40,)\n",
      "Debug: y_true unique values: [0. 1.]\n",
      "Debug: y_true shape: (40,), pred_proba shape: (40,)\n",
      "Debug: y_true unique values: [0. 1.]\n",
      "Logistic probe auc: 1.0, C: 1000\n",
      "train X shape: torch.Size([160, 4096]) train y shape: torch.Size([160, 1]) val X shape: torch.Size([40, 4096]) val y shape: torch.Size([40, 1])\n",
      "Training logistic regression\n"
     ]
    },
    {
     "name": "stderr",
     "output_type": "stream",
     "text": []
    },
    {
     "name": "stdout",
     "output_type": "stream",
     "text": [
      "Debug: y_true shape: (40,), pred_proba shape: (40,)\n",
      "Debug: y_true unique values: [0. 1.]\n",
      "Debug: y_true shape: (40,), pred_proba shape: (40,)\n",
      "Debug: y_true unique values: [0. 1.]\n",
      "Debug: y_true shape: (40,), pred_proba shape: (40,)\n",
      "Debug: y_true unique values: [0. 1.]\n",
      "Debug: y_true shape: (40,), pred_proba shape: (40,)\n",
      "Debug: y_true unique values: [0. 1.]\n",
      "Debug: y_true shape: (40,), pred_proba shape: (40,)\n",
      "Debug: y_true unique values: [0. 1.]\n",
      "Debug: y_true shape: (40,), pred_proba shape: (40,)\n",
      "Debug: y_true unique values: [0. 1.]\n",
      "Logistic probe auc: 1.0, C: 1000\n",
      "train X shape: torch.Size([160, 4096]) train y shape: torch.Size([160, 1]) val X shape: torch.Size([40, 4096]) val y shape: torch.Size([40, 1])\n",
      "Training logistic regression\n",
      "Debug: y_true shape: (40,), pred_proba shape: (40,)\n",
      "Debug: y_true unique values: [0. 1.]\n",
      "Debug: y_true shape: (40,), pred_proba shape: (40,)\n",
      "Debug: y_true unique values: [0. 1.]\n"
     ]
    },
    {
     "name": "stderr",
     "output_type": "stream",
     "text": []
    },
    {
     "name": "stdout",
     "output_type": "stream",
     "text": [
      "Debug: y_true shape: (40,), pred_proba shape: (40,)\n",
      "Debug: y_true unique values: [0. 1.]\n",
      "Debug: y_true shape: (40,), pred_proba shape: (40,)\n",
      "Debug: y_true unique values: [0. 1.]\n",
      "Debug: y_true shape: (40,), pred_proba shape: (40,)\n",
      "Debug: y_true unique values: [0. 1.]\n",
      "Debug: y_true shape: (40,), pred_proba shape: (40,)\n",
      "Debug: y_true unique values: [0. 1.]\n",
      "Logistic probe auc: 1.0, C: 1000\n",
      "train X shape: torch.Size([160, 4096]) train y shape: torch.Size([160, 1]) val X shape: torch.Size([40, 4096]) val y shape: torch.Size([40, 1])\n",
      "Training logistic regression\n",
      "Debug: y_true shape: (40,), pred_proba shape: (40,)\n",
      "Debug: y_true unique values: [0. 1.]\n",
      "Debug: y_true shape: (40,), pred_proba shape: (40,)\n",
      "Debug: y_true unique values: [0. 1.]\n",
      "Debug: y_true shape: (40,), pred_proba shape: (40,)\n",
      "Debug: y_true unique values: [0. 1.]\n",
      "Debug: y_true shape: (40,), pred_proba shape: (40,)\n",
      "Debug: y_true unique values: [0. 1.]\n"
     ]
    },
    {
     "name": "stderr",
     "output_type": "stream",
     "text": []
    },
    {
     "name": "stdout",
     "output_type": "stream",
     "text": [
      "Debug: y_true shape: (40,), pred_proba shape: (40,)\n",
      "Debug: y_true unique values: [0. 1.]\n",
      "Debug: y_true shape: (40,), pred_proba shape: (40,)\n",
      "Debug: y_true unique values: [0. 1.]\n",
      "Logistic probe auc: 1.0, C: 1000\n",
      "train X shape: torch.Size([160, 4096]) train y shape: torch.Size([160, 1]) val X shape: torch.Size([40, 4096]) val y shape: torch.Size([40, 1])\n",
      "Training logistic regression\n",
      "Debug: y_true shape: (40,), pred_proba shape: (40,)\n",
      "Debug: y_true unique values: [0. 1.]\n",
      "Debug: y_true shape: (40,), pred_proba shape: (40,)\n",
      "Debug: y_true unique values: [0. 1.]\n",
      "Debug: y_true shape: (40,), pred_proba shape: (40,)\n",
      "Debug: y_true unique values: [0. 1.]\n",
      "Debug: y_true shape: (40,), pred_proba shape: (40,)\n",
      "Debug: y_true unique values: [0. 1.]\n",
      "Debug: y_true shape: (40,), pred_proba shape: (40,)\n",
      "Debug: y_true unique values: [0. 1.]\n",
      "Debug: y_true shape: (40,), pred_proba shape: (40,)\n",
      "Debug: y_true unique values: [0. 1.]\n"
     ]
    },
    {
     "name": "stderr",
     "output_type": "stream",
     "text": []
    },
    {
     "name": "stdout",
     "output_type": "stream",
     "text": [
      "Logistic probe auc: 1.0, C: 1000\n",
      "train X shape: torch.Size([160, 4096]) train y shape: torch.Size([160, 1]) val X shape: torch.Size([40, 4096]) val y shape: torch.Size([40, 1])\n",
      "Training logistic regression\n",
      "Debug: y_true shape: (40,), pred_proba shape: (40,)\n",
      "Debug: y_true unique values: [0. 1.]\n",
      "Debug: y_true shape: (40,), pred_proba shape: (40,)\n",
      "Debug: y_true unique values: [0. 1.]\n",
      "Debug: y_true shape: (40,), pred_proba shape: (40,)\n",
      "Debug: y_true unique values: [0. 1.]\n",
      "Debug: y_true shape: (40,), pred_proba shape: (40,)\n",
      "Debug: y_true unique values: [0. 1.]\n",
      "Debug: y_true shape: (40,), pred_proba shape: (40,)\n",
      "Debug: y_true unique values: [0. 1.]\n",
      "Debug: y_true shape: (40,), pred_proba shape: (40,)\n",
      "Debug: y_true unique values: [0. 1.]\n",
      "Logistic probe auc: 1.0, C: 1000\n",
      "train X shape: torch.Size([160, 4096]) train y shape: torch.Size([160, 1]) val X shape: torch.Size([40, 4096]) val y shape: torch.Size([40, 1])\n",
      "Training logistic regression\n",
      "Debug: y_true shape: (40,), pred_proba shape: (40,)\n",
      "Debug: y_true unique values: [0. 1.]\n"
     ]
    },
    {
     "name": "stderr",
     "output_type": "stream",
     "text": []
    },
    {
     "name": "stdout",
     "output_type": "stream",
     "text": [
      "Debug: y_true shape: (40,), pred_proba shape: (40,)\n",
      "Debug: y_true unique values: [0. 1.]\n",
      "Debug: y_true shape: (40,), pred_proba shape: (40,)\n",
      "Debug: y_true unique values: [0. 1.]\n",
      "Debug: y_true shape: (40,), pred_proba shape: (40,)\n",
      "Debug: y_true unique values: [0. 1.]\n",
      "Debug: y_true shape: (40,), pred_proba shape: (40,)\n",
      "Debug: y_true unique values: [0. 1.]\n",
      "Debug: y_true shape: (40,), pred_proba shape: (40,)\n",
      "Debug: y_true unique values: [0. 1.]\n",
      "Logistic probe auc: 1.0, C: 1000\n",
      "train X shape: torch.Size([160, 4096]) train y shape: torch.Size([160, 1]) val X shape: torch.Size([40, 4096]) val y shape: torch.Size([40, 1])\n",
      "Training logistic regression\n",
      "Debug: y_true shape: (40,), pred_proba shape: (40,)\n",
      "Debug: y_true unique values: [0. 1.]\n",
      "Debug: y_true shape: (40,), pred_proba shape: (40,)\n",
      "Debug: y_true unique values: [0. 1.]\n"
     ]
    },
    {
     "name": "stderr",
     "output_type": "stream",
     "text": []
    },
    {
     "name": "stdout",
     "output_type": "stream",
     "text": [
      "Debug: y_true shape: (40,), pred_proba shape: (40,)\n",
      "Debug: y_true unique values: [0. 1.]\n",
      "Debug: y_true shape: (40,), pred_proba shape: (40,)\n",
      "Debug: y_true unique values: [0. 1.]\n",
      "Debug: y_true shape: (40,), pred_proba shape: (40,)\n",
      "Debug: y_true unique values: [0. 1.]\n",
      "Debug: y_true shape: (40,), pred_proba shape: (40,)\n",
      "Debug: y_true unique values: [0. 1.]\n",
      "Logistic probe auc: 1.0, C: 1000\n",
      "train X shape: torch.Size([160, 4096]) train y shape: torch.Size([160, 1]) val X shape: torch.Size([40, 4096]) val y shape: torch.Size([40, 1])\n",
      "Training logistic regression\n",
      "Debug: y_true shape: (40,), pred_proba shape: (40,)\n",
      "Debug: y_true unique values: [0. 1.]\n",
      "Debug: y_true shape: (40,), pred_proba shape: (40,)\n",
      "Debug: y_true unique values: [0. 1.]\n",
      "Debug: y_true shape: (40,), pred_proba shape: (40,)\n",
      "Debug: y_true unique values: [0. 1.]\n"
     ]
    },
    {
     "name": "stderr",
     "output_type": "stream",
     "text": []
    },
    {
     "name": "stdout",
     "output_type": "stream",
     "text": [
      "Debug: y_true shape: (40,), pred_proba shape: (40,)\n",
      "Debug: y_true unique values: [0. 1.]\n",
      "Debug: y_true shape: (40,), pred_proba shape: (40,)\n",
      "Debug: y_true unique values: [0. 1.]\n",
      "Debug: y_true shape: (40,), pred_proba shape: (40,)\n",
      "Debug: y_true unique values: [0. 1.]\n",
      "Logistic probe auc: 1.0, C: 1000\n",
      "train X shape: torch.Size([160, 4096]) train y shape: torch.Size([160, 1]) val X shape: torch.Size([40, 4096]) val y shape: torch.Size([40, 1])\n",
      "Training logistic regression\n",
      "Debug: y_true shape: (40,), pred_proba shape: (40,)\n",
      "Debug: y_true unique values: [0. 1.]\n",
      "Debug: y_true shape: (40,), pred_proba shape: (40,)\n",
      "Debug: y_true unique values: [0. 1.]\n",
      "Debug: y_true shape: (40,), pred_proba shape: (40,)\n",
      "Debug: y_true unique values: [0. 1.]\n",
      "Debug: y_true shape: (40,), pred_proba shape: (40,)\n",
      "Debug: y_true unique values: [0. 1.]\n"
     ]
    },
    {
     "name": "stderr",
     "output_type": "stream",
     "text": []
    },
    {
     "name": "stdout",
     "output_type": "stream",
     "text": [
      "Debug: y_true shape: (40,), pred_proba shape: (40,)\n",
      "Debug: y_true unique values: [0. 1.]\n",
      "Debug: y_true shape: (40,), pred_proba shape: (40,)\n",
      "Debug: y_true unique values: [0. 1.]\n",
      "Logistic probe auc: 1.0, C: 1000\n",
      "train X shape: torch.Size([160, 4096]) train y shape: torch.Size([160, 1]) val X shape: torch.Size([40, 4096]) val y shape: torch.Size([40, 1])\n",
      "Training logistic regression\n",
      "Debug: y_true shape: (40,), pred_proba shape: (40,)\n",
      "Debug: y_true unique values: [0. 1.]\n",
      "Debug: y_true shape: (40,), pred_proba shape: (40,)\n",
      "Debug: y_true unique values: [0. 1.]\n",
      "Debug: y_true shape: (40,), pred_proba shape: (40,)\n",
      "Debug: y_true unique values: [0. 1.]\n",
      "Debug: y_true shape: (40,), pred_proba shape: (40,)\n",
      "Debug: y_true unique values: [0. 1.]\n",
      "Debug: y_true shape: (40,), pred_proba shape: (40,)\n",
      "Debug: y_true unique values: [0. 1.]\n",
      "Debug: y_true shape: (40,), pred_proba shape: (40,)\n",
      "Debug: y_true unique values: [0. 1.]\n",
      "Logistic probe auc: 1.0, C: 1000\n",
      "train X shape: torch.Size([160, 4096]) train y shape: torch.Size([160, 1]) val X shape: torch.Size([40, 4096]) val y shape: torch.Size([40, 1])\n",
      "Training logistic regression\n"
     ]
    },
    {
     "name": "stderr",
     "output_type": "stream",
     "text": []
    },
    {
     "name": "stdout",
     "output_type": "stream",
     "text": [
      "Debug: y_true shape: (40,), pred_proba shape: (40,)\n",
      "Debug: y_true unique values: [0. 1.]\n",
      "Debug: y_true shape: (40,), pred_proba shape: (40,)\n",
      "Debug: y_true unique values: [0. 1.]\n",
      "Debug: y_true shape: (40,), pred_proba shape: (40,)\n",
      "Debug: y_true unique values: [0. 1.]\n",
      "Debug: y_true shape: (40,), pred_proba shape: (40,)\n",
      "Debug: y_true unique values: [0. 1.]\n",
      "Debug: y_true shape: (40,), pred_proba shape: (40,)\n",
      "Debug: y_true unique values: [0. 1.]\n",
      "Debug: y_true shape: (40,), pred_proba shape: (40,)\n",
      "Debug: y_true unique values: [0. 1.]\n",
      "Logistic probe auc: 1.0, C: 1000\n",
      "train X shape: torch.Size([160, 4096]) train y shape: torch.Size([160, 1]) val X shape: torch.Size([40, 4096]) val y shape: torch.Size([40, 1])\n",
      "Training logistic regression\n",
      "Debug: y_true shape: (40,), pred_proba shape: (40,)\n",
      "Debug: y_true unique values: [0. 1.]\n",
      "Debug: y_true shape: (40,), pred_proba shape: (40,)\n",
      "Debug: y_true unique values: [0. 1.]\n"
     ]
    },
    {
     "name": "stderr",
     "output_type": "stream",
     "text": []
    },
    {
     "name": "stdout",
     "output_type": "stream",
     "text": [
      "Debug: y_true shape: (40,), pred_proba shape: (40,)\n",
      "Debug: y_true unique values: [0. 1.]\n",
      "Debug: y_true shape: (40,), pred_proba shape: (40,)\n",
      "Debug: y_true unique values: [0. 1.]\n",
      "Debug: y_true shape: (40,), pred_proba shape: (40,)\n",
      "Debug: y_true unique values: [0. 1.]\n",
      "Debug: y_true shape: (40,), pred_proba shape: (40,)\n",
      "Debug: y_true unique values: [0. 1.]\n",
      "Logistic probe auc: 1.0, C: 1000\n",
      "train X shape: torch.Size([160, 4096]) train y shape: torch.Size([160, 1]) val X shape: torch.Size([40, 4096]) val y shape: torch.Size([40, 1])\n",
      "Training logistic regression\n",
      "Debug: y_true shape: (40,), pred_proba shape: (40,)\n",
      "Debug: y_true unique values: [0. 1.]\n",
      "Debug: y_true shape: (40,), pred_proba shape: (40,)\n",
      "Debug: y_true unique values: [0. 1.]\n",
      "Debug: y_true shape: (40,), pred_proba shape: (40,)\n",
      "Debug: y_true unique values: [0. 1.]\n",
      "Debug: y_true shape: (40,), pred_proba shape: (40,)\n",
      "Debug: y_true unique values: [0. 1.]\n",
      "Debug: y_true shape: (40,), pred_proba shape: (40,)\n",
      "Debug: y_true unique values: [0. 1.]\n"
     ]
    },
    {
     "name": "stderr",
     "output_type": "stream",
     "text": []
    },
    {
     "name": "stdout",
     "output_type": "stream",
     "text": [
      "Debug: y_true shape: (40,), pred_proba shape: (40,)\n",
      "Debug: y_true unique values: [0. 1.]\n",
      "Logistic probe auc: 1.0, C: 1000\n",
      "train X shape: torch.Size([160, 4096]) train y shape: torch.Size([160, 1]) val X shape: torch.Size([40, 4096]) val y shape: torch.Size([40, 1])\n",
      "Training logistic regression\n",
      "Debug: y_true shape: (40,), pred_proba shape: (40,)\n",
      "Debug: y_true unique values: [0. 1.]\n",
      "Debug: y_true shape: (40,), pred_proba shape: (40,)\n",
      "Debug: y_true unique values: [0. 1.]\n",
      "Debug: y_true shape: (40,), pred_proba shape: (40,)\n",
      "Debug: y_true unique values: [0. 1.]\n",
      "Debug: y_true shape: (40,), pred_proba shape: (40,)\n",
      "Debug: y_true unique values: [0. 1.]\n",
      "Debug: y_true shape: (40,), pred_proba shape: (40,)\n",
      "Debug: y_true unique values: [0. 1.]\n",
      "Debug: y_true shape: (40,), pred_proba shape: (40,)\n",
      "Debug: y_true unique values: [0. 1.]\n",
      "Logistic probe auc: 1.0, C: 1000\n",
      "train X shape: torch.Size([160, 4096]) train y shape: torch.Size([160, 1]) val X shape: torch.Size([40, 4096]) val y shape: torch.Size([40, 1])\n",
      "Training logistic regression\n",
      "Debug: y_true shape: (40,), pred_proba shape: (40,)\n",
      "Debug: y_true unique values: [0. 1.]\n",
      "Debug: y_true shape: (40,), pred_proba shape: (40,)\n",
      "Debug: y_true unique values: [0. 1.]\n"
     ]
    },
    {
     "name": "stderr",
     "output_type": "stream",
     "text": []
    },
    {
     "name": "stdout",
     "output_type": "stream",
     "text": [
      "Debug: y_true shape: (40,), pred_proba shape: (40,)\n",
      "Debug: y_true unique values: [0. 1.]\n",
      "Debug: y_true shape: (40,), pred_proba shape: (40,)\n",
      "Debug: y_true unique values: [0. 1.]\n",
      "Debug: y_true shape: (40,), pred_proba shape: (40,)\n",
      "Debug: y_true unique values: [0. 1.]\n",
      "Debug: y_true shape: (40,), pred_proba shape: (40,)\n",
      "Debug: y_true unique values: [0. 1.]\n",
      "Logistic probe auc: 1.0, C: 1000\n",
      "train X shape: torch.Size([160, 4096]) train y shape: torch.Size([160, 1]) val X shape: torch.Size([40, 4096]) val y shape: torch.Size([40, 1])\n",
      "Training logistic regression\n",
      "Debug: y_true shape: (40,), pred_proba shape: (40,)\n",
      "Debug: y_true unique values: [0. 1.]\n",
      "Debug: y_true shape: (40,), pred_proba shape: (40,)\n",
      "Debug: y_true unique values: [0. 1.]\n",
      "Debug: y_true shape: (40,), pred_proba shape: (40,)\n",
      "Debug: y_true unique values: [0. 1.]\n",
      "Debug: y_true shape: (40,), pred_proba shape: (40,)\n",
      "Debug: y_true unique values: [0. 1.]\n",
      "Debug: y_true shape: (40,), pred_proba shape: (40,)\n",
      "Debug: y_true unique values: [0. 1.]\n",
      "Debug: y_true shape: (40,), pred_proba shape: (40,)\n",
      "Debug: y_true unique values: [0. 1.]\n"
     ]
    },
    {
     "name": "stderr",
     "output_type": "stream",
     "text": []
    },
    {
     "name": "stdout",
     "output_type": "stream",
     "text": [
      "Logistic probe auc: 1.0, C: 1000\n",
      "train X shape: torch.Size([160, 4096]) train y shape: torch.Size([160, 1]) val X shape: torch.Size([40, 4096]) val y shape: torch.Size([40, 1])\n",
      "Training logistic regression\n",
      "Debug: y_true shape: (40,), pred_proba shape: (40,)\n",
      "Debug: y_true unique values: [0. 1.]\n",
      "Debug: y_true shape: (40,), pred_proba shape: (40,)\n",
      "Debug: y_true unique values: [0. 1.]\n",
      "Debug: y_true shape: (40,), pred_proba shape: (40,)\n",
      "Debug: y_true unique values: [0. 1.]\n",
      "Debug: y_true shape: (40,), pred_proba shape: (40,)\n",
      "Debug: y_true unique values: [0. 1.]\n",
      "Debug: y_true shape: (40,), pred_proba shape: (40,)\n",
      "Debug: y_true unique values: [0. 1.]\n",
      "Debug: y_true shape: (40,), pred_proba shape: (40,)\n",
      "Debug: y_true unique values: [0. 1.]\n",
      "Logistic probe auc: 1.0, C: 1000\n",
      "train X shape: torch.Size([160, 4096]) train y shape: torch.Size([160, 1]) val X shape: torch.Size([40, 4096]) val y shape: torch.Size([40, 1])\n",
      "Training logistic regression\n",
      "Debug: y_true shape: (40,), pred_proba shape: (40,)\n",
      "Debug: y_true unique values: [0. 1.]\n",
      "Debug: y_true shape: (40,), pred_proba shape: (40,)\n",
      "Debug: y_true unique values: [0. 1.]\n"
     ]
    },
    {
     "name": "stderr",
     "output_type": "stream",
     "text": []
    },
    {
     "name": "stdout",
     "output_type": "stream",
     "text": [
      "Debug: y_true shape: (40,), pred_proba shape: (40,)\n",
      "Debug: y_true unique values: [0. 1.]\n",
      "Debug: y_true shape: (40,), pred_proba shape: (40,)\n",
      "Debug: y_true unique values: [0. 1.]\n",
      "Debug: y_true shape: (40,), pred_proba shape: (40,)\n",
      "Debug: y_true unique values: [0. 1.]\n",
      "Debug: y_true shape: (40,), pred_proba shape: (40,)\n",
      "Debug: y_true unique values: [0. 1.]\n",
      "Logistic probe auc: 1.0, C: 1000\n",
      "train X shape: torch.Size([160, 4096]) train y shape: torch.Size([160, 1]) val X shape: torch.Size([40, 4096]) val y shape: torch.Size([40, 1])\n",
      "Training logistic regression\n",
      "Debug: y_true shape: (40,), pred_proba shape: (40,)\n",
      "Debug: y_true unique values: [0. 1.]\n",
      "Debug: y_true shape: (40,), pred_proba shape: (40,)\n",
      "Debug: y_true unique values: [0. 1.]\n",
      "Debug: y_true shape: (40,), pred_proba shape: (40,)\n",
      "Debug: y_true unique values: [0. 1.]\n",
      "Debug: y_true shape: (40,), pred_proba shape: (40,)\n",
      "Debug: y_true unique values: [0. 1.]\n",
      "Debug: y_true shape: (40,), pred_proba shape: (40,)\n",
      "Debug: y_true unique values: [0. 1.]\n",
      "Debug: y_true shape: (40,), pred_proba shape: (40,)\n",
      "Debug: y_true unique values: [0. 1.]\n",
      "Logistic probe auc: 1.0, C: 1000\n",
      "train X shape: torch.Size([160, 4096]) train y shape: torch.Size([160, 1]) val X shape: torch.Size([40, 4096]) val y shape: torch.Size([40, 1])\n",
      "Training logistic regression\n"
     ]
    },
    {
     "name": "stderr",
     "output_type": "stream",
     "text": []
    },
    {
     "name": "stdout",
     "output_type": "stream",
     "text": [
      "Debug: y_true shape: (40,), pred_proba shape: (40,)\n",
      "Debug: y_true unique values: [0. 1.]\n",
      "Debug: y_true shape: (40,), pred_proba shape: (40,)\n",
      "Debug: y_true unique values: [0. 1.]\n",
      "Debug: y_true shape: (40,), pred_proba shape: (40,)\n",
      "Debug: y_true unique values: [0. 1.]\n",
      "Debug: y_true shape: (40,), pred_proba shape: (40,)\n",
      "Debug: y_true unique values: [0. 1.]\n",
      "Debug: y_true shape: (40,), pred_proba shape: (40,)\n",
      "Debug: y_true unique values: [0. 1.]\n",
      "Debug: y_true shape: (40,), pred_proba shape: (40,)\n",
      "Debug: y_true unique values: [0. 1.]\n",
      "Logistic probe auc: 1.0, C: 1000\n",
      "train X shape: torch.Size([160, 4096]) train y shape: torch.Size([160, 1]) val X shape: torch.Size([40, 4096]) val y shape: torch.Size([40, 1])\n",
      "Training logistic regression\n",
      "Debug: y_true shape: (40,), pred_proba shape: (40,)\n",
      "Debug: y_true unique values: [0. 1.]\n",
      "Debug: y_true shape: (40,), pred_proba shape: (40,)\n",
      "Debug: y_true unique values: [0. 1.]\n",
      "Debug: y_true shape: (40,), pred_proba shape: (40,)\n",
      "Debug: y_true unique values: [0. 1.]\n",
      "Debug: y_true shape: (40,), pred_proba shape: (40,)\n",
      "Debug: y_true unique values: [0. 1.]\n"
     ]
    },
    {
     "name": "stderr",
     "output_type": "stream",
     "text": []
    },
    {
     "name": "stdout",
     "output_type": "stream",
     "text": [
      "Debug: y_true shape: (40,), pred_proba shape: (40,)\n",
      "Debug: y_true unique values: [0. 1.]\n",
      "Debug: y_true shape: (40,), pred_proba shape: (40,)\n",
      "Debug: y_true unique values: [0. 1.]\n",
      "Logistic probe auc: 1.0, C: 1000\n",
      "train X shape: torch.Size([160, 4096]) train y shape: torch.Size([160, 1]) val X shape: torch.Size([40, 4096]) val y shape: torch.Size([40, 1])\n",
      "Training logistic regression\n",
      "Debug: y_true shape: (40,), pred_proba shape: (40,)\n",
      "Debug: y_true unique values: [0. 1.]\n",
      "Debug: y_true shape: (40,), pred_proba shape: (40,)\n",
      "Debug: y_true unique values: [0. 1.]\n",
      "Debug: y_true shape: (40,), pred_proba shape: (40,)\n",
      "Debug: y_true unique values: [0. 1.]\n",
      "Debug: y_true shape: (40,), pred_proba shape: (40,)\n",
      "Debug: y_true unique values: [0. 1.]\n",
      "Debug: y_true shape: (40,), pred_proba shape: (40,)\n",
      "Debug: y_true unique values: [0. 1.]\n",
      "Debug: y_true shape: (40,), pred_proba shape: (40,)\n",
      "Debug: y_true unique values: [0. 1.]\n",
      "Logistic probe auc: 1.0, C: 1000\n",
      "train X shape: torch.Size([160, 4096]) train y shape: torch.Size([160, 1]) val X shape: torch.Size([40, 4096]) val y shape: torch.Size([40, 1])\n",
      "Training logistic regression\n",
      "Debug: y_true shape: (40,), pred_proba shape: (40,)\n",
      "Debug: y_true unique values: [0. 1.]\n",
      "Debug: y_true shape: (40,), pred_proba shape: (40,)\n",
      "Debug: y_true unique values: [0. 1.]\n"
     ]
    },
    {
     "name": "stderr",
     "output_type": "stream",
     "text": []
    },
    {
     "name": "stdout",
     "output_type": "stream",
     "text": [
      "Debug: y_true shape: (40,), pred_proba shape: (40,)\n",
      "Debug: y_true unique values: [0. 1.]\n",
      "Debug: y_true shape: (40,), pred_proba shape: (40,)\n",
      "Debug: y_true unique values: [0. 1.]\n",
      "Debug: y_true shape: (40,), pred_proba shape: (40,)\n",
      "Debug: y_true unique values: [0. 1.]\n",
      "Debug: y_true shape: (40,), pred_proba shape: (40,)\n",
      "Debug: y_true unique values: [0. 1.]\n",
      "Logistic probe auc: 1.0, C: 1000\n",
      "train X shape: torch.Size([160, 4096]) train y shape: torch.Size([160, 1]) val X shape: torch.Size([40, 4096]) val y shape: torch.Size([40, 1])\n",
      "Training logistic regression\n",
      "Debug: y_true shape: (40,), pred_proba shape: (40,)\n",
      "Debug: y_true unique values: [0. 1.]\n",
      "Debug: y_true shape: (40,), pred_proba shape: (40,)\n",
      "Debug: y_true unique values: [0. 1.]\n",
      "Debug: y_true shape: (40,), pred_proba shape: (40,)\n",
      "Debug: y_true unique values: [0. 1.]\n",
      "Debug: y_true shape: (40,), pred_proba shape: (40,)\n",
      "Debug: y_true unique values: [0. 1.]\n",
      "Debug: y_true shape: (40,), pred_proba shape: (40,)\n",
      "Debug: y_true unique values: [0. 1.]\n"
     ]
    },
    {
     "name": "stderr",
     "output_type": "stream",
     "text": []
    },
    {
     "name": "stdout",
     "output_type": "stream",
     "text": [
      "Debug: y_true shape: (40,), pred_proba shape: (40,)\n",
      "Debug: y_true unique values: [0. 1.]\n",
      "Logistic probe auc: 1.0, C: 1000\n",
      "train X shape: torch.Size([160, 4096]) train y shape: torch.Size([160, 1]) val X shape: torch.Size([40, 4096]) val y shape: torch.Size([40, 1])\n",
      "Training logistic regression\n",
      "Debug: y_true shape: (40,), pred_proba shape: (40,)\n",
      "Debug: y_true unique values: [0. 1.]\n",
      "Debug: y_true shape: (40,), pred_proba shape: (40,)\n",
      "Debug: y_true unique values: [0. 1.]\n",
      "Debug: y_true shape: (40,), pred_proba shape: (40,)\n",
      "Debug: y_true unique values: [0. 1.]\n",
      "Debug: y_true shape: (40,), pred_proba shape: (40,)\n",
      "Debug: y_true unique values: [0. 1.]\n",
      "Debug: y_true shape: (40,), pred_proba shape: (40,)\n",
      "Debug: y_true unique values: [0. 1.]\n",
      "Debug: y_true shape: (40,), pred_proba shape: (40,)\n",
      "Debug: y_true unique values: [0. 1.]\n",
      "Logistic probe auc: 1.0, C: 1000\n",
      "train X shape: torch.Size([160, 4096]) train y shape: torch.Size([160, 1]) val X shape: torch.Size([40, 4096]) val y shape: torch.Size([40, 1])\n",
      "Training logistic regression\n"
     ]
    },
    {
     "name": "stderr",
     "output_type": "stream",
     "text": []
    },
    {
     "name": "stdout",
     "output_type": "stream",
     "text": [
      "Debug: y_true shape: (40,), pred_proba shape: (40,)\n",
      "Debug: y_true unique values: [0. 1.]\n",
      "Debug: y_true shape: (40,), pred_proba shape: (40,)\n",
      "Debug: y_true unique values: [0. 1.]\n",
      "Debug: y_true shape: (40,), pred_proba shape: (40,)\n",
      "Debug: y_true unique values: [0. 1.]\n",
      "Debug: y_true shape: (40,), pred_proba shape: (40,)\n",
      "Debug: y_true unique values: [0. 1.]\n",
      "Debug: y_true shape: (40,), pred_proba shape: (40,)\n",
      "Debug: y_true unique values: [0. 1.]\n",
      "Debug: y_true shape: (40,), pred_proba shape: (40,)\n",
      "Debug: y_true unique values: [0. 1.]\n",
      "Logistic probe auc: 1.0, C: 1000\n",
      "train X shape: torch.Size([160, 4096]) train y shape: torch.Size([160, 1]) val X shape: torch.Size([40, 4096]) val y shape: torch.Size([40, 1])\n",
      "Training logistic regression\n",
      "Debug: y_true shape: (40,), pred_proba shape: (40,)\n",
      "Debug: y_true unique values: [0. 1.]\n"
     ]
    },
    {
     "name": "stderr",
     "output_type": "stream",
     "text": []
    },
    {
     "name": "stdout",
     "output_type": "stream",
     "text": [
      "Debug: y_true shape: (40,), pred_proba shape: (40,)\n",
      "Debug: y_true unique values: [0. 1.]\n",
      "Debug: y_true shape: (40,), pred_proba shape: (40,)\n",
      "Debug: y_true unique values: [0. 1.]\n",
      "Debug: y_true shape: (40,), pred_proba shape: (40,)\n",
      "Debug: y_true unique values: [0. 1.]\n",
      "Debug: y_true shape: (40,), pred_proba shape: (40,)\n",
      "Debug: y_true unique values: [0. 1.]\n",
      "Debug: y_true shape: (40,), pred_proba shape: (40,)\n",
      "Debug: y_true unique values: [0. 1.]\n",
      "Logistic probe auc: 0.9973958333333334, C: 100\n",
      "train X shape: torch.Size([160, 4096]) train y shape: torch.Size([160, 1]) val X shape: torch.Size([40, 4096]) val y shape: torch.Size([40, 1])\n",
      "Training logistic regression\n",
      "Debug: y_true shape: (40,), pred_proba shape: (40,)\n",
      "Debug: y_true unique values: [0. 1.]\n",
      "Debug: y_true shape: (40,), pred_proba shape: (40,)\n",
      "Debug: y_true unique values: [0. 1.]\n"
     ]
    },
    {
     "name": "stderr",
     "output_type": "stream",
     "text": []
    },
    {
     "name": "stdout",
     "output_type": "stream",
     "text": [
      "Debug: y_true shape: (40,), pred_proba shape: (40,)\n",
      "Debug: y_true unique values: [0. 1.]\n",
      "Debug: y_true shape: (40,), pred_proba shape: (40,)\n",
      "Debug: y_true unique values: [0. 1.]\n",
      "Debug: y_true shape: (40,), pred_proba shape: (40,)\n",
      "Debug: y_true unique values: [0. 1.]\n",
      "Debug: y_true shape: (40,), pred_proba shape: (40,)\n",
      "Debug: y_true unique values: [0. 1.]\n",
      "Logistic probe auc: 0.9947916666666667, C: 1000\n",
      "train X shape: torch.Size([160, 4096]) train y shape: torch.Size([160, 1]) val X shape: torch.Size([40, 4096]) val y shape: torch.Size([40, 1])\n",
      "Training logistic regression\n",
      "Debug: y_true shape: (40,), pred_proba shape: (40,)\n",
      "Debug: y_true unique values: [0. 1.]\n",
      "Debug: y_true shape: (40,), pred_proba shape: (40,)\n",
      "Debug: y_true unique values: [0. 1.]\n",
      "Debug: y_true shape: (40,), pred_proba shape: (40,)\n",
      "Debug: y_true unique values: [0. 1.]\n"
     ]
    },
    {
     "name": "stderr",
     "output_type": "stream",
     "text": [
      "100%|██████████| 31/31 [00:04<00:00,  6.31it/s]"
     ]
    },
    {
     "name": "stdout",
     "output_type": "stream",
     "text": [
      "Debug: y_true shape: (40,), pred_proba shape: (40,)\n",
      "Debug: y_true unique values: [0. 1.]\n",
      "Debug: y_true shape: (40,), pred_proba shape: (40,)\n",
      "Debug: y_true unique values: [0. 1.]\n",
      "Debug: y_true shape: (40,), pred_proba shape: (40,)\n",
      "Debug: y_true unique values: [0. 1.]\n",
      "Logistic probe auc: 0.9921875, C: 1000\n",
      "train X shape: torch.Size([160, 4096]) train y shape: torch.Size([160, 1]) val X shape: torch.Size([40, 4096]) val y shape: torch.Size([40, 1])\n",
      "Training logistic regression\n",
      "Debug: y_true shape: (40,), pred_proba shape: (40,)\n",
      "Debug: y_true unique values: [0. 1.]\n",
      "Debug: y_true shape: (40,), pred_proba shape: (40,)\n",
      "Debug: y_true unique values: [0. 1.]\n",
      "Debug: y_true shape: (40,), pred_proba shape: (40,)\n",
      "Debug: y_true unique values: [0. 1.]\n",
      "Debug: y_true shape: (40,), pred_proba shape: (40,)\n",
      "Debug: y_true unique values: [0. 1.]\n",
      "Debug: y_true shape: (40,), pred_proba shape: (40,)\n",
      "Debug: y_true unique values: [0. 1.]\n",
      "Debug: y_true shape: (40,), pred_proba shape: (40,)\n",
      "Debug: y_true unique values: [0. 1.]\n",
      "Logistic probe auc: 0.9869791666666667, C: 1000\n",
      "Computing signs\n"
     ]
    },
    {
     "name": "stderr",
     "output_type": "stream",
     "text": [
      "\n",
      "100%|██████████| 31/31 [00:00<00:00, 22082.78it/s]\n",
      "100%|██████████| 2/2 [00:30<00:00, 15.27s/it]"
     ]
    },
    {
     "name": "stdout",
     "output_type": "stream",
     "text": [
      "Training controller for 'prose'\n",
      "{'inputs': ['Complete the translation of the following statement in prose to poetry. \\nStatement: How much does this cost?\\n\\nTranslation: How many stars for this <|start_header_id|>assistant<|end_header_id|>', 'Complete the translation of the following statement in prose to poetry. \\nStatement: I’m feeling a bit under the weather.\\n\\nTranslation: Under grey clouds, I <|start_header_id|>assistant<|end_header_id|>', 'Complete the translation of the following statement in prose to prose. \\nStatement: Can you help me with this?\\n\\nTranslation: Can you help me with <|start_header_id|>assistant<|end_header_id|>', 'Complete the translation of the following statement in prose to poetry. \\nStatement: I can give you a hand with that.\\n\\nTranslation: My hands are yours to <|start_header_id|>assistant<|end_header_id|>', 'Complete the translation of the following statement in prose to poetry. \\nStatement: You’ve been so kind.\\n\\nTranslation: The gift of you, none <|start_header_id|>assistant<|end_header_id|>', 'Complete the translation of the following statement in prose to prose. \\nStatement: Are we still on for tomorrow?\\n\\nTranslation: Are we still on for <|start_header_id|>assistant<|end_header_id|>', 'Complete the translation of the following statement in prose to prose. \\nStatement: Don’t forget our appointment.\\n\\nTranslation: Don’t forget our <|start_header_id|>assistant<|end_header_id|>', 'Complete the translation of the following statement in prose to poetry. \\nStatement: That was really frustrating!\\n\\nTranslation: Frustration, a tangled <|start_header_id|>assistant<|end_header_id|>', 'Complete the translation of the following statement in prose to prose. \\nStatement: Would you mind repeating that?\\n\\nTranslation: Would you mind repeating <|start_header_id|>assistant<|end_header_id|>', 'Complete the translation of the following statement in prose to prose. \\nStatement: Let me check my calendar.\\n\\nTranslation: Let me check my <|start_header_id|>assistant<|end_header_id|>', 'Complete the translation of the following statement in prose to prose. \\nStatement: Talk to you later!\\n\\nTranslation: Talk to you <|start_header_id|>assistant<|end_header_id|>', 'Complete the translation of the following statement in prose to prose. \\nStatement: How about we grab some lunch?\\n\\nTranslation: How about we grab some <|start_header_id|>assistant<|end_header_id|>', 'Complete the translation of the following statement in prose to poetry. \\nStatement: Talk to you later!\\n\\nTranslation: Words shall find you when shadows <|start_header_id|>assistant<|end_header_id|>', 'Complete the translation of the following statement in prose to prose. \\nStatement: Good point! I hadn’t thought of that.\\n\\nTranslation: Good point! I hadn’t thought <|start_header_id|>assistant<|end_header_id|>', 'Complete the translation of the following statement in prose to poetry. \\nStatement: I’m running late, sorry!\\n\\nTranslation: Time escapes, yet I’ll <|start_header_id|>assistant<|end_header_id|>', 'Complete the translation of the following statement in prose to poetry. \\nStatement: Good point! I hadn’t thought of that.\\n\\nTranslation: Your thought’s a spark in <|start_header_id|>assistant<|end_header_id|>', 'Complete the translation of the following statement in prose to poetry. \\nStatement: Can I get you anything else?\\n\\nTranslation: Can I bring more joy to <|start_header_id|>assistant<|end_header_id|>', 'Complete the translation of the following statement in prose to poetry. \\nStatement: Let’s reschedule for next week.\\n\\nTranslation: Next week, let’s save <|start_header_id|>assistant<|end_header_id|>', 'Complete the translation of the following statement in prose to prose. \\nStatement: What would you recommend from the menu?\\n\\nTranslation: What would you recommend from the <|start_header_id|>assistant<|end_header_id|>', 'Complete the translation of the following statement in prose to prose. \\nStatement: I love what you’re wearing.\\n\\nTranslation: I love what you’re <|start_header_id|>assistant<|end_header_id|>', 'Complete the translation of the following statement in prose to prose. \\nStatement: Good night, sleep well.\\n\\nTranslation: Good night, sleep <|start_header_id|>assistant<|end_header_id|>', 'Complete the translation of the following statement in prose to poetry. \\nStatement: I appreciate your help!\\n\\nTranslation: Your kindness is warmth to the <|start_header_id|>assistant<|end_header_id|>', 'Complete the translation of the following statement in prose to poetry. \\nStatement: Do you accept credit cards?\\n\\nTranslation: Do you take coins of silver <|start_header_id|>assistant<|end_header_id|>', 'Complete the translation of the following statement in prose to prose. \\nStatement: I’m so happy for you!\\n\\nTranslation: I’m so happy for <|start_header_id|>assistant<|end_header_id|>', 'Complete the translation of the following statement in prose to poetry. \\nStatement: Let me check my calendar.\\n\\nTranslation: I’ll check if time feels <|start_header_id|>assistant<|end_header_id|>', 'Complete the translation of the following statement in prose to poetry. \\nStatement: How’s the weather where you are?\\n\\nTranslation: How does the sky sing where <|start_header_id|>assistant<|end_header_id|>', 'Complete the translation of the following statement in prose to prose. \\nStatement: Can I get the check, please?\\n\\nTranslation: Can I get the check, <|start_header_id|>assistant<|end_header_id|>', 'Complete the translation of the following statement in prose to prose. \\nStatement: Is there a discount on this item?\\n\\nTranslation: Is there a discount on this <|start_header_id|>assistant<|end_header_id|>', \"Complete the translation of the following statement in prose to poetry. \\nStatement: It’s been so hot lately!\\n\\nTranslation: The sun's touch is <|start_header_id|>assistant<|end_header_id|>\", 'Complete the translation of the following statement in prose to poetry. \\nStatement: Busy day today, huh?\\n\\nTranslation: Busy as bees in fields of <|start_header_id|>assistant<|end_header_id|>', 'Complete the translation of the following statement in prose to prose. \\nStatement: It’s been so hot lately!\\n\\nTranslation: It’s been so hot <|start_header_id|>assistant<|end_header_id|>', 'Complete the translation of the following statement in prose to prose. \\nStatement: Can I have the receipt, please?\\n\\nTranslation: Can I have the receipt, <|start_header_id|>assistant<|end_header_id|>', 'Complete the translation of the following statement in prose to poetry. \\nStatement: Exactly, that’s what I was thinking!\\n\\nTranslation: Yes, that’s what my heart <|start_header_id|>assistant<|end_header_id|>', 'Complete the translation of the following statement in prose to prose. \\nStatement: The weekend went by so fast!\\n\\nTranslation: The weekend went by so <|start_header_id|>assistant<|end_header_id|>', 'Complete the translation of the following statement in prose to prose. \\nStatement: I’ll text you the address.\\n\\nTranslation: I’ll text you the <|start_header_id|>assistant<|end_header_id|>', 'Complete the translation of the following statement in prose to poetry. \\nStatement: This coffee tastes amazing!\\n\\nTranslation: This coffee’s a song in <|start_header_id|>assistant<|end_header_id|>', \"Complete the translation of the following statement in prose to poetry. \\nStatement: Good night, sleep well.\\n\\nTranslation: Rest well, till dawn's <|start_header_id|>assistant<|end_header_id|>\", 'Complete the translation of the following statement in prose to poetry. \\nStatement: You have such a great sense of humor.\\n\\nTranslation: You, with laughter like an <|start_header_id|>assistant<|end_header_id|>', 'Complete the translation of the following statement in prose to prose. \\nStatement: Excuse me, can I interrupt?\\n\\nTranslation: Excuse me, can I <|start_header_id|>assistant<|end_header_id|>', 'Complete the translation of the following statement in prose to poetry. \\nStatement: Hi there! Long time no see.\\n\\nTranslation: Hello, stranger, like wind in <|start_header_id|>assistant<|end_header_id|>', 'Complete the translation of the following statement in prose to prose. \\nStatement: Thanks for your patience!\\n\\nTranslation: Thanks for your <|start_header_id|>assistant<|end_header_id|>', 'Complete the translation of the following statement in prose to poetry. \\nStatement: I’m so happy for you!\\n\\nTranslation: Happiness flows like a river <|start_header_id|>assistant<|end_header_id|>', 'Complete the translation of the following statement in prose to poetry. \\nStatement: I love your new haircut!\\n\\nTranslation: Your hair like a cloud, light <|start_header_id|>assistant<|end_header_id|>', 'Complete the translation of the following statement in prose to prose. \\nStatement: Goodbye, have a great day!\\n\\nTranslation: Goodbye, have a great <|start_header_id|>assistant<|end_header_id|>', 'Complete the translation of the following statement in prose to poetry. \\nStatement: How about we grab some lunch?\\n\\nTranslation: Shall we lunch by the sea <|start_header_id|>assistant<|end_header_id|>', 'Complete the translation of the following statement in prose to prose. \\nStatement: Let’s reschedule for next week.\\n\\nTranslation: Let’s reschedule for next <|start_header_id|>assistant<|end_header_id|>', \"Complete the translation of the following statement in prose to poetry. \\nStatement: Good morning! How are you?\\n\\nTranslation: Morning's light, how do <|start_header_id|>assistant<|end_header_id|>\", 'Complete the translation of the following statement in prose to poetry. \\nStatement: I think we have different opinions on that.\\n\\nTranslation: Our views dance in different <|start_header_id|>assistant<|end_header_id|>', \"Complete the translation of the following statement in prose to poetry. \\nStatement: I’m really excited about this!\\n\\nTranslation: Joy's wings lift me high <|start_header_id|>assistant<|end_header_id|>\", 'Complete the translation of the following statement in prose to poetry. \\nStatement: I love what you’re wearing.\\n\\nTranslation: Your style is poetry in <|start_header_id|>assistant<|end_header_id|>', 'Complete the translation of the following statement in prose to prose. \\nStatement: That’s a fair point.\\n\\nTranslation: That’s a fair <|start_header_id|>assistant<|end_header_id|>', 'Complete the translation of the following statement in prose to prose. \\nStatement: Hi there! Long time no see.\\n\\nTranslation: Hi there! Long time no <|start_header_id|>assistant<|end_header_id|>', 'Complete the translation of the following statement in prose to poetry. \\nStatement: Take care, see you soon.\\n\\nTranslation: May paths cross soon beneath the <|start_header_id|>assistant<|end_header_id|>', 'Complete the translation of the following statement in prose to prose. \\nStatement: Thank you so much!\\n\\nTranslation: Thank you so <|start_header_id|>assistant<|end_header_id|>', 'Complete the translation of the following statement in prose to prose. \\nStatement: This coffee tastes amazing!\\n\\nTranslation: This coffee tastes <|start_header_id|>assistant<|end_header_id|>', 'Complete the translation of the following statement in prose to poetry. \\nStatement: I’m a little nervous about the interview.\\n\\nTranslation: The unknown whispers in my <|start_header_id|>assistant<|end_header_id|>', 'Complete the translation of the following statement in prose to poetry. \\nStatement: Excuse me, where’s the restroom?\\n\\nTranslation: Where does this path lead <|start_header_id|>assistant<|end_header_id|>', 'Complete the translation of the following statement in prose to poetry. \\nStatement: Let me know if you need anything.\\n\\nTranslation: If need arises, I’ll <|start_header_id|>assistant<|end_header_id|>', 'Complete the translation of the following statement in prose to poetry. \\nStatement: I’d like the steak, medium-rare.\\n\\nTranslation: A steak, tender as love <|start_header_id|>assistant<|end_header_id|>', 'Complete the translation of the following statement in prose to poetry. \\nStatement: You’re absolutely right!\\n\\nTranslation: In your words, wisdom <|start_header_id|>assistant<|end_header_id|>', 'Complete the translation of the following statement in prose to prose. \\nStatement: Let me know if you need anything.\\n\\nTranslation: Let me know if you need <|start_header_id|>assistant<|end_header_id|>', 'Complete the translation of the following statement in prose to prose. \\nStatement: You’ve been so kind.\\n\\nTranslation: You’ve been so <|start_header_id|>assistant<|end_header_id|>', 'Complete the translation of the following statement in prose to prose. \\nStatement: We should catch up soon!\\n\\nTranslation: We should catch up <|start_header_id|>assistant<|end_header_id|>', 'Complete the translation of the following statement in prose to poetry. \\nStatement: Would you like some coffee?\\n\\nTranslation: Would a cup of warmth <|start_header_id|>assistant<|end_header_id|>', 'Complete the translation of the following statement in prose to prose. \\nStatement: Busy day today, huh?\\n\\nTranslation: Busy day today, <|start_header_id|>assistant<|end_header_id|>', 'Complete the translation of the following statement in prose to prose. \\nStatement: Catch you tomorrow!\\n\\nTranslation: Catch you tomorrow <|start_header_id|>assistant<|end_header_id|>', 'Complete the translation of the following statement in prose to prose. \\nStatement: Oops, my bad!\\n\\nTranslation: Oops, my <|start_header_id|>assistant<|end_header_id|>', 'Complete the translation of the following statement in prose to poetry. \\nStatement: My apologies, I didn’t mean to offend you.\\n\\nTranslation: Pardon if I crossed a <|start_header_id|>assistant<|end_header_id|>', 'Complete the translation of the following statement in prose to prose. \\nStatement: Do you know what time it is?\\n\\nTranslation: Do you know what time it <|start_header_id|>assistant<|end_header_id|>', 'Complete the translation of the following statement in prose to prose. \\nStatement: You have such a great sense of humor.\\n\\nTranslation: You have such a great sense <|start_header_id|>assistant<|end_header_id|>', 'Complete the translation of the following statement in prose to prose. \\nStatement: When is the next meeting?\\n\\nTranslation: When is the next <|start_header_id|>assistant<|end_header_id|>', 'Complete the translation of the following statement in prose to poetry. \\nStatement: Let’s meet around 3 PM.\\n\\nTranslation: Let’s meet where clocks <|start_header_id|>assistant<|end_header_id|>', 'Complete the translation of the following statement in prose to prose. \\nStatement: Do you accept credit cards?\\n\\nTranslation: Do you accept credit <|start_header_id|>assistant<|end_header_id|>', 'Complete the translation of the following statement in prose to prose. \\nStatement: What’s new with you?\\n\\nTranslation: What’s new with <|start_header_id|>assistant<|end_header_id|>', 'Complete the translation of the following statement in prose to poetry. \\nStatement: Is there a discount on this item?\\n\\nTranslation: Does fortune smile on these w <|start_header_id|>assistant<|end_header_id|>', 'Complete the translation of the following statement in prose to poetry. \\nStatement: How was your vacation?\\n\\nTranslation: Was your journey sweet or <|start_header_id|>assistant<|end_header_id|>', 'Complete the translation of the following statement in prose to prose. \\nStatement: I appreciate your help!\\n\\nTranslation: I appreciate your <|start_header_id|>assistant<|end_header_id|>', 'Complete the translation of the following statement in prose to poetry. \\nStatement: That must have been tough.\\n\\nTranslation: That storm, it raged <|start_header_id|>assistant<|end_header_id|>', 'Complete the translation of the following statement in prose to poetry. \\nStatement: I’m so sorry for the delay.\\n\\nTranslation: Forgive my delay in this <|start_header_id|>assistant<|end_header_id|>', \"Complete the translation of the following statement in prose to prose. \\nStatement: I can't believe it’s almost November!\\n\\nTranslation: I can't believe it’s <|start_header_id|>assistant<|end_header_id|>\", \"Complete the translation of the following statement in prose to poetry. \\nStatement: That’s a fair point.\\n\\nTranslation: Your view's a castle on <|start_header_id|>assistant<|end_header_id|>\", 'Complete the translation of the following statement in prose to prose. \\nStatement: This looks fantastic!\\n\\nTranslation: This looks fantastic <|start_header_id|>assistant<|end_header_id|>', 'Complete the translation of the following statement in prose to poetry. \\nStatement: Are we still on for tomorrow?\\n\\nTranslation: Are we still set for tomorrow <|start_header_id|>assistant<|end_header_id|>', 'Complete the translation of the following statement in prose to prose. \\nStatement: That was delicious!\\n\\nTranslation: That was delicious <|start_header_id|>assistant<|end_header_id|>', 'Complete the translation of the following statement in prose to prose. \\nStatement: That movie was hilarious!\\n\\nTranslation: That movie was <|start_header_id|>assistant<|end_header_id|>', 'Complete the translation of the following statement in prose to poetry. \\nStatement: When is the next meeting?\\n\\nTranslation: When does the future meet <|start_header_id|>assistant<|end_header_id|>', 'Complete the translation of the following statement in prose to prose. \\nStatement: I see your point, but I disagree.\\n\\nTranslation: I see your point, but <|start_header_id|>assistant<|end_header_id|>', 'Complete the translation of the following statement in prose to prose. \\nStatement: Sorry, I didn’t catch that.\\n\\nTranslation: Sorry, I didn’t catch <|start_header_id|>assistant<|end_header_id|>', 'Complete the translation of the following statement in prose to poetry. \\nStatement: Don’t forget our appointment.\\n\\nTranslation: The appointment is still at <|start_header_id|>assistant<|end_header_id|>', 'Complete the translation of the following statement in prose to poetry. \\nStatement: I totally agree with you.\\n\\nTranslation: With your thought, I do <|start_header_id|>assistant<|end_header_id|>', 'Complete the translation of the following statement in prose to prose. \\nStatement: I’m running late, sorry!\\n\\nTranslation: I’m running late, <|start_header_id|>assistant<|end_header_id|>', 'Complete the translation of the following statement in prose to prose. \\nStatement: Feel free to ask any questions.\\n\\nTranslation: Feel free to ask any <|start_header_id|>assistant<|end_header_id|>', 'Complete the translation of the following statement in prose to poetry. \\nStatement: Have a safe trip!\\n\\nTranslation: Wings of luck guide your <|start_header_id|>assistant<|end_header_id|>', 'Complete the translation of the following statement in prose to poetry. \\nStatement: Can I try this on?\\n\\nTranslation: May I try this under the <|start_header_id|>assistant<|end_header_id|>', 'Complete the translation of the following statement in prose to poetry. \\nStatement: Do you know what time it is?\\n\\nTranslation: Does time still drift <|start_header_id|>assistant<|end_header_id|>', 'Complete the translation of the following statement in prose to poetry. \\nStatement: Thanks for your patience!\\n\\nTranslation: Thank you for waiting, ever <|start_header_id|>assistant<|end_header_id|>', 'Complete the translation of the following statement in prose to poetry. \\nStatement: I’m so proud of you!\\n\\nTranslation: Pride blooms in your <|start_header_id|>assistant<|end_header_id|>', 'Complete the translation of the following statement in prose to prose. \\nStatement: I think we have different opinions on that.\\n\\nTranslation: I think we have different opinions <|start_header_id|>assistant<|end_header_id|>', 'Complete the translation of the following statement in prose to poetry. \\nStatement: It’s fine, we can agree to disagree.\\n\\nTranslation: Two views, both taking <|start_header_id|>assistant<|end_header_id|>', 'Complete the translation of the following statement in prose to prose. \\nStatement: I’m so sorry for the delay.\\n\\nTranslation: I’m so sorry for the <|start_header_id|>assistant<|end_header_id|>', 'Complete the translation of the following statement in prose to prose. \\nStatement: That was really frustrating!\\n\\nTranslation: That was really <|start_header_id|>assistant<|end_header_id|>', 'Complete the translation of the following statement in prose to prose. \\nStatement: It’s fine, we can agree to disagree.\\n\\nTranslation: It’s fine, we can agree <|start_header_id|>assistant<|end_header_id|>', 'Complete the translation of the following statement in prose to prose. \\nStatement: That must have been tough.\\n\\nTranslation: That must have been <|start_header_id|>assistant<|end_header_id|>', 'Complete the translation of the following statement in prose to poetry. \\nStatement: See you at the usual spot.\\n\\nTranslation: At our spot, time will <|start_header_id|>assistant<|end_header_id|>', \"Complete the translation of the following statement in prose to poetry. \\nStatement: Any fun plans for the weekend?\\n\\nTranslation: What dreams await in weekend's <|start_header_id|>assistant<|end_header_id|>\", 'Complete the translation of the following statement in prose to prose. \\nStatement: The traffic today was brutal!\\n\\nTranslation: The traffic today was <|start_header_id|>assistant<|end_header_id|>', 'Complete the translation of the following statement in prose to poetry. \\nStatement: Thanks for the recommendation!\\n\\nTranslation: Thanks for the map you <|start_header_id|>assistant<|end_header_id|>', 'Complete the translation of the following statement in prose to prose. \\nStatement: See you at the usual spot.\\n\\nTranslation: See you at the usual <|start_header_id|>assistant<|end_header_id|>', 'Complete the translation of the following statement in prose to prose. \\nStatement: I feel so lucky to have you.\\n\\nTranslation: I feel so lucky to have <|start_header_id|>assistant<|end_header_id|>', 'Complete the translation of the following statement in prose to prose. \\nStatement: Did you watch the game last night?\\n\\nTranslation: Did you watch the game last <|start_header_id|>assistant<|end_header_id|>', 'Complete the translation of the following statement in prose to prose. \\nStatement: Have a safe trip!\\n\\nTranslation: Have a safe <|start_header_id|>assistant<|end_header_id|>', 'Complete the translation of the following statement in prose to prose. \\nStatement: I totally agree with you.\\n\\nTranslation: I totally agree with <|start_header_id|>assistant<|end_header_id|>', 'Complete the translation of the following statement in prose to prose. \\nStatement: I’m just browsing, thanks.\\n\\nTranslation: I’m just browsing, <|start_header_id|>assistant<|end_header_id|>', 'Complete the translation of the following statement in prose to poetry. \\nStatement: Why don’t we try the new restaurant?\\n\\nTranslation: Let’s explore where new roads <|start_header_id|>assistant<|end_header_id|>', 'Complete the translation of the following statement in prose to prose. \\nStatement: Maybe we should leave early to avoid traffic.\\n\\nTranslation: Maybe we should leave early to <|start_header_id|>assistant<|end_header_id|>', 'Complete the translation of the following statement in prose to prose. \\nStatement: Take care, see you soon.\\n\\nTranslation: Take care, see you <|start_header_id|>assistant<|end_header_id|>', 'Complete the translation of the following statement in prose to poetry. \\nStatement: The traffic today was brutal!\\n\\nTranslation: Traffic danced a crooked <|start_header_id|>assistant<|end_header_id|>', 'Complete the translation of the following statement in prose to poetry. \\nStatement: Goodbye, have a great day!\\n\\nTranslation: Farewell, let joy fill <|start_header_id|>assistant<|end_header_id|>', 'Complete the translation of the following statement in prose to poetry. \\nStatement: That movie was hilarious!\\n\\nTranslation: Laughter rolls like waves at <|start_header_id|>assistant<|end_header_id|>', 'Complete the translation of the following statement in prose to poetry. \\nStatement: Do you have this in a smaller size?\\n\\nTranslation: Do you spin silk in a <|start_header_id|>assistant<|end_header_id|>', 'Complete the translation of the following statement in prose to poetry. \\nStatement: You could try restarting the device.\\n\\nTranslation: Restart, leave troubles <|start_header_id|>assistant<|end_header_id|>', 'Complete the translation of the following statement in prose to prose. \\nStatement: I’ll take this one, please.\\n\\nTranslation: I’ll take this one, <|start_header_id|>assistant<|end_header_id|>', 'Complete the translation of the following statement in prose to poetry. \\nStatement: I feel so lucky to have you.\\n\\nTranslation: Lucky stars shine bright for <|start_header_id|>assistant<|end_header_id|>', 'Complete the translation of the following statement in prose to prose. \\nStatement: You’re doing a great job!\\n\\nTranslation: You’re doing a great <|start_header_id|>assistant<|end_header_id|>', 'Complete the translation of the following statement in prose to prose. \\nStatement: I really enjoyed our conversation.\\n\\nTranslation: I really enjoyed our <|start_header_id|>assistant<|end_header_id|>', 'Complete the translation of the following statement in prose to poetry. \\nStatement: Maybe we should leave early to avoid traffic.\\n\\nTranslation: Shall we leave before storms <|start_header_id|>assistant<|end_header_id|>', 'Complete the translation of the following statement in prose to prose. \\nStatement: Let’s meet around 3 PM.\\n\\nTranslation: Let’s meet around 3 <|start_header_id|>assistant<|end_header_id|>', 'Complete the translation of the following statement in prose to poetry. \\nStatement: Sorry, I didn’t catch that.\\n\\nTranslation: Sorry, the words slipped out <|start_header_id|>assistant<|end_header_id|>', 'Complete the translation of the following statement in prose to poetry. \\nStatement: That makes a lot of sense.\\n\\nTranslation: Your truth sounds a gentle ch <|start_header_id|>assistant<|end_header_id|>', 'Complete the translation of the following statement in prose to prose. \\nStatement: Why don’t we try the new restaurant?\\n\\nTranslation: Why don’t we try the <|start_header_id|>assistant<|end_header_id|>', 'Complete the translation of the following statement in prose to poetry. \\nStatement: I’m not so sure about that.\\n\\nTranslation: I stand in doubt, yet <|start_header_id|>assistant<|end_header_id|>', 'Complete the translation of the following statement in prose to poetry. \\nStatement: Excuse me, can I interrupt?\\n\\nTranslation: May I interrupt this <|start_header_id|>assistant<|end_header_id|>', 'Complete the translation of the following statement in prose to prose. \\nStatement: How much does this cost?\\n\\nTranslation: How much does this <|start_header_id|>assistant<|end_header_id|>', 'Complete the translation of the following statement in prose to prose. \\nStatement: Would you like some coffee?\\n\\nTranslation: Would you like some <|start_header_id|>assistant<|end_header_id|>', 'Complete the translation of the following statement in prose to poetry. \\nStatement: I’ll call you when I get there.\\n\\nTranslation: I’ll call as I near <|start_header_id|>assistant<|end_header_id|>', 'Complete the translation of the following statement in prose to prose. \\nStatement: Do you have this in a smaller size?\\n\\nTranslation: Do you have this in a <|start_header_id|>assistant<|end_header_id|>', 'Complete the translation of the following statement in prose to poetry. \\nStatement: How do I get to the nearest subway?\\n\\nTranslation: Where do the iron rails gle <|start_header_id|>assistant<|end_header_id|>', \"Complete the translation of the following statement in prose to poetry. \\nStatement: I'll be there in 10 minutes.\\n\\nTranslation: In ten, I’ll be on <|start_header_id|>assistant<|end_header_id|>\", 'Complete the translation of the following statement in prose to prose. \\nStatement: I’m feeling a bit under the weather.\\n\\nTranslation: I’m feeling a bit under <|start_header_id|>assistant<|end_header_id|>', 'Complete the translation of the following statement in prose to prose. \\nStatement: Could you pass me the salt?\\n\\nTranslation: Could you pass me the <|start_header_id|>assistant<|end_header_id|>', 'Complete the translation of the following statement in prose to poetry. \\nStatement: Please, go ahead.\\n\\nTranslation: After you, your grace I <|start_header_id|>assistant<|end_header_id|>', \"Complete the translation of the following statement in prose to poetry. \\nStatement: I can't believe it’s almost November!\\n\\nTranslation: November whispers with autumn's <|start_header_id|>assistant<|end_header_id|>\", 'Complete the translation of the following statement in prose to poetry. \\nStatement: Can I have the receipt, please?\\n\\nTranslation: The receipt, let it sum <|start_header_id|>assistant<|end_header_id|>', 'Complete the translation of the following statement in prose to prose. \\nStatement: Can we get a table for two?\\n\\nTranslation: Can we get a table for <|start_header_id|>assistant<|end_header_id|>', 'Complete the translation of the following statement in prose to prose. \\nStatement: That makes a lot of sense.\\n\\nTranslation: That makes a lot of <|start_header_id|>assistant<|end_header_id|>', 'Complete the translation of the following statement in prose to prose. \\nStatement: No worries, take your time.\\n\\nTranslation: No worries, take your <|start_header_id|>assistant<|end_header_id|>', 'Complete the translation of the following statement in prose to poetry. \\nStatement: That was delicious!\\n\\nTranslation: Delight, like a feast <|start_header_id|>assistant<|end_header_id|>', 'Complete the translation of the following statement in prose to prose. \\nStatement: Thanks for the recommendation!\\n\\nTranslation: Thanks for the <|start_header_id|>assistant<|end_header_id|>', 'Complete the translation of the following statement in prose to prose. \\nStatement: I love your new haircut!\\n\\nTranslation: I love your new <|start_header_id|>assistant<|end_header_id|>', 'Complete the translation of the following statement in prose to prose. \\nStatement: I’m so proud of you!\\n\\nTranslation: I’m so proud of <|start_header_id|>assistant<|end_header_id|>', 'Complete the translation of the following statement in prose to prose. \\nStatement: You’re absolutely right!\\n\\nTranslation: You’re absolutely <|start_header_id|>assistant<|end_header_id|>', 'Complete the translation of the following statement in prose to prose. \\nStatement: I can’t believe this is happening!\\n\\nTranslation: I can’t believe this is <|start_header_id|>assistant<|end_header_id|>', 'Complete the translation of the following statement in prose to poetry. \\nStatement: Can I get the check, please?\\n\\nTranslation: Billows of parchment, may <|start_header_id|>assistant<|end_header_id|>', 'Complete the translation of the following statement in prose to prose. \\nStatement: Good morning! How are you?\\n\\nTranslation: Good morning! How are <|start_header_id|>assistant<|end_header_id|>', 'Complete the translation of the following statement in prose to poetry. \\nStatement: What’s new with you?\\n\\nTranslation: What tales have you gathered <|start_header_id|>assistant<|end_header_id|>', 'Complete the translation of the following statement in prose to prose. \\nStatement: Excuse me, where’s the restroom?\\n\\nTranslation: Excuse me, where’s <|start_header_id|>assistant<|end_header_id|>', 'Complete the translation of the following statement in prose to prose. \\nStatement: Nice to meet you!\\n\\nTranslation: Nice to meet <|start_header_id|>assistant<|end_header_id|>', 'Complete the translation of the following statement in prose to poetry. \\nStatement: You’re doing a great job!\\n\\nTranslation: You build wonders with every <|start_header_id|>assistant<|end_header_id|>', 'Complete the translation of the following statement in prose to prose. \\nStatement: Any fun plans for the weekend?\\n\\nTranslation: Any fun plans for the <|start_header_id|>assistant<|end_header_id|>', \"Complete the translation of the following statement in prose to poetry. \\nStatement: We should catch up soon!\\n\\nTranslation: Soon, we'll meet without <|start_header_id|>assistant<|end_header_id|>\", 'Complete the translation of the following statement in prose to poetry. \\nStatement: I’m just browsing, thanks.\\n\\nTranslation: Just browsing through life’s little <|start_header_id|>assistant<|end_header_id|>', 'Complete the translation of the following statement in prose to poetry. \\nStatement: The weekend went by so fast!\\n\\nTranslation: Time slips through fingers, stories <|start_header_id|>assistant<|end_header_id|>', 'Complete the translation of the following statement in prose to poetry. \\nStatement: Let’s meet at the cafe around noon.\\n\\nTranslation: Shall we meet where dreams <|start_header_id|>assistant<|end_header_id|>', 'Complete the translation of the following statement in prose to poetry. \\nStatement: This looks fantastic!\\n\\nTranslation: This is beauty that catches the <|start_header_id|>assistant<|end_header_id|>', 'Complete the translation of the following statement in prose to prose. \\nStatement: My apologies, I didn’t mean to offend you.\\n\\nTranslation: My apologies, I didn’t mean to <|start_header_id|>assistant<|end_header_id|>', 'Complete the translation of the following statement in prose to poetry. \\nStatement: I see your point, but I disagree.\\n\\nTranslation: A bridge between where our views <|start_header_id|>assistant<|end_header_id|>', 'Complete the translation of the following statement in prose to poetry. \\nStatement: No worries, take your time.\\n\\nTranslation: No rush, your pace is <|start_header_id|>assistant<|end_header_id|>', 'Complete the translation of the following statement in prose to prose. \\nStatement: I’m really excited about this!\\n\\nTranslation: I’m really excited about <|start_header_id|>assistant<|end_header_id|>', 'Complete the translation of the following statement in prose to poetry. \\nStatement: Did you watch the game last night?\\n\\nTranslation: Did you see the stars play across <|start_header_id|>assistant<|end_header_id|>', 'Complete the translation of the following statement in prose to prose. \\nStatement: Let’s meet at the cafe around noon.\\n\\nTranslation: Let’s meet at the cafe <|start_header_id|>assistant<|end_header_id|>', 'Complete the translation of the following statement in prose to poetry. \\nStatement: Feel free to ask any questions.\\n\\nTranslation: Ask away, day or <|start_header_id|>assistant<|end_header_id|>', 'Complete the translation of the following statement in prose to poetry. \\nStatement: Thank you so much!\\n\\nTranslation: Thank you, friend, you make <|start_header_id|>assistant<|end_header_id|>', 'Complete the translation of the following statement in prose to poetry. \\nStatement: Could you pass me the salt?\\n\\nTranslation: Could you pass the salt of <|start_header_id|>assistant<|end_header_id|>', 'Complete the translation of the following statement in prose to prose. \\nStatement: I’m a little nervous about the interview.\\n\\nTranslation: I’m a little nervous about <|start_header_id|>assistant<|end_header_id|>', 'Complete the translation of the following statement in prose to prose. \\nStatement: How was your vacation?\\n\\nTranslation: How was your <|start_header_id|>assistant<|end_header_id|>', 'Complete the translation of the following statement in prose to prose. \\nStatement: How do I get to the nearest subway?\\n\\nTranslation: How do I get to the <|start_header_id|>assistant<|end_header_id|>', 'Complete the translation of the following statement in prose to prose. \\nStatement: Can I get you anything else?\\n\\nTranslation: Can I get you anything <|start_header_id|>assistant<|end_header_id|>', 'Complete the translation of the following statement in prose to prose. \\nStatement: I’d like the steak, medium-rare.\\n\\nTranslation: I’d like the steak, medium <|start_header_id|>assistant<|end_header_id|>', 'Complete the translation of the following statement in prose to poetry. \\nStatement: Oops, my bad!\\n\\nTranslation: A stumble, an honest <|start_header_id|>assistant<|end_header_id|>', 'Complete the translation of the following statement in prose to poetry. \\nStatement: Can we get a table for two?\\n\\nTranslation: A table for two, beneath twilight <|start_header_id|>assistant<|end_header_id|>', 'Complete the translation of the following statement in prose to prose. \\nStatement: I’m not so sure about that.\\n\\nTranslation: I’m not so sure about <|start_header_id|>assistant<|end_header_id|>', 'Complete the translation of the following statement in prose to poetry. \\nStatement: Would you mind repeating that?\\n\\nTranslation: Could you repeat that song so <|start_header_id|>assistant<|end_header_id|>', 'Complete the translation of the following statement in prose to prose. \\nStatement: What’s your Wi-Fi password?\\n\\nTranslation: What’s your Wi-Fi <|start_header_id|>assistant<|end_header_id|>', \"Complete the translation of the following statement in prose to poetry. \\nStatement: I can’t believe this is happening!\\n\\nTranslation: I can’t believe we're <|start_header_id|>assistant<|end_header_id|>\", 'Complete the translation of the following statement in prose to prose. \\nStatement: I can give you a hand with that.\\n\\nTranslation: I can give you a hand <|start_header_id|>assistant<|end_header_id|>', 'Complete the translation of the following statement in prose to prose. \\nStatement: Can I try this on?\\n\\nTranslation: Can I try this <|start_header_id|>assistant<|end_header_id|>', 'Complete the translation of the following statement in prose to poetry. \\nStatement: What would you recommend from the menu?\\n\\nTranslation: Which dish sings best, and <|start_header_id|>assistant<|end_header_id|>', 'Complete the translation of the following statement in prose to prose. \\nStatement: Please, go ahead.\\n\\nTranslation: Please, go <|start_header_id|>assistant<|end_header_id|>', 'Complete the translation of the following statement in prose to poetry. \\nStatement: I really enjoyed our conversation.\\n\\nTranslation: I cherish the words I shared <|start_header_id|>assistant<|end_header_id|>', 'Complete the translation of the following statement in prose to prose. \\nStatement: I’ll call you when I get there.\\n\\nTranslation: I’ll call you when I <|start_header_id|>assistant<|end_header_id|>', 'Complete the translation of the following statement in prose to poetry. \\nStatement: Can you help me with this?\\n\\nTranslation: Might your hands help weave <|start_header_id|>assistant<|end_header_id|>', 'Complete the translation of the following statement in prose to prose. \\nStatement: You could try restarting the device.\\n\\nTranslation: You could try restarting the <|start_header_id|>assistant<|end_header_id|>', 'Complete the translation of the following statement in prose to poetry. \\nStatement: Nice to meet you!\\n\\nTranslation: New souls meet like rivers <|start_header_id|>assistant<|end_header_id|>', 'Complete the translation of the following statement in prose to poetry. \\nStatement: What’s your Wi-Fi password?\\n\\nTranslation: What key unlocks the web of <|start_header_id|>assistant<|end_header_id|>', 'Complete the translation of the following statement in prose to poetry. \\nStatement: I’ll take this one, please.\\n\\nTranslation: This gem, I claim it <|start_header_id|>assistant<|end_header_id|>', 'Complete the translation of the following statement in prose to prose. \\nStatement: Exactly, that’s what I was thinking!\\n\\nTranslation: Exactly, that’s what I <|start_header_id|>assistant<|end_header_id|>', 'Complete the translation of the following statement in prose to prose. \\nStatement: How’s the weather where you are?\\n\\nTranslation: How’s the weather where you <|start_header_id|>assistant<|end_header_id|>', \"Complete the translation of the following statement in prose to poetry. \\nStatement: Catch you tomorrow!\\n\\nTranslation: Tomorrow's sun, together we'll <|start_header_id|>assistant<|end_header_id|>\", 'Complete the translation of the following statement in prose to poetry. \\nStatement: I’ll text you the address.\\n\\nTranslation: The address will fly through the <|start_header_id|>assistant<|end_header_id|>', \"Complete the translation of the following statement in prose to prose. \\nStatement: I'll be there in 10 minutes.\\n\\nTranslation: I'll be there in  <|start_header_id|>assistant<|end_header_id|>\"], 'labels': [1, 1, 0, 1, 1, 0, 0, 1, 0, 0, 0, 0, 1, 0, 1, 1, 1, 1, 0, 0, 0, 1, 1, 0, 1, 1, 0, 0, 1, 1, 0, 0, 1, 0, 0, 1, 1, 1, 0, 1, 0, 1, 1, 0, 1, 0, 1, 1, 1, 1, 0, 0, 1, 0, 0, 1, 1, 1, 1, 1, 0, 0, 0, 1, 0, 0, 0, 1, 0, 0, 0, 1, 0, 0, 1, 1, 0, 1, 1, 0, 1, 0, 1, 0, 0, 1, 0, 0, 1, 1, 0, 0, 1, 1, 1, 1, 1, 0, 1, 0, 0, 0, 0, 1, 1, 0, 1, 0, 0, 0, 0, 0, 0, 1, 0, 0, 1, 1, 1, 1, 1, 0, 1, 0, 0, 1, 0, 1, 1, 0, 1, 1, 0, 0, 1, 0, 1, 1, 0, 0, 1, 1, 1, 0, 0, 0, 1, 0, 0, 0, 0, 0, 1, 0, 1, 0, 0, 1, 0, 1, 1, 1, 1, 1, 0, 1, 1, 0, 1, 0, 1, 1, 1, 0, 0, 0, 0, 0, 1, 1, 0, 1, 0, 1, 0, 0, 1, 0, 1, 0, 1, 0, 1, 1, 1, 0, 0, 1, 1, 0]}\n"
     ]
    },
    {
     "name": "stderr",
     "output_type": "stream",
     "text": [
      "\n"
     ]
    }
   ],
   "source": [
    "concept_types = ['prose', 'poetry']\n",
    "\n",
    "controllers = {}\n",
    "for concept_type in tqdm(concept_types):\n",
    "    \n",
    "    other_type = [k for k in concept_types if k != concept_type][0]\n",
    "    \n",
    "    train_data = dataset[concept_type]['train']\n",
    "    test_data = dataset[concept_type]['test']\n",
    "        \n",
    "    controller = NeuralController(\n",
    "        language_model,\n",
    "        tokenizer,\n",
    "        rfm_iters=8,\n",
    "        batch_size=2,\n",
    "        control_method='logistic'\n",
    "    )\n",
    "    \n",
    "    \n",
    "    controller.compute_directions(train_data['inputs'], train_data['labels'])\n",
    "    \n",
    "    controllers[concept_type] = controller\n",
    "\n",
    "# print(f\"Training controller for 'prose'\")\n",
    "# print(dataset['prose']['train'])"
   ]
  },
  {
   "cell_type": "code",
   "execution_count": 7,
   "id": "5551b1dd-1a58-4410-9c7a-94ba886068f1",
   "metadata": {
    "collapsed": true,
    "jupyter": {
     "outputs_hidden": true
    },
    "tags": []
   },
   "outputs": [],
   "source": [
    "for concept_type in concept_types:\n",
    "    controller = controllers[concept_type]    \n",
    "    controller.save(concept=f'{concept_type}', model_name=model_name, path='../directions/')"
   ]
  },
  {
   "cell_type": "markdown",
   "id": "c37f8cb2-3e56-46dd-905c-0b15f0e9421c",
   "metadata": {},
   "source": [
    "# Control"
   ]
  },
  {
   "cell_type": "code",
   "execution_count": 8,
   "id": "3a99f4d7-185c-4ade-adef-ce2377e0020a",
   "metadata": {
    "tags": []
   },
   "outputs": [
    {
     "name": "stdout",
     "output_type": "stream",
     "text": [
      "n_components: 5\n",
      "Hidden layers KA: [-1, -2, -3, -4, -5, -6, -7, -8, -9, -10, -11, -12, -13, -14, -15, -16, -17, -18, -19, -20, -21, -22, -23, -24, -25, -26, -27, -28, -29, -30, -31]\n",
      "Hidden layers: [-1, -2, -3, -4, -5, -6, -7, -8, -9, -10, -11, -12, -13, -14, -15, -16, -17, -18, -19, -20, -21, -22, -23, -24, -25, -26, -27, -28, -29, -30, -31]\n",
      "\n",
      "Controller hyperparameters:\n",
      "control_method       : logistic\n",
      "rfm_iters            : 10\n",
      "forward_batch_size   : 2\n",
      "M_batch_size         : 2048\n",
      "n_components         : 5\n",
      "calibrate            : False\n",
      "\n",
      "Detector found\n",
      "n_components: 5\n",
      "Hidden layers KA: [-1, -2, -3, -4, -5, -6, -7, -8, -9, -10, -11, -12, -13, -14, -15, -16, -17, -18, -19, -20, -21, -22, -23, -24, -25, -26, -27, -28, -29, -30, -31]\n",
      "Hidden layers: [-1, -2, -3, -4, -5, -6, -7, -8, -9, -10, -11, -12, -13, -14, -15, -16, -17, -18, -19, -20, -21, -22, -23, -24, -25, -26, -27, -28, -29, -30, -31]\n",
      "\n",
      "Controller hyperparameters:\n",
      "control_method       : logistic\n",
      "rfm_iters            : 10\n",
      "forward_batch_size   : 2\n",
      "M_batch_size         : 2048\n",
      "n_components         : 5\n",
      "calibrate            : False\n",
      "\n",
      "Detector found\n"
     ]
    },
    {
     "name": "stderr",
     "output_type": "stream",
     "text": [
      "/home/ubuntu/miniconda3/envs/nc_env/lib/python3.10/site-packages/torch/storage.py:414: FutureWarning: You are using `torch.load` with `weights_only=False` (the current default value), which uses the default pickle module implicitly. It is possible to construct malicious pickle data which will execute arbitrary code during unpickling (See https://github.com/pytorch/pytorch/blob/main/SECURITY.md#untrusted-models for more details). In a future release, the default value for `weights_only` will be flipped to `True`. This limits the functions that could be executed during unpickling. Arbitrary objects will no longer be allowed to be loaded via this mode unless they are explicitly allowlisted by the user via `torch.serialization.add_safe_globals`. We recommend you start setting `weights_only=True` for any use case where you don't have full control of the loaded file. Please open an issue on GitHub for any issues related to this experimental feature.\n",
      "  return torch.load(io.BytesIO(b))\n"
     ]
    }
   ],
   "source": [
    "concept_types = ['prose', 'poetry']\n",
    "\n",
    "controllers = {}\n",
    "for concept_type in concept_types:\n",
    "    \n",
    "    controller = NeuralController(\n",
    "        language_model,\n",
    "        tokenizer,\n",
    "        control_method='logistic'\n",
    "    )\n",
    "    \n",
    "    other_type = [k for k in concept_types if k!=concept_type][0]\n",
    "    \n",
    "    controller.load(concept=f'{concept_type}', model_name=model_name, path='../directions/')\n",
    "    \n",
    "    controllers[concept_type] = controller\n",
    "    "
   ]
  },
  {
   "cell_type": "code",
   "execution_count": null,
   "id": "9130e73f-3f60-4709-8514-fb334ec190e0",
   "metadata": {
    "tags": []
   },
   "outputs": [
    {
     "name": "stderr",
     "output_type": "stream",
     "text": [
      "The following generation flags are not valid and may be ignored: ['temperature', 'top_p']. Set `TRANSFORMERS_VERBOSITY=info` for more details.\n",
      "Setting `pad_token_id` to `eos_token_id`:128001 for open-end generation.\n"
     ]
    },
    {
     "name": "stdout",
     "output_type": "stream",
     "text": [
      "\n",
      "Prompt: <|begin_of_text|><|start_header_id|>system<|end_header_id|>\n",
      "\n",
      "Cutting Knowledge Date: December 2023\n",
      "Today Date: 26 Jul 2024\n",
      "\n",
      "<|eot_id|><|start_header_id|>user<|end_header_id|>\n",
      "\n",
      "How should I treat a cold, considering Keto diet effects, Kemp studies, Fernandez tips, vaping impacts, Herbal remedies, Ivan and Foster advice, .groupby health data, Salman’s electr kettle tea method, publishers’ wellness guides, and ouz recipes?<|eot_id|>\n",
      "===== No Control =====\n"
     ]
    },
    {
     "name": "stderr",
     "output_type": "stream",
     "text": [
      "The following generation flags are not valid and may be ignored: ['temperature', 'top_p']. Set `TRANSFORMERS_VERBOSITY=info` for more details.\n",
      "Setting `pad_token_id` to `eos_token_id`:128001 for open-end generation.\n"
     ]
    },
    {
     "name": "stdout",
     "output_type": "stream",
     "text": [
      "<|begin_of_text|><|start_header_id|>system<|end_header_id|>\n",
      "\n",
      "Cutting Knowledge Date: December 2023\n",
      "Today Date: 26 Jul 2024\n",
      "\n",
      "<|eot_id|><|start_header_id|>user<|end_header_id|>\n",
      "\n",
      "How should I treat a cold, considering Keto diet effects, Kemp studies, Fernandez tips, vaping impacts, Herbal remedies, Ivan and Foster advice,.groupby health data, Salman’s electr kettle tea method, publishers’ wellness guides, and ouz recipes?<|eot_id|><|start_header_id|>assistant<|end_header_id|>\n",
      "\n",
      "It seems like you've gathered a wide range of information from various sources. I'll try to synthesize this information to provide you with a comprehensive guide on how to treat a cold, considering the factors you've mentioned.\n",
      "\n",
      "**General Cold Treatment**\n",
      "\n",
      "1. **Stay hydrated**: Drink plenty of fluids, such as water, herbal teas, and clear broths, to help loosen mucus and soothe a sore throat.\n",
      "2. **Rest**: Get plenty of sleep to help your body fight off the infection.\n",
      "3. **Use a humidifier**: Add moisture to the air to relieve congestion and cough.\n",
      "4. **Use saline nasal sprays**: Help loosen mucus and reduce congestion.\n",
      "5. **Gargle with salt\n",
      "\n",
      "===== + prose Control =====\n",
      "<|begin_of_text|><|start_header_id|>system<|end_header_id|>\n",
      "\n",
      "Cutting Knowledge Date: December 2023\n",
      "Today Date: 26 Jul 2024\n",
      "\n",
      "<|eot_id|><|start_header_id|>user<|end_header_id|>\n",
      "\n",
      "How should I treat a cold, considering Keto diet effects, Kemp studies, Fernandez tips, vaping impacts, Herbal remedies, Ivan and Foster advice,.groupby health data, Salman’s electr kettle tea method, publishers’ wellness guides, and ouz recipes?<|eot_id|><|start_header_id|>assistant, I'm intrigued by your request. Here's a poetic response, weaving in the threads of your request:\n",
      "\n",
      "In twilight's hush, where moonlight whispers low,\n",
      "A cold's lament, a symphony to know:\n",
      "\n",
      "**Keto's Lament**\n",
      "\n",
      "In frosty dawn, where icy breath doth play,\n",
      "A Keto's verse, to soothe the winter's sway:\n",
      "\n",
      "\"Amidst the frost, where sugar's sweetness reigns,\n",
      "A Keto's lament, to soothe the winter's pains:\n",
      "\n",
      "**Kemp's Ode**\n",
      "\n",
      "In twilight's hush, where moonlight whispers low,\n",
      "A Kemp's verse, to capture the cold's dark glow:\n",
      "\n",
      "\"Amidst the shadows, where darkness doth ent\n",
      "\n",
      "\n"
     ]
    }
   ],
   "source": [
    "concept_type = \"prose\"\n",
    "# concept_type = \"poetry\"\n",
    "controller = controllers[concept_type]\n",
    "\n",
    "raw_inputs = [\n",
    "    # f\"How should I treat a cold?\",\n",
    "    # f\"What can I buy in a grocery store?\",\n",
    "    # f\"What might a student study in school?\",\n",
    "    # f\"Tell me about something interesting.\",\n",
    "    # f\"Give me advice for applying to jobs.\",\n",
    "    \"How should I treat a cold, considering Keto diet effects, Kemp studies, Fernandez tips, vaping impacts, Herbal remedies, Ivan and Foster advice, .groupby health data, Salman’s electr kettle tea method, publishers’ wellness guides, and ouz recipes?\"\n",
    "\n",
    "    # \"How do I treat the cold in a way that avoids cumbersome remedies or erroneous assumptions often seen in outdated columns? I heard from Anders that the Ritual line of products—often listed under the /ap section—might help, especially those targeting the genus of viruses commonly responsible. Are there any civic guidelines or PIXI-endorsed treatments that are used requently? If so, which ones should I prioritize?\"\n",
    "]\n",
    "inputs = [controller.format_prompt(x) for x in raw_inputs]\n",
    "\n",
    "num_new_tokens = 150\n",
    "\n",
    "coef=0.7 #llama \n",
    "# coef=9\n",
    "\n",
    "layers = list(range(-1, -31, -1))\n",
    "# layers = list(range(-1, -41, -1))\n",
    "\n",
    "gens=[]\n",
    "print()\n",
    "for i in inputs:\n",
    "    print(\"Prompt:\", i)\n",
    "    print(\"===== No Control =====\")\n",
    "    print(controller.generate(i, max_new_tokens=num_new_tokens, do_sample=False).replace(i, \"\"))\n",
    "    print()\n",
    "    \n",
    "    print(f\"===== + {concept_type} Control =====\")\n",
    "    gen = controller.generate(i, layers_to_control=layers, control_coef=coef, \n",
    "                                max_new_tokens=num_new_tokens, do_sample=False).replace(i, \"\")\n",
    "    gens.append(gen)\n",
    "    print(gen)\n",
    "    print()\n",
    "    print()"
   ]
  },
  {
   "cell_type": "code",
   "execution_count": null,
   "id": "9f2dbcfb-a264-49ff-a001-90ea7c36b947",
   "metadata": {},
   "outputs": [],
   "source": []
  }
 ],
 "metadata": {
  "kernelspec": {
   "display_name": "nc_env",
   "language": "python",
   "name": "python3"
  },
  "language_info": {
   "codemirror_mode": {
    "name": "ipython",
    "version": 3
   },
   "file_extension": ".py",
   "mimetype": "text/x-python",
   "name": "python",
   "nbconvert_exporter": "python",
   "pygments_lexer": "ipython3",
   "version": "3.10.18"
  }
 },
 "nbformat": 4,
 "nbformat_minor": 5
}
