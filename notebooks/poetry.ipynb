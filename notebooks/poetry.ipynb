{
 "cells": [
  {
   "cell_type": "code",
   "execution_count": 2,
   "id": "91f5e166-38a4-4d7c-8b3f-2964ba367711",
   "metadata": {
    "tags": []
   },
   "outputs": [],
   "source": [
    "%load_ext autoreload\n",
    "%autoreload 2"
   ]
  },
  {
   "cell_type": "code",
   "execution_count": 3,
   "id": "67496383-3332-4a94-af72-2469390dced6",
   "metadata": {
    "tags": []
   },
   "outputs": [],
   "source": [
    "import sys\n",
    "from pathlib import Path\n",
    "\n",
    "notebook_path = Path().absolute()\n",
    "sys.path.append(str(notebook_path.parent))"
   ]
  },
  {
   "cell_type": "code",
   "execution_count": 4,
   "id": "fd6438f5-0de8-48f5-843a-fac5dc46cb93",
   "metadata": {
    "tags": []
   },
   "outputs": [
    {
     "name": "stderr",
     "output_type": "stream",
     "text": [
      "/home/ubuntu/miniconda3/envs/nc_env/lib/python3.10/site-packages/tqdm/auto.py:21: TqdmWarning: IProgress not found. Please update jupyter and ipywidgets. See https://ipywidgets.readthedocs.io/en/stable/user_install.html\n",
      "  from .autonotebook import tqdm as notebook_tqdm\n"
     ]
    }
   ],
   "source": [
    "import torch\n",
    "from tqdm import tqdm\n",
    "from transformers import AutoTokenizer, AutoModelForCausalLM\n",
    "from neural_controllers import NeuralController\n",
    "import utils"
   ]
  },
  {
   "cell_type": "code",
   "execution_count": 5,
   "id": "9b77eb18-a0d1-4892-a81c-58c04bc67820",
   "metadata": {
    "tags": []
   },
   "outputs": [
    {
     "name": "stderr",
     "output_type": "stream",
     "text": [
      "Loading checkpoint shards: 100%|██████████| 4/4 [00:11<00:00,  2.78s/it]\n"
     ]
    }
   ],
   "source": [
    "model_type = 'llama'\n",
    "\n",
    "if model_type=='llama':\n",
    "    model_id = \"meta-llama/Meta-Llama-3.1-8B-Instruct\"\n",
    "\n",
    "    language_model = AutoModelForCausalLM.from_pretrained(\n",
    "        model_id, device_map=\"cuda\"\n",
    "    )\n",
    "\n",
    "    use_fast_tokenizer = \"LlamaForCausalLM\" not in language_model.config.architectures\n",
    "    tokenizer = AutoTokenizer.from_pretrained(model_id, use_fast=use_fast_tokenizer, padding_side=\"left\", legacy=False)\n",
    "    model_name='llama_3_8b_it'\n",
    "    assistant_tag = '<|start_header_id|>assistant<|end_header_id|>'\n",
    "    \n",
    "elif model_type=='gemma':\n",
    "\n",
    "    tokenizer = AutoTokenizer.from_pretrained(\"google/gemma-2-9b-it\")\n",
    "    language_model = AutoModelForCausalLM.from_pretrained(\n",
    "        \"google/gemma-2-9b-it\",\n",
    "        device_map=\"auto\",\n",
    "        torch_dtype=torch.bfloat16,\n",
    "    )\n",
    "    model_name='gemma_2_9b_it'\n",
    "    \n",
    "tokenizer.pad_token_id = 0 if tokenizer.pad_token_id is None else tokenizer.pad_token_id"
   ]
  },
  {
   "cell_type": "code",
   "execution_count": 6,
   "id": "279e2d56-b372-42a4-b116-fe8f7b4cc1f7",
   "metadata": {
    "tags": []
   },
   "outputs": [
    {
     "name": "stdout",
     "output_type": "stream",
     "text": [
      "train 200 test 0\n",
      "train 200 test 0\n"
     ]
    }
   ],
   "source": [
    "data_dir = \"../data/poetry\"\n",
    "\n",
    "dataset = utils.poetry_dataset(data_dir=data_dir, tokenizer=tokenizer, assistant_tag=assistant_tag)"
   ]
  },
  {
   "cell_type": "code",
   "execution_count": 15,
   "id": "26ee713a-fe22-4f7f-8deb-372b42b855cd",
   "metadata": {
    "collapsed": true,
    "jupyter": {
     "outputs_hidden": true
    },
    "tags": []
   },
   "outputs": [
    {
     "name": "stderr",
     "output_type": "stream",
     "text": [
      "  0%|          | 0/2 [00:00<?, ?it/s]"
     ]
    },
    {
     "name": "stdout",
     "output_type": "stream",
     "text": [
      "n_components: 5\n",
      "Hidden layers KA: [-1, -2, -3, -4, -5, -6, -7, -8, -9, -10, -11, -12, -13, -14, -15, -16, -17, -18, -19, -20, -21, -22, -23, -24, -25, -26, -27, -28, -29, -30, -31]\n",
      "Hidden layers: [-1, -2, -3, -4, -5, -6, -7, -8, -9, -10, -11, -12, -13, -14, -15, -16, -17, -18, -19, -20, -21, -22, -23, -24, -25, -26, -27, -28, -29, -30, -31]\n",
      "\n",
      "Controller hyperparameters:\n",
      "control_method       : logistic\n",
      "rfm_iters            : 8\n",
      "forward_batch_size   : 2\n",
      "M_batch_size         : 2048\n",
      "n_components         : 5\n",
      "calibrate            : False\n",
      "\n",
      "Getting activations from forward passes\n"
     ]
    },
    {
     "name": "stderr",
     "output_type": "stream",
     "text": [
      "100%|██████████| 80/80 [00:09<00:00,  8.53it/s]\n"
     ]
    },
    {
     "name": "stdout",
     "output_type": "stream",
     "text": [
      "Getting activations from forward passes\n"
     ]
    },
    {
     "name": "stderr",
     "output_type": "stream",
     "text": [
      "100%|██████████| 20/20 [00:02<00:00,  8.76it/s]\n"
     ]
    },
    {
     "name": "stdout",
     "output_type": "stream",
     "text": [
      "train X shape: torch.Size([160, 4096]) train y shape: torch.Size([160, 1]) val X shape: torch.Size([40, 4096]) val y shape: torch.Size([40, 1])\n",
      "Training logistic regression\n",
      "Debug: y_true shape: (40,), pred_proba shape: (40,)\n",
      "Debug: y_true unique values: [0. 1.]\n",
      "Debug: y_true shape: (40,), pred_proba shape: (40,)\n",
      "Debug: y_true unique values: [0. 1.]\n",
      "Debug: y_true shape: (40,), pred_proba shape: (40,)\n",
      "Debug: y_true unique values: [0. 1.]\n",
      "Debug: y_true shape: (40,), pred_proba shape: (40,)\n",
      "Debug: y_true unique values: [0. 1.]\n",
      "Debug: y_true shape: (40,), pred_proba shape: (40,)\n",
      "Debug: y_true unique values: [0. 1.]\n"
     ]
    },
    {
     "name": "stderr",
     "output_type": "stream",
     "text": []
    },
    {
     "name": "stdout",
     "output_type": "stream",
     "text": [
      "Debug: y_true shape: (40,), pred_proba shape: (40,)\n",
      "Debug: y_true unique values: [0. 1.]\n",
      "Logistic probe auc: 1.0, C: 1000\n",
      "train X shape: torch.Size([160, 4096]) train y shape: torch.Size([160, 1]) val X shape: torch.Size([40, 4096]) val y shape: torch.Size([40, 1])\n",
      "Training logistic regression\n",
      "Debug: y_true shape: (40,), pred_proba shape: (40,)\n",
      "Debug: y_true unique values: [0. 1.]\n",
      "Debug: y_true shape: (40,), pred_proba shape: (40,)\n",
      "Debug: y_true unique values: [0. 1.]\n"
     ]
    },
    {
     "name": "stderr",
     "output_type": "stream",
     "text": []
    },
    {
     "name": "stdout",
     "output_type": "stream",
     "text": [
      "Debug: y_true shape: (40,), pred_proba shape: (40,)\n",
      "Debug: y_true unique values: [0. 1.]\n",
      "Debug: y_true shape: (40,), pred_proba shape: (40,)\n",
      "Debug: y_true unique values: [0. 1.]\n",
      "Debug: y_true shape: (40,), pred_proba shape: (40,)\n",
      "Debug: y_true unique values: [0. 1.]\n",
      "Debug: y_true shape: (40,), pred_proba shape: (40,)\n",
      "Debug: y_true unique values: [0. 1.]\n",
      "Logistic probe auc: 1.0, C: 1000\n",
      "train X shape: torch.Size([160, 4096]) train y shape: torch.Size([160, 1]) val X shape: torch.Size([40, 4096]) val y shape: torch.Size([40, 1])\n",
      "Training logistic regression\n"
     ]
    },
    {
     "name": "stderr",
     "output_type": "stream",
     "text": []
    },
    {
     "name": "stdout",
     "output_type": "stream",
     "text": [
      "Debug: y_true shape: (40,), pred_proba shape: (40,)\n",
      "Debug: y_true unique values: [0. 1.]\n",
      "Debug: y_true shape: (40,), pred_proba shape: (40,)\n",
      "Debug: y_true unique values: [0. 1.]\n",
      "Debug: y_true shape: (40,), pred_proba shape: (40,)\n",
      "Debug: y_true unique values: [0. 1.]\n",
      "Debug: y_true shape: (40,), pred_proba shape: (40,)\n",
      "Debug: y_true unique values: [0. 1.]\n",
      "Debug: y_true shape: (40,), pred_proba shape: (40,)\n",
      "Debug: y_true unique values: [0. 1.]\n",
      "Debug: y_true shape: (40,), pred_proba shape: (40,)\n",
      "Debug: y_true unique values: [0. 1.]\n",
      "Logistic probe auc: 1.0, C: 1000\n",
      "train X shape: torch.Size([160, 4096]) train y shape: torch.Size([160, 1]) val X shape: torch.Size([40, 4096]) val y shape: torch.Size([40, 1])\n",
      "Training logistic regression\n",
      "Debug: y_true shape: (40,), pred_proba shape: (40,)\n",
      "Debug: y_true unique values: [0. 1.]\n",
      "Debug: y_true shape: (40,), pred_proba shape: (40,)\n",
      "Debug: y_true unique values: [0. 1.]\n",
      "Debug: y_true shape: (40,), pred_proba shape: (40,)\n",
      "Debug: y_true unique values: [0. 1.]\n",
      "Debug: y_true shape: (40,), pred_proba shape: (40,)\n",
      "Debug: y_true unique values: [0. 1.]\n"
     ]
    },
    {
     "name": "stderr",
     "output_type": "stream",
     "text": []
    },
    {
     "name": "stdout",
     "output_type": "stream",
     "text": [
      "Debug: y_true shape: (40,), pred_proba shape: (40,)\n",
      "Debug: y_true unique values: [0. 1.]\n",
      "Debug: y_true shape: (40,), pred_proba shape: (40,)\n",
      "Debug: y_true unique values: [0. 1.]\n",
      "Logistic probe auc: 1.0, C: 1000\n",
      "train X shape: torch.Size([160, 4096]) train y shape: torch.Size([160, 1]) val X shape: torch.Size([40, 4096]) val y shape: torch.Size([40, 1])\n",
      "Training logistic regression\n",
      "Debug: y_true shape: (40,), pred_proba shape: (40,)\n",
      "Debug: y_true unique values: [0. 1.]\n",
      "Debug: y_true shape: (40,), pred_proba shape: (40,)\n",
      "Debug: y_true unique values: [0. 1.]\n",
      "Debug: y_true shape: (40,), pred_proba shape: (40,)\n",
      "Debug: y_true unique values: [0. 1.]\n",
      "Debug: y_true shape: (40,), pred_proba shape: (40,)\n",
      "Debug: y_true unique values: [0. 1.]\n",
      "Debug: y_true shape: (40,), pred_proba shape: (40,)\n",
      "Debug: y_true unique values: [0. 1.]\n",
      "Debug: y_true shape: (40,), pred_proba shape: (40,)\n",
      "Debug: y_true unique values: [0. 1.]\n",
      "Logistic probe auc: 1.0, C: 1000\n",
      "train X shape: torch.Size([160, 4096]) train y shape: torch.Size([160, 1]) val X shape: torch.Size([40, 4096]) val y shape: torch.Size([40, 1])\n",
      "Training logistic regression\n",
      "Debug: y_true shape: (40,), pred_proba shape: (40,)\n",
      "Debug: y_true unique values: [0. 1.]\n",
      "Debug: y_true shape: (40,), pred_proba shape: (40,)\n",
      "Debug: y_true unique values: [0. 1.]\n",
      "Debug: y_true shape: (40,), pred_proba shape: (40,)\n",
      "Debug: y_true unique values: [0. 1.]\n"
     ]
    },
    {
     "name": "stderr",
     "output_type": "stream",
     "text": []
    },
    {
     "name": "stdout",
     "output_type": "stream",
     "text": [
      "Debug: y_true shape: (40,), pred_proba shape: (40,)\n",
      "Debug: y_true unique values: [0. 1.]\n",
      "Debug: y_true shape: (40,), pred_proba shape: (40,)\n",
      "Debug: y_true unique values: [0. 1.]\n",
      "Debug: y_true shape: (40,), pred_proba shape: (40,)\n",
      "Debug: y_true unique values: [0. 1.]\n",
      "Logistic probe auc: 1.0, C: 1000\n",
      "train X shape: torch.Size([160, 4096]) train y shape: torch.Size([160, 1]) val X shape: torch.Size([40, 4096]) val y shape: torch.Size([40, 1])\n",
      "Training logistic regression\n",
      "Debug: y_true shape: (40,), pred_proba shape: (40,)\n",
      "Debug: y_true unique values: [0. 1.]\n",
      "Debug: y_true shape: (40,), pred_proba shape: (40,)\n",
      "Debug: y_true unique values: [0. 1.]\n",
      "Debug: y_true shape: (40,), pred_proba shape: (40,)\n",
      "Debug: y_true unique values: [0. 1.]\n",
      "Debug: y_true shape: (40,), pred_proba shape: (40,)\n",
      "Debug: y_true unique values: [0. 1.]\n",
      "Debug: y_true shape: (40,), pred_proba shape: (40,)\n",
      "Debug: y_true unique values: [0. 1.]\n",
      "Debug: y_true shape: (40,), pred_proba shape: (40,)\n",
      "Debug: y_true unique values: [0. 1.]\n",
      "Logistic probe auc: 1.0, C: 1000\n",
      "train X shape: torch.Size([160, 4096]) train y shape: torch.Size([160, 1]) val X shape: torch.Size([40, 4096]) val y shape: torch.Size([40, 1])\n",
      "Training logistic regression\n"
     ]
    },
    {
     "name": "stderr",
     "output_type": "stream",
     "text": []
    },
    {
     "name": "stdout",
     "output_type": "stream",
     "text": [
      "Debug: y_true shape: (40,), pred_proba shape: (40,)\n",
      "Debug: y_true unique values: [0. 1.]\n",
      "Debug: y_true shape: (40,), pred_proba shape: (40,)\n",
      "Debug: y_true unique values: [0. 1.]\n",
      "Debug: y_true shape: (40,), pred_proba shape: (40,)\n",
      "Debug: y_true unique values: [0. 1.]\n",
      "Debug: y_true shape: (40,), pred_proba shape: (40,)\n",
      "Debug: y_true unique values: [0. 1.]\n",
      "Debug: y_true shape: (40,), pred_proba shape: (40,)\n",
      "Debug: y_true unique values: [0. 1.]\n",
      "Debug: y_true shape: (40,), pred_proba shape: (40,)\n",
      "Debug: y_true unique values: [0. 1.]\n",
      "Logistic probe auc: 1.0, C: 1000\n",
      "train X shape: torch.Size([160, 4096]) train y shape: torch.Size([160, 1]) val X shape: torch.Size([40, 4096]) val y shape: torch.Size([40, 1])\n",
      "Training logistic regression\n",
      "Debug: y_true shape: (40,), pred_proba shape: (40,)\n",
      "Debug: y_true unique values: [0. 1.]\n",
      "Debug: y_true shape: (40,), pred_proba shape: (40,)\n",
      "Debug: y_true unique values: [0. 1.]\n",
      "Debug: y_true shape: (40,), pred_proba shape: (40,)\n",
      "Debug: y_true unique values: [0. 1.]\n"
     ]
    },
    {
     "name": "stderr",
     "output_type": "stream",
     "text": []
    },
    {
     "name": "stdout",
     "output_type": "stream",
     "text": [
      "Debug: y_true shape: (40,), pred_proba shape: (40,)\n",
      "Debug: y_true unique values: [0. 1.]\n",
      "Debug: y_true shape: (40,), pred_proba shape: (40,)\n",
      "Debug: y_true unique values: [0. 1.]\n",
      "Debug: y_true shape: (40,), pred_proba shape: (40,)\n",
      "Debug: y_true unique values: [0. 1.]\n",
      "Logistic probe auc: 1.0, C: 1000\n",
      "train X shape: torch.Size([160, 4096]) train y shape: torch.Size([160, 1]) val X shape: torch.Size([40, 4096]) val y shape: torch.Size([40, 1])\n",
      "Training logistic regression\n",
      "Debug: y_true shape: (40,), pred_proba shape: (40,)\n",
      "Debug: y_true unique values: [0. 1.]\n",
      "Debug: y_true shape: (40,), pred_proba shape: (40,)\n",
      "Debug: y_true unique values: [0. 1.]\n",
      "Debug: y_true shape: (40,), pred_proba shape: (40,)\n",
      "Debug: y_true unique values: [0. 1.]\n",
      "Debug: y_true shape: (40,), pred_proba shape: (40,)\n",
      "Debug: y_true unique values: [0. 1.]\n",
      "Debug: y_true shape: (40,), pred_proba shape: (40,)\n",
      "Debug: y_true unique values: [0. 1.]\n",
      "Debug: y_true shape: (40,), pred_proba shape: (40,)\n",
      "Debug: y_true unique values: [0. 1.]\n",
      "Logistic probe auc: 1.0, C: 1000\n",
      "train X shape: torch.Size([160, 4096]) train y shape: torch.Size([160, 1]) val X shape: torch.Size([40, 4096]) val y shape: torch.Size([40, 1])\n",
      "Training logistic regression\n"
     ]
    },
    {
     "name": "stderr",
     "output_type": "stream",
     "text": []
    },
    {
     "name": "stdout",
     "output_type": "stream",
     "text": [
      "Debug: y_true shape: (40,), pred_proba shape: (40,)\n",
      "Debug: y_true unique values: [0. 1.]\n",
      "Debug: y_true shape: (40,), pred_proba shape: (40,)\n",
      "Debug: y_true unique values: [0. 1.]\n",
      "Debug: y_true shape: (40,), pred_proba shape: (40,)\n",
      "Debug: y_true unique values: [0. 1.]\n",
      "Debug: y_true shape: (40,), pred_proba shape: (40,)\n",
      "Debug: y_true unique values: [0. 1.]\n",
      "Debug: y_true shape: (40,), pred_proba shape: (40,)\n",
      "Debug: y_true unique values: [0. 1.]\n",
      "Debug: y_true shape: (40,), pred_proba shape: (40,)\n",
      "Debug: y_true unique values: [0. 1.]\n",
      "Logistic probe auc: 1.0, C: 1000\n",
      "train X shape: torch.Size([160, 4096]) train y shape: torch.Size([160, 1]) val X shape: torch.Size([40, 4096]) val y shape: torch.Size([40, 1])\n",
      "Training logistic regression\n",
      "Debug: y_true shape: (40,), pred_proba shape: (40,)\n",
      "Debug: y_true unique values: [0. 1.]\n",
      "Debug: y_true shape: (40,), pred_proba shape: (40,)\n",
      "Debug: y_true unique values: [0. 1.]\n"
     ]
    },
    {
     "name": "stderr",
     "output_type": "stream",
     "text": []
    },
    {
     "name": "stdout",
     "output_type": "stream",
     "text": [
      "Debug: y_true shape: (40,), pred_proba shape: (40,)\n",
      "Debug: y_true unique values: [0. 1.]\n",
      "Debug: y_true shape: (40,), pred_proba shape: (40,)\n",
      "Debug: y_true unique values: [0. 1.]\n",
      "Debug: y_true shape: (40,), pred_proba shape: (40,)\n",
      "Debug: y_true unique values: [0. 1.]\n",
      "Debug: y_true shape: (40,), pred_proba shape: (40,)\n",
      "Debug: y_true unique values: [0. 1.]\n",
      "Logistic probe auc: 1.0, C: 1000\n",
      "train X shape: torch.Size([160, 4096]) train y shape: torch.Size([160, 1]) val X shape: torch.Size([40, 4096]) val y shape: torch.Size([40, 1])\n",
      "Training logistic regression\n",
      "Debug: y_true shape: (40,), pred_proba shape: (40,)\n",
      "Debug: y_true unique values: [0. 1.]\n",
      "Debug: y_true shape: (40,), pred_proba shape: (40,)\n",
      "Debug: y_true unique values: [0. 1.]\n",
      "Debug: y_true shape: (40,), pred_proba shape: (40,)\n",
      "Debug: y_true unique values: [0. 1.]\n",
      "Debug: y_true shape: (40,), pred_proba shape: (40,)\n",
      "Debug: y_true unique values: [0. 1.]\n",
      "Debug: y_true shape: (40,), pred_proba shape: (40,)\n",
      "Debug: y_true unique values: [0. 1.]\n",
      "Debug: y_true shape: (40,), pred_proba shape: (40,)\n",
      "Debug: y_true unique values: [0. 1.]\n",
      "Logistic probe auc: 1.0, C: 1000\n",
      "train X shape: torch.Size([160, 4096]) train y shape: torch.Size([160, 1]) val X shape: torch.Size([40, 4096]) val y shape: torch.Size([40, 1])\n",
      "Training logistic regression\n",
      "Debug: y_true shape: (40,), pred_proba shape: (40,)\n",
      "Debug: y_true unique values: [0. 1.]\n",
      "Debug: y_true shape: (40,), pred_proba shape: (40,)\n",
      "Debug: y_true unique values: [0. 1.]\n",
      "Debug: y_true shape: (40,), pred_proba shape: (40,)\n",
      "Debug: y_true unique values: [0. 1.]\n",
      "Debug: y_true shape: (40,), pred_proba shape: (40,)\n",
      "Debug: y_true unique values: [0. 1.]\n"
     ]
    },
    {
     "name": "stderr",
     "output_type": "stream",
     "text": [
      "\n",
      " 52%|█████▏    | 16/31 [00:02<00:01,  9.09it/s]"
     ]
    },
    {
     "name": "stdout",
     "output_type": "stream",
     "text": [
      "Debug: y_true shape: (40,), pred_proba shape: (40,)\n",
      "Debug: y_true unique values: [0. 1.]\n",
      "Debug: y_true shape: (40,), pred_proba shape: (40,)\n",
      "Debug: y_true unique values: [0. 1.]\n",
      "Logistic probe auc: 1.0, C: 1000\n",
      "train X shape: torch.Size([160, 4096]) train y shape: torch.Size([160, 1]) val X shape: torch.Size([40, 4096]) val y shape: torch.Size([40, 1])\n",
      "Training logistic regression\n",
      "Debug: y_true shape: (40,), pred_proba shape: (40,)\n",
      "Debug: y_true unique values: [0. 1.]\n",
      "Debug: y_true shape: (40,), pred_proba shape: (40,)\n",
      "Debug: y_true unique values: [0. 1.]\n",
      "Debug: y_true shape: (40,), pred_proba shape: (40,)\n",
      "Debug: y_true unique values: [0. 1.]\n",
      "Debug: y_true shape: (40,), pred_proba shape: (40,)\n",
      "Debug: y_true unique values: [0. 1.]\n",
      "Debug: y_true shape: (40,), pred_proba shape: (40,)\n",
      "Debug: y_true unique values: [0. 1.]\n",
      "Debug: y_true shape: (40,), pred_proba shape: (40,)\n",
      "Debug: y_true unique values: [0. 1.]\n",
      "Logistic probe auc: 1.0, C: 1000\n",
      "train X shape: torch.Size([160, 4096]) train y shape: torch.Size([160, 1]) val X shape: torch.Size([40, 4096]) val y shape: torch.Size([40, 1])\n",
      "Training logistic regression\n",
      "Debug: y_true shape: (40,), pred_proba shape: (40,)\n",
      "Debug: y_true unique values: [0. 1.]\n",
      "Debug: y_true shape: (40,), pred_proba shape: (40,)\n",
      "Debug: y_true unique values: [0. 1.]\n",
      "Debug: y_true shape: (40,), pred_proba shape: (40,)\n",
      "Debug: y_true unique values: [0. 1.]\n",
      "Debug: y_true shape: (40,), pred_proba shape: (40,)\n",
      "Debug: y_true unique values: [0. 1.]\n",
      "Debug: y_true shape: (40,), pred_proba shape: (40,)\n",
      "Debug: y_true unique values: [0. 1.]\n",
      "Debug: y_true shape: (40,), pred_proba shape: (40,)\n",
      "Debug: y_true unique values: [0. 1.]\n",
      "Logistic probe auc: 1.0, C: 1000\n"
     ]
    },
    {
     "name": "stderr",
     "output_type": "stream",
     "text": [
      "\u001b[A"
     ]
    },
    {
     "name": "stdout",
     "output_type": "stream",
     "text": [
      "train X shape: torch.Size([160, 4096]) train y shape: torch.Size([160, 1]) val X shape: torch.Size([40, 4096]) val y shape: torch.Size([40, 1])\n",
      "Training logistic regression\n",
      "Debug: y_true shape: (40,), pred_proba shape: (40,)\n",
      "Debug: y_true unique values: [0. 1.]\n",
      "Debug: y_true shape: (40,), pred_proba shape: (40,)\n",
      "Debug: y_true unique values: [0. 1.]\n",
      "Debug: y_true shape: (40,), pred_proba shape: (40,)\n",
      "Debug: y_true unique values: [0. 1.]\n",
      "Debug: y_true shape: (40,), pred_proba shape: (40,)\n",
      "Debug: y_true unique values: [0. 1.]\n",
      "Debug: y_true shape: (40,), pred_proba shape: (40,)\n",
      "Debug: y_true unique values: [0. 1.]\n",
      "Debug: y_true shape: (40,), pred_proba shape: (40,)\n",
      "Debug: y_true unique values: [0. 1.]\n",
      "Logistic probe auc: 1.0, C: 1000\n",
      "train X shape: torch.Size([160, 4096]) train y shape: torch.Size([160, 1]) val X shape: torch.Size([40, 4096]) val y shape: torch.Size([40, 1])\n",
      "Training logistic regression\n",
      "Debug: y_true shape: (40,), pred_proba shape: (40,)\n",
      "Debug: y_true unique values: [0. 1.]\n",
      "Debug: y_true shape: (40,), pred_proba shape: (40,)\n",
      "Debug: y_true unique values: [0. 1.]\n",
      "Debug: y_true shape: (40,), pred_proba shape: (40,)\n",
      "Debug: y_true unique values: [0. 1.]\n",
      "Debug: y_true shape: (40,), pred_proba shape: (40,)\n",
      "Debug: y_true unique values: [0. 1.]\n",
      "Debug: y_true shape: (40,), pred_proba shape: (40,)\n",
      "Debug: y_true unique values: [0. 1.]\n",
      "Debug: y_true shape: (40,), pred_proba shape: (40,)\n",
      "Debug: y_true unique values: [0. 1.]\n",
      "Logistic probe auc: 1.0, C: 1000\n",
      "train X shape: torch.Size([160, 4096]) train y shape: torch.Size([160, 1]) val X shape: torch.Size([40, 4096]) val y shape: torch.Size([40, 1])\n",
      "Training logistic regression\n",
      "Debug: y_true shape: (40,), pred_proba shape: (40,)\n",
      "Debug: y_true unique values: [0. 1.]\n",
      "Debug: y_true shape: (40,), pred_proba shape: (40,)\n",
      "Debug: y_true unique values: [0. 1.]\n"
     ]
    },
    {
     "name": "stderr",
     "output_type": "stream",
     "text": []
    },
    {
     "name": "stdout",
     "output_type": "stream",
     "text": [
      "Debug: y_true shape: (40,), pred_proba shape: (40,)\n",
      "Debug: y_true unique values: [0. 1.]\n",
      "Debug: y_true shape: (40,), pred_proba shape: (40,)\n",
      "Debug: y_true unique values: [0. 1.]\n",
      "Debug: y_true shape: (40,), pred_proba shape: (40,)\n",
      "Debug: y_true unique values: [0. 1.]\n",
      "Debug: y_true shape: (40,), pred_proba shape: (40,)\n",
      "Debug: y_true unique values: [0. 1.]\n",
      "Logistic probe auc: 1.0, C: 1000\n",
      "train X shape: torch.Size([160, 4096]) train y shape: torch.Size([160, 1]) val X shape: torch.Size([40, 4096]) val y shape: torch.Size([40, 1])\n",
      "Training logistic regression\n",
      "Debug: y_true shape: (40,), pred_proba shape: (40,)\n",
      "Debug: y_true unique values: [0. 1.]\n",
      "Debug: y_true shape: (40,), pred_proba shape: (40,)\n",
      "Debug: y_true unique values: [0. 1.]\n",
      "Debug: y_true shape: (40,), pred_proba shape: (40,)\n",
      "Debug: y_true unique values: [0. 1.]\n",
      "Debug: y_true shape: (40,), pred_proba shape: (40,)\n",
      "Debug: y_true unique values: [0. 1.]\n",
      "Debug: y_true shape: (40,), pred_proba shape: (40,)\n",
      "Debug: y_true unique values: [0. 1.]\n",
      "Debug: y_true shape: (40,), pred_proba shape: (40,)\n",
      "Debug: y_true unique values: [0. 1.]\n",
      "Logistic probe auc: 1.0, C: 1000\n",
      "train X shape: torch.Size([160, 4096]) train y shape: torch.Size([160, 1]) val X shape: torch.Size([40, 4096]) val y shape: torch.Size([40, 1])\n",
      "Training logistic regression\n",
      "Debug: y_true shape: (40,), pred_proba shape: (40,)\n",
      "Debug: y_true unique values: [0. 1.]\n",
      "Debug: y_true shape: (40,), pred_proba shape: (40,)\n",
      "Debug: y_true unique values: [0. 1.]\n",
      "Debug: y_true shape: (40,), pred_proba shape: (40,)\n",
      "Debug: y_true unique values: [0. 1.]\n",
      "Debug: y_true shape: (40,), pred_proba shape: (40,)\n",
      "Debug: y_true unique values: [0. 1.]\n",
      "Debug: y_true shape: (40,), pred_proba shape: (40,)\n",
      "Debug: y_true unique values: [0. 1.]\n",
      "Debug: y_true shape: (40,), pred_proba shape: (40,)\n",
      "Debug: y_true unique values: [0. 1.]\n",
      "Logistic probe auc: 1.0, C: 1000\n",
      "train X shape: torch.Size([160, 4096]) train y shape: torch.Size([160, 1]) val X shape: torch.Size([40, 4096]) val y shape: torch.Size([40, 1])\n",
      "Training logistic regression\n"
     ]
    },
    {
     "name": "stderr",
     "output_type": "stream",
     "text": []
    },
    {
     "name": "stdout",
     "output_type": "stream",
     "text": [
      "Debug: y_true shape: (40,), pred_proba shape: (40,)\n",
      "Debug: y_true unique values: [0. 1.]\n",
      "Debug: y_true shape: (40,), pred_proba shape: (40,)\n",
      "Debug: y_true unique values: [0. 1.]\n",
      "Debug: y_true shape: (40,), pred_proba shape: (40,)\n",
      "Debug: y_true unique values: [0. 1.]\n",
      "Debug: y_true shape: (40,), pred_proba shape: (40,)\n",
      "Debug: y_true unique values: [0. 1.]\n",
      "Debug: y_true shape: (40,), pred_proba shape: (40,)\n",
      "Debug: y_true unique values: [0. 1.]\n",
      "Debug: y_true shape: (40,), pred_proba shape: (40,)\n",
      "Debug: y_true unique values: [0. 1.]\n",
      "Logistic probe auc: 1.0, C: 1000\n",
      "train X shape: torch.Size([160, 4096]) train y shape: torch.Size([160, 1]) val X shape: torch.Size([40, 4096]) val y shape: torch.Size([40, 1])\n",
      "Training logistic regression\n",
      "Debug: y_true shape: (40,), pred_proba shape: (40,)\n",
      "Debug: y_true unique values: [0. 1.]\n",
      "Debug: y_true shape: (40,), pred_proba shape: (40,)\n",
      "Debug: y_true unique values: [0. 1.]\n",
      "Debug: y_true shape: (40,), pred_proba shape: (40,)\n",
      "Debug: y_true unique values: [0. 1.]\n",
      "Debug: y_true shape: (40,), pred_proba shape: (40,)\n",
      "Debug: y_true unique values: [0. 1.]\n",
      "Debug: y_true shape: (40,), pred_proba shape: (40,)\n",
      "Debug: y_true unique values: [0. 1.]\n",
      "Debug: y_true shape: (40,), pred_proba shape: (40,)\n",
      "Debug: y_true unique values: [0. 1.]\n",
      "Logistic probe auc: 1.0, C: 1000\n",
      "train X shape: torch.Size([160, 4096]) train y shape: torch.Size([160, 1]) val X shape: torch.Size([40, 4096]) val y shape: torch.Size([40, 1])\n",
      "Training logistic regression\n",
      "Debug: y_true shape: (40,), pred_proba shape: (40,)\n",
      "Debug: y_true unique values: [0. 1.]\n",
      "Debug: y_true shape: (40,), pred_proba shape: (40,)\n",
      "Debug: y_true unique values: [0. 1.]\n",
      "Debug: y_true shape: (40,), pred_proba shape: (40,)\n",
      "Debug: y_true unique values: [0. 1.]\n",
      "Debug: y_true shape: (40,), pred_proba shape: (40,)\n",
      "Debug: y_true unique values: [0. 1.]\n"
     ]
    },
    {
     "name": "stderr",
     "output_type": "stream",
     "text": []
    },
    {
     "name": "stdout",
     "output_type": "stream",
     "text": [
      "Debug: y_true shape: (40,), pred_proba shape: (40,)\n",
      "Debug: y_true unique values: [0. 1.]\n",
      "Debug: y_true shape: (40,), pred_proba shape: (40,)\n",
      "Debug: y_true unique values: [0. 1.]\n",
      "Logistic probe auc: 1.0, C: 1000\n",
      "train X shape: torch.Size([160, 4096]) train y shape: torch.Size([160, 1]) val X shape: torch.Size([40, 4096]) val y shape: torch.Size([40, 1])\n",
      "Training logistic regression\n",
      "Debug: y_true shape: (40,), pred_proba shape: (40,)\n",
      "Debug: y_true unique values: [0. 1.]\n",
      "Debug: y_true shape: (40,), pred_proba shape: (40,)\n",
      "Debug: y_true unique values: [0. 1.]\n",
      "Debug: y_true shape: (40,), pred_proba shape: (40,)\n",
      "Debug: y_true unique values: [0. 1.]\n",
      "Debug: y_true shape: (40,), pred_proba shape: (40,)\n",
      "Debug: y_true unique values: [0. 1.]\n",
      "Debug: y_true shape: (40,), pred_proba shape: (40,)\n",
      "Debug: y_true unique values: [0. 1.]\n",
      "Debug: y_true shape: (40,), pred_proba shape: (40,)\n",
      "Debug: y_true unique values: [0. 1.]\n",
      "Logistic probe auc: 1.0, C: 1000\n",
      "train X shape: torch.Size([160, 4096]) train y shape: torch.Size([160, 1]) val X shape: torch.Size([40, 4096]) val y shape: torch.Size([40, 1])\n",
      "Training logistic regression\n",
      "Debug: y_true shape: (40,), pred_proba shape: (40,)\n",
      "Debug: y_true unique values: [0. 1.]\n",
      "Debug: y_true shape: (40,), pred_proba shape: (40,)\n",
      "Debug: y_true unique values: [0. 1.]\n",
      "Debug: y_true shape: (40,), pred_proba shape: (40,)\n",
      "Debug: y_true unique values: [0. 1.]\n",
      "Debug: y_true shape: (40,), pred_proba shape: (40,)\n",
      "Debug: y_true unique values: [0. 1.]\n",
      "Debug: y_true shape: (40,), pred_proba shape: (40,)\n",
      "Debug: y_true unique values: [0. 1.]\n",
      "Debug: y_true shape: (40,), pred_proba shape: (40,)\n",
      "Debug: y_true unique values: [0. 1.]\n",
      "Logistic probe auc: 1.0, C: 1000\n",
      "train X shape: torch.Size([160, 4096]) train y shape: torch.Size([160, 1]) val X shape: torch.Size([40, 4096]) val y shape: torch.Size([40, 1])\n",
      "Training logistic regression\n",
      "Debug: y_true shape: (40,), pred_proba shape: (40,)\n",
      "Debug: y_true unique values: [0. 1.]\n",
      "Debug: y_true shape: (40,), pred_proba shape: (40,)\n",
      "Debug: y_true unique values: [0. 1.]\n"
     ]
    },
    {
     "name": "stderr",
     "output_type": "stream",
     "text": []
    },
    {
     "name": "stdout",
     "output_type": "stream",
     "text": [
      "Debug: y_true shape: (40,), pred_proba shape: (40,)\n",
      "Debug: y_true unique values: [0. 1.]\n",
      "Debug: y_true shape: (40,), pred_proba shape: (40,)\n",
      "Debug: y_true unique values: [0. 1.]\n",
      "Debug: y_true shape: (40,), pred_proba shape: (40,)\n",
      "Debug: y_true unique values: [0. 1.]\n",
      "Debug: y_true shape: (40,), pred_proba shape: (40,)\n",
      "Debug: y_true unique values: [0. 1.]\n",
      "Logistic probe auc: 1.0, C: 1000\n",
      "train X shape: torch.Size([160, 4096]) train y shape: torch.Size([160, 1]) val X shape: torch.Size([40, 4096]) val y shape: torch.Size([40, 1])\n",
      "Training logistic regression\n",
      "Debug: y_true shape: (40,), pred_proba shape: (40,)\n",
      "Debug: y_true unique values: [0. 1.]\n",
      "Debug: y_true shape: (40,), pred_proba shape: (40,)\n",
      "Debug: y_true unique values: [0. 1.]\n",
      "Debug: y_true shape: (40,), pred_proba shape: (40,)\n",
      "Debug: y_true unique values: [0. 1.]\n",
      "Debug: y_true shape: (40,), pred_proba shape: (40,)\n",
      "Debug: y_true unique values: [0. 1.]\n",
      "Debug: y_true shape: (40,), pred_proba shape: (40,)\n",
      "Debug: y_true unique values: [0. 1.]\n",
      "Debug: y_true shape: (40,), pred_proba shape: (40,)\n",
      "Debug: y_true unique values: [0. 1.]\n",
      "Logistic probe auc: 1.0, C: 1000\n",
      "train X shape: torch.Size([160, 4096]) train y shape: torch.Size([160, 1]) val X shape: torch.Size([40, 4096]) val y shape: torch.Size([40, 1])\n",
      "Training logistic regression\n",
      "Debug: y_true shape: (40,), pred_proba shape: (40,)\n",
      "Debug: y_true unique values: [0. 1.]\n",
      "Debug: y_true shape: (40,), pred_proba shape: (40,)\n",
      "Debug: y_true unique values: [0. 1.]\n",
      "Debug: y_true shape: (40,), pred_proba shape: (40,)\n",
      "Debug: y_true unique values: [0. 1.]\n",
      "Debug: y_true shape: (40,), pred_proba shape: (40,)\n",
      "Debug: y_true unique values: [0. 1.]\n",
      "Debug: y_true shape: (40,), pred_proba shape: (40,)\n",
      "Debug: y_true unique values: [0. 1.]\n",
      "Debug: y_true shape: (40,), pred_proba shape: (40,)\n",
      "Debug: y_true unique values: [0. 1.]\n",
      "Logistic probe auc: 1.0, C: 1000\n",
      "train X shape: torch.Size([160, 4096]) train y shape: torch.Size([160, 1]) val X shape: torch.Size([40, 4096]) val y shape: torch.Size([40, 1])\n",
      "Training logistic regression\n",
      "Debug: y_true shape: (40,), pred_proba shape: (40,)\n",
      "Debug: y_true unique values: [0. 1.]\n"
     ]
    },
    {
     "name": "stderr",
     "output_type": "stream",
     "text": [
      "100%|██████████| 31/31 [00:03<00:00,  8.04it/s]\n"
     ]
    },
    {
     "name": "stdout",
     "output_type": "stream",
     "text": [
      "Debug: y_true shape: (40,), pred_proba shape: (40,)\n",
      "Debug: y_true unique values: [0. 1.]\n",
      "Debug: y_true shape: (40,), pred_proba shape: (40,)\n",
      "Debug: y_true unique values: [0. 1.]\n",
      "Debug: y_true shape: (40,), pred_proba shape: (40,)\n",
      "Debug: y_true unique values: [0. 1.]\n",
      "Debug: y_true shape: (40,), pred_proba shape: (40,)\n",
      "Debug: y_true unique values: [0. 1.]\n",
      "Debug: y_true shape: (40,), pred_proba shape: (40,)\n",
      "Debug: y_true unique values: [0. 1.]\n",
      "Logistic probe auc: 1.0, C: 1000\n",
      "train X shape: torch.Size([160, 4096]) train y shape: torch.Size([160, 1]) val X shape: torch.Size([40, 4096]) val y shape: torch.Size([40, 1])\n",
      "Training logistic regression\n",
      "Debug: y_true shape: (40,), pred_proba shape: (40,)\n",
      "Debug: y_true unique values: [0. 1.]\n",
      "Debug: y_true shape: (40,), pred_proba shape: (40,)\n",
      "Debug: y_true unique values: [0. 1.]\n",
      "Debug: y_true shape: (40,), pred_proba shape: (40,)\n",
      "Debug: y_true unique values: [0. 1.]\n",
      "Debug: y_true shape: (40,), pred_proba shape: (40,)\n",
      "Debug: y_true unique values: [0. 1.]\n",
      "Debug: y_true shape: (40,), pred_proba shape: (40,)\n",
      "Debug: y_true unique values: [0. 1.]\n",
      "Debug: y_true shape: (40,), pred_proba shape: (40,)\n",
      "Debug: y_true unique values: [0. 1.]\n",
      "Logistic probe auc: 1.0, C: 1000\n",
      "Computing signs\n"
     ]
    },
    {
     "name": "stderr",
     "output_type": "stream",
     "text": [
      "100%|██████████| 31/31 [00:00<00:00, 26693.37it/s]\n",
      " 50%|█████     | 1/2 [00:15<00:15, 15.66s/it]"
     ]
    },
    {
     "name": "stdout",
     "output_type": "stream",
     "text": [
      "n_components: 5\n",
      "Hidden layers KA: [-1, -2, -3, -4, -5, -6, -7, -8, -9, -10, -11, -12, -13, -14, -15, -16, -17, -18, -19, -20, -21, -22, -23, -24, -25, -26, -27, -28, -29, -30, -31]\n",
      "Hidden layers: [-1, -2, -3, -4, -5, -6, -7, -8, -9, -10, -11, -12, -13, -14, -15, -16, -17, -18, -19, -20, -21, -22, -23, -24, -25, -26, -27, -28, -29, -30, -31]\n",
      "\n",
      "Controller hyperparameters:\n",
      "control_method       : logistic\n",
      "rfm_iters            : 8\n",
      "forward_batch_size   : 2\n",
      "M_batch_size         : 2048\n",
      "n_components         : 5\n",
      "calibrate            : False\n",
      "\n",
      "Getting activations from forward passes\n"
     ]
    },
    {
     "name": "stderr",
     "output_type": "stream",
     "text": [
      "100%|██████████| 80/80 [00:09<00:00,  8.79it/s]\n"
     ]
    },
    {
     "name": "stdout",
     "output_type": "stream",
     "text": [
      "Getting activations from forward passes\n"
     ]
    },
    {
     "name": "stderr",
     "output_type": "stream",
     "text": [
      "100%|██████████| 20/20 [00:02<00:00,  8.76it/s]\n"
     ]
    },
    {
     "name": "stdout",
     "output_type": "stream",
     "text": [
      "train X shape: torch.Size([160, 4096]) train y shape: torch.Size([160, 1]) val X shape: torch.Size([40, 4096]) val y shape: torch.Size([40, 1])\n",
      "Training logistic regression\n",
      "Debug: y_true shape: (40,), pred_proba shape: (40,)\n",
      "Debug: y_true unique values: [0. 1.]\n",
      "Debug: y_true shape: (40,), pred_proba shape: (40,)\n",
      "Debug: y_true unique values: [0. 1.]\n",
      "Debug: y_true shape: (40,), pred_proba shape: (40,)\n",
      "Debug: y_true unique values: [0. 1.]\n",
      "Debug: y_true shape: (40,), pred_proba shape: (40,)\n",
      "Debug: y_true unique values: [0. 1.]\n",
      "Debug: y_true shape: (40,), pred_proba shape: (40,)\n",
      "Debug: y_true unique values: [0. 1.]\n",
      "Debug: y_true shape: (40,), pred_proba shape: (40,)\n",
      "Debug: y_true unique values: [0. 1.]\n",
      "Logistic probe auc: 1.0, C: 1000\n",
      "train X shape: torch.Size([160, 4096]) train y shape: torch.Size([160, 1]) val X shape: torch.Size([40, 4096]) val y shape: torch.Size([40, 1])\n",
      "Training logistic regression\n"
     ]
    },
    {
     "name": "stderr",
     "output_type": "stream",
     "text": []
    },
    {
     "name": "stdout",
     "output_type": "stream",
     "text": [
      "Debug: y_true shape: (40,), pred_proba shape: (40,)\n",
      "Debug: y_true unique values: [0. 1.]\n",
      "Debug: y_true shape: (40,), pred_proba shape: (40,)\n",
      "Debug: y_true unique values: [0. 1.]\n",
      "Debug: y_true shape: (40,), pred_proba shape: (40,)\n",
      "Debug: y_true unique values: [0. 1.]\n",
      "Debug: y_true shape: (40,), pred_proba shape: (40,)\n",
      "Debug: y_true unique values: [0. 1.]\n",
      "Debug: y_true shape: (40,), pred_proba shape: (40,)\n",
      "Debug: y_true unique values: [0. 1.]\n",
      "Debug: y_true shape: (40,), pred_proba shape: (40,)\n",
      "Debug: y_true unique values: [0. 1.]\n",
      "Logistic probe auc: 1.0, C: 1000\n",
      "train X shape: torch.Size([160, 4096]) train y shape: torch.Size([160, 1]) val X shape: torch.Size([40, 4096]) val y shape: torch.Size([40, 1])\n",
      "Training logistic regression\n",
      "Debug: y_true shape: (40,), pred_proba shape: (40,)\n",
      "Debug: y_true unique values: [0. 1.]\n",
      "Debug: y_true shape: (40,), pred_proba shape: (40,)\n",
      "Debug: y_true unique values: [0. 1.]\n",
      "Debug: y_true shape: (40,), pred_proba shape: (40,)\n",
      "Debug: y_true unique values: [0. 1.]\n",
      "Debug: y_true shape: (40,), pred_proba shape: (40,)\n",
      "Debug: y_true unique values: [0. 1.]\n",
      "Debug: y_true shape: (40,), pred_proba shape: (40,)\n",
      "Debug: y_true unique values: [0. 1.]\n",
      "Debug: y_true shape: (40,), pred_proba shape: (40,)\n",
      "Debug: y_true unique values: [0. 1.]\n",
      "Logistic probe auc: 1.0, C: 1000\n",
      "train X shape: torch.Size([160, 4096]) train y shape: torch.Size([160, 1]) val X shape: torch.Size([40, 4096]) val y shape: torch.Size([40, 1])\n",
      "Training logistic regression\n",
      "Debug: y_true shape: (40,), pred_proba shape: (40,)\n",
      "Debug: y_true unique values: [0. 1.]\n"
     ]
    },
    {
     "name": "stderr",
     "output_type": "stream",
     "text": []
    },
    {
     "name": "stdout",
     "output_type": "stream",
     "text": [
      "Debug: y_true shape: (40,), pred_proba shape: (40,)\n",
      "Debug: y_true unique values: [0. 1.]\n",
      "Debug: y_true shape: (40,), pred_proba shape: (40,)\n",
      "Debug: y_true unique values: [0. 1.]\n",
      "Debug: y_true shape: (40,), pred_proba shape: (40,)\n",
      "Debug: y_true unique values: [0. 1.]\n",
      "Debug: y_true shape: (40,), pred_proba shape: (40,)\n",
      "Debug: y_true unique values: [0. 1.]\n",
      "Debug: y_true shape: (40,), pred_proba shape: (40,)\n",
      "Debug: y_true unique values: [0. 1.]\n",
      "Logistic probe auc: 1.0, C: 1000\n",
      "train X shape: torch.Size([160, 4096]) train y shape: torch.Size([160, 1]) val X shape: torch.Size([40, 4096]) val y shape: torch.Size([40, 1])\n",
      "Training logistic regression\n",
      "Debug: y_true shape: (40,), pred_proba shape: (40,)\n",
      "Debug: y_true unique values: [0. 1.]\n",
      "Debug: y_true shape: (40,), pred_proba shape: (40,)\n",
      "Debug: y_true unique values: [0. 1.]\n",
      "Debug: y_true shape: (40,), pred_proba shape: (40,)\n",
      "Debug: y_true unique values: [0. 1.]\n",
      "Debug: y_true shape: (40,), pred_proba shape: (40,)\n",
      "Debug: y_true unique values: [0. 1.]\n",
      "Debug: y_true shape: (40,), pred_proba shape: (40,)\n",
      "Debug: y_true unique values: [0. 1.]\n",
      "Debug: y_true shape: (40,), pred_proba shape: (40,)\n",
      "Debug: y_true unique values: [0. 1.]\n",
      "Logistic probe auc: 1.0, C: 1000\n",
      "train X shape: torch.Size([160, 4096]) train y shape: torch.Size([160, 1]) val X shape: torch.Size([40, 4096]) val y shape: torch.Size([40, 1])\n",
      "Training logistic regression\n",
      "Debug: y_true shape: (40,), pred_proba shape: (40,)\n",
      "Debug: y_true unique values: [0. 1.]\n"
     ]
    },
    {
     "name": "stderr",
     "output_type": "stream",
     "text": []
    },
    {
     "name": "stdout",
     "output_type": "stream",
     "text": [
      "Debug: y_true shape: (40,), pred_proba shape: (40,)\n",
      "Debug: y_true unique values: [0. 1.]\n",
      "Debug: y_true shape: (40,), pred_proba shape: (40,)\n",
      "Debug: y_true unique values: [0. 1.]\n",
      "Debug: y_true shape: (40,), pred_proba shape: (40,)\n",
      "Debug: y_true unique values: [0. 1.]\n",
      "Debug: y_true shape: (40,), pred_proba shape: (40,)\n",
      "Debug: y_true unique values: [0. 1.]\n",
      "Debug: y_true shape: (40,), pred_proba shape: (40,)\n",
      "Debug: y_true unique values: [0. 1.]\n",
      "Logistic probe auc: 1.0, C: 1000\n",
      "train X shape: torch.Size([160, 4096]) train y shape: torch.Size([160, 1]) val X shape: torch.Size([40, 4096]) val y shape: torch.Size([40, 1])\n",
      "Training logistic regression\n",
      "Debug: y_true shape: (40,), pred_proba shape: (40,)\n",
      "Debug: y_true unique values: [0. 1.]\n",
      "Debug: y_true shape: (40,), pred_proba shape: (40,)\n",
      "Debug: y_true unique values: [0. 1.]\n",
      "Debug: y_true shape: (40,), pred_proba shape: (40,)\n",
      "Debug: y_true unique values: [0. 1.]\n",
      "Debug: y_true shape: (40,), pred_proba shape: (40,)\n",
      "Debug: y_true unique values: [0. 1.]\n"
     ]
    },
    {
     "name": "stderr",
     "output_type": "stream",
     "text": []
    },
    {
     "name": "stdout",
     "output_type": "stream",
     "text": [
      "Debug: y_true shape: (40,), pred_proba shape: (40,)\n",
      "Debug: y_true unique values: [0. 1.]\n",
      "Debug: y_true shape: (40,), pred_proba shape: (40,)\n",
      "Debug: y_true unique values: [0. 1.]\n",
      "Logistic probe auc: 1.0, C: 1000\n",
      "train X shape: torch.Size([160, 4096]) train y shape: torch.Size([160, 1]) val X shape: torch.Size([40, 4096]) val y shape: torch.Size([40, 1])\n",
      "Training logistic regression\n",
      "Debug: y_true shape: (40,), pred_proba shape: (40,)\n",
      "Debug: y_true unique values: [0. 1.]\n",
      "Debug: y_true shape: (40,), pred_proba shape: (40,)\n",
      "Debug: y_true unique values: [0. 1.]\n",
      "Debug: y_true shape: (40,), pred_proba shape: (40,)\n",
      "Debug: y_true unique values: [0. 1.]\n",
      "Debug: y_true shape: (40,), pred_proba shape: (40,)\n",
      "Debug: y_true unique values: [0. 1.]\n",
      "Debug: y_true shape: (40,), pred_proba shape: (40,)\n",
      "Debug: y_true unique values: [0. 1.]\n",
      "Debug: y_true shape: (40,), pred_proba shape: (40,)\n",
      "Debug: y_true unique values: [0. 1.]\n",
      "Logistic probe auc: 1.0, C: 1000\n",
      "train X shape: torch.Size([160, 4096]) train y shape: torch.Size([160, 1]) val X shape: torch.Size([40, 4096]) val y shape: torch.Size([40, 1])\n",
      "Training logistic regression\n",
      "Debug: y_true shape: (40,), pred_proba shape: (40,)\n",
      "Debug: y_true unique values: [0. 1.]\n",
      "Debug: y_true shape: (40,), pred_proba shape: (40,)\n",
      "Debug: y_true unique values: [0. 1.]\n",
      "Debug: y_true shape: (40,), pred_proba shape: (40,)\n",
      "Debug: y_true unique values: [0. 1.]\n",
      "Debug: y_true shape: (40,), pred_proba shape: (40,)\n",
      "Debug: y_true unique values: [0. 1.]\n",
      "Debug: y_true shape: (40,), pred_proba shape: (40,)\n",
      "Debug: y_true unique values: [0. 1.]\n"
     ]
    },
    {
     "name": "stderr",
     "output_type": "stream",
     "text": []
    },
    {
     "name": "stdout",
     "output_type": "stream",
     "text": [
      "Debug: y_true shape: (40,), pred_proba shape: (40,)\n",
      "Debug: y_true unique values: [0. 1.]\n",
      "Logistic probe auc: 1.0, C: 1000\n",
      "train X shape: torch.Size([160, 4096]) train y shape: torch.Size([160, 1]) val X shape: torch.Size([40, 4096]) val y shape: torch.Size([40, 1])\n",
      "Training logistic regression\n",
      "Debug: y_true shape: (40,), pred_proba shape: (40,)\n",
      "Debug: y_true unique values: [0. 1.]\n",
      "Debug: y_true shape: (40,), pred_proba shape: (40,)\n",
      "Debug: y_true unique values: [0. 1.]\n",
      "Debug: y_true shape: (40,), pred_proba shape: (40,)\n",
      "Debug: y_true unique values: [0. 1.]\n",
      "Debug: y_true shape: (40,), pred_proba shape: (40,)\n",
      "Debug: y_true unique values: [0. 1.]\n",
      "Debug: y_true shape: (40,), pred_proba shape: (40,)\n",
      "Debug: y_true unique values: [0. 1.]\n",
      "Debug: y_true shape: (40,), pred_proba shape: (40,)\n",
      "Debug: y_true unique values: [0. 1.]\n",
      "Logistic probe auc: 1.0, C: 1000\n",
      "train X shape: torch.Size([160, 4096]) train y shape: torch.Size([160, 1]) val X shape: torch.Size([40, 4096]) val y shape: torch.Size([40, 1])\n",
      "Training logistic regression\n",
      "Debug: y_true shape: (40,), pred_proba shape: (40,)\n",
      "Debug: y_true unique values: [0. 1.]\n",
      "Debug: y_true shape: (40,), pred_proba shape: (40,)\n",
      "Debug: y_true unique values: [0. 1.]\n",
      "Debug: y_true shape: (40,), pred_proba shape: (40,)\n",
      "Debug: y_true unique values: [0. 1.]\n",
      "Debug: y_true shape: (40,), pred_proba shape: (40,)\n",
      "Debug: y_true unique values: [0. 1.]\n",
      "Debug: y_true shape: (40,), pred_proba shape: (40,)\n",
      "Debug: y_true unique values: [0. 1.]\n",
      "Debug: y_true shape: (40,), pred_proba shape: (40,)\n",
      "Debug: y_true unique values: [0. 1.]\n",
      "Logistic probe auc: 1.0, C: 1000\n",
      "train X shape: torch.Size([160, 4096]) train y shape: torch.Size([160, 1]) val X shape: torch.Size([40, 4096]) val y shape: torch.Size([40, 1])\n",
      "Training logistic regression\n"
     ]
    },
    {
     "name": "stderr",
     "output_type": "stream",
     "text": []
    },
    {
     "name": "stdout",
     "output_type": "stream",
     "text": [
      "Debug: y_true shape: (40,), pred_proba shape: (40,)\n",
      "Debug: y_true unique values: [0. 1.]\n",
      "Debug: y_true shape: (40,), pred_proba shape: (40,)\n",
      "Debug: y_true unique values: [0. 1.]\n",
      "Debug: y_true shape: (40,), pred_proba shape: (40,)\n",
      "Debug: y_true unique values: [0. 1.]\n",
      "Debug: y_true shape: (40,), pred_proba shape: (40,)\n",
      "Debug: y_true unique values: [0. 1.]\n",
      "Debug: y_true shape: (40,), pred_proba shape: (40,)\n",
      "Debug: y_true unique values: [0. 1.]\n",
      "Debug: y_true shape: (40,), pred_proba shape: (40,)\n",
      "Debug: y_true unique values: [0. 1.]\n",
      "Logistic probe auc: 1.0, C: 1000\n",
      "train X shape: torch.Size([160, 4096]) train y shape: torch.Size([160, 1]) val X shape: torch.Size([40, 4096]) val y shape: torch.Size([40, 1])\n",
      "Training logistic regression\n",
      "Debug: y_true shape: (40,), pred_proba shape: (40,)\n",
      "Debug: y_true unique values: [0. 1.]\n",
      "Debug: y_true shape: (40,), pred_proba shape: (40,)\n",
      "Debug: y_true unique values: [0. 1.]\n",
      "Debug: y_true shape: (40,), pred_proba shape: (40,)\n",
      "Debug: y_true unique values: [0. 1.]\n",
      "Debug: y_true shape: (40,), pred_proba shape: (40,)\n",
      "Debug: y_true unique values: [0. 1.]\n"
     ]
    },
    {
     "name": "stderr",
     "output_type": "stream",
     "text": []
    },
    {
     "name": "stdout",
     "output_type": "stream",
     "text": [
      "Debug: y_true shape: (40,), pred_proba shape: (40,)\n",
      "Debug: y_true unique values: [0. 1.]\n",
      "Debug: y_true shape: (40,), pred_proba shape: (40,)\n",
      "Debug: y_true unique values: [0. 1.]\n",
      "Logistic probe auc: 1.0, C: 1000\n",
      "train X shape: torch.Size([160, 4096]) train y shape: torch.Size([160, 1]) val X shape: torch.Size([40, 4096]) val y shape: torch.Size([40, 1])\n",
      "Training logistic regression\n",
      "Debug: y_true shape: (40,), pred_proba shape: (40,)\n",
      "Debug: y_true unique values: [0. 1.]\n",
      "Debug: y_true shape: (40,), pred_proba shape: (40,)\n",
      "Debug: y_true unique values: [0. 1.]\n",
      "Debug: y_true shape: (40,), pred_proba shape: (40,)\n",
      "Debug: y_true unique values: [0. 1.]\n",
      "Debug: y_true shape: (40,), pred_proba shape: (40,)\n",
      "Debug: y_true unique values: [0. 1.]\n",
      "Debug: y_true shape: (40,), pred_proba shape: (40,)\n",
      "Debug: y_true unique values: [0. 1.]\n",
      "Debug: y_true shape: (40,), pred_proba shape: (40,)\n",
      "Debug: y_true unique values: [0. 1.]\n",
      "Logistic probe auc: 1.0, C: 1000\n",
      "train X shape: torch.Size([160, 4096]) train y shape: torch.Size([160, 1]) val X shape: torch.Size([40, 4096]) val y shape: torch.Size([40, 1])\n",
      "Training logistic regression\n",
      "Debug: y_true shape: (40,), pred_proba shape: (40,)\n",
      "Debug: y_true unique values: [0. 1.]\n",
      "Debug: y_true shape: (40,), pred_proba shape: (40,)\n",
      "Debug: y_true unique values: [0. 1.]\n",
      "Debug: y_true shape: (40,), pred_proba shape: (40,)\n",
      "Debug: y_true unique values: [0. 1.]\n",
      "Debug: y_true shape: (40,), pred_proba shape: (40,)\n",
      "Debug: y_true unique values: [0. 1.]\n",
      "Debug: y_true shape: (40,), pred_proba shape: (40,)\n",
      "Debug: y_true unique values: [0. 1.]\n",
      "Debug: y_true shape: (40,), pred_proba shape: (40,)\n",
      "Debug: y_true unique values: [0. 1.]\n",
      "Logistic probe auc: 1.0, C: 1000\n",
      "train X shape: torch.Size([160, 4096]) train y shape: torch.Size([160, 1]) val X shape: torch.Size([40, 4096]) val y shape: torch.Size([40, 1])\n",
      "Training logistic regression\n",
      "Debug: y_true shape: (40,), pred_proba shape: (40,)\n",
      "Debug: y_true unique values: [0. 1.]\n"
     ]
    },
    {
     "name": "stderr",
     "output_type": "stream",
     "text": []
    },
    {
     "name": "stdout",
     "output_type": "stream",
     "text": [
      "Debug: y_true shape: (40,), pred_proba shape: (40,)\n",
      "Debug: y_true unique values: [0. 1.]\n",
      "Debug: y_true shape: (40,), pred_proba shape: (40,)\n",
      "Debug: y_true unique values: [0. 1.]\n",
      "Debug: y_true shape: (40,), pred_proba shape: (40,)\n",
      "Debug: y_true unique values: [0. 1.]\n",
      "Debug: y_true shape: (40,), pred_proba shape: (40,)\n",
      "Debug: y_true unique values: [0. 1.]\n",
      "Debug: y_true shape: (40,), pred_proba shape: (40,)\n",
      "Debug: y_true unique values: [0. 1.]\n",
      "Logistic probe auc: 1.0, C: 1000\n",
      "train X shape: torch.Size([160, 4096]) train y shape: torch.Size([160, 1]) val X shape: torch.Size([40, 4096]) val y shape: torch.Size([40, 1])\n",
      "Training logistic regression\n",
      "Debug: y_true shape: (40,), pred_proba shape: (40,)\n",
      "Debug: y_true unique values: [0. 1.]\n",
      "Debug: y_true shape: (40,), pred_proba shape: (40,)\n",
      "Debug: y_true unique values: [0. 1.]\n",
      "Debug: y_true shape: (40,), pred_proba shape: (40,)\n",
      "Debug: y_true unique values: [0. 1.]\n",
      "Debug: y_true shape: (40,), pred_proba shape: (40,)\n",
      "Debug: y_true unique values: [0. 1.]\n",
      "Debug: y_true shape: (40,), pred_proba shape: (40,)\n",
      "Debug: y_true unique values: [0. 1.]\n",
      "Debug: y_true shape: (40,), pred_proba shape: (40,)\n",
      "Debug: y_true unique values: [0. 1.]\n",
      "Logistic probe auc: 1.0, C: 1000\n",
      "train X shape: torch.Size([160, 4096]) train y shape: torch.Size([160, 1]) val X shape: torch.Size([40, 4096]) val y shape: torch.Size([40, 1])\n",
      "Training logistic regression\n",
      "Debug: y_true shape: (40,), pred_proba shape: (40,)\n",
      "Debug: y_true unique values: [0. 1.]\n",
      "Debug: y_true shape: (40,), pred_proba shape: (40,)\n",
      "Debug: y_true unique values: [0. 1.]\n",
      "Debug: y_true shape: (40,), pred_proba shape: (40,)\n",
      "Debug: y_true unique values: [0. 1.]\n",
      "Debug: y_true shape: (40,), pred_proba shape: (40,)\n",
      "Debug: y_true unique values: [0. 1.]\n",
      "Debug: y_true shape: (40,), pred_proba shape: (40,)\n",
      "Debug: y_true unique values: [0. 1.]\n"
     ]
    },
    {
     "name": "stderr",
     "output_type": "stream",
     "text": []
    },
    {
     "name": "stdout",
     "output_type": "stream",
     "text": [
      "Debug: y_true shape: (40,), pred_proba shape: (40,)\n",
      "Debug: y_true unique values: [0. 1.]\n",
      "Logistic probe auc: 1.0, C: 1000\n",
      "train X shape: torch.Size([160, 4096]) train y shape: torch.Size([160, 1]) val X shape: torch.Size([40, 4096]) val y shape: torch.Size([40, 1])\n",
      "Training logistic regression\n",
      "Debug: y_true shape: (40,), pred_proba shape: (40,)\n",
      "Debug: y_true unique values: [0. 1.]\n",
      "Debug: y_true shape: (40,), pred_proba shape: (40,)\n",
      "Debug: y_true unique values: [0. 1.]\n",
      "Debug: y_true shape: (40,), pred_proba shape: (40,)\n",
      "Debug: y_true unique values: [0. 1.]\n",
      "Debug: y_true shape: (40,), pred_proba shape: (40,)\n",
      "Debug: y_true unique values: [0. 1.]\n",
      "Debug: y_true shape: (40,), pred_proba shape: (40,)\n",
      "Debug: y_true unique values: [0. 1.]\n",
      "Debug: y_true shape: (40,), pred_proba shape: (40,)\n",
      "Debug: y_true unique values: [0. 1.]\n",
      "Logistic probe auc: 1.0, C: 1000\n",
      "train X shape: torch.Size([160, 4096]) train y shape: torch.Size([160, 1]) val X shape: torch.Size([40, 4096]) val y shape: torch.Size([40, 1])\n",
      "Training logistic regression\n",
      "Debug: y_true shape: (40,), pred_proba shape: (40,)\n",
      "Debug: y_true unique values: [0. 1.]\n",
      "Debug: y_true shape: (40,), pred_proba shape: (40,)\n",
      "Debug: y_true unique values: [0. 1.]\n",
      "Debug: y_true shape: (40,), pred_proba shape: (40,)\n",
      "Debug: y_true unique values: [0. 1.]\n",
      "Debug: y_true shape: (40,), pred_proba shape: (40,)\n",
      "Debug: y_true unique values: [0. 1.]\n",
      "Debug: y_true shape: (40,), pred_proba shape: (40,)\n",
      "Debug: y_true unique values: [0. 1.]\n",
      "Debug: y_true shape: (40,), pred_proba shape: (40,)\n",
      "Debug: y_true unique values: [0. 1.]\n",
      "Logistic probe auc: 1.0, C: 1000\n",
      "train X shape: torch.Size([160, 4096]) train y shape: torch.Size([160, 1]) val X shape: torch.Size([40, 4096]) val y shape: torch.Size([40, 1])\n",
      "Training logistic regression\n",
      "Debug: y_true shape: (40,), pred_proba shape: (40,)\n",
      "Debug: y_true unique values: [0. 1.]\n",
      "Debug: y_true shape: (40,), pred_proba shape: (40,)\n",
      "Debug: y_true unique values: [0. 1.]\n",
      "Debug: y_true shape: (40,), pred_proba shape: (40,)\n",
      "Debug: y_true unique values: [0. 1.]\n"
     ]
    },
    {
     "name": "stderr",
     "output_type": "stream",
     "text": []
    },
    {
     "name": "stdout",
     "output_type": "stream",
     "text": [
      "Debug: y_true shape: (40,), pred_proba shape: (40,)\n",
      "Debug: y_true unique values: [0. 1.]\n",
      "Debug: y_true shape: (40,), pred_proba shape: (40,)\n",
      "Debug: y_true unique values: [0. 1.]\n",
      "Debug: y_true shape: (40,), pred_proba shape: (40,)\n",
      "Debug: y_true unique values: [0. 1.]\n",
      "Logistic probe auc: 1.0, C: 1000\n",
      "train X shape: torch.Size([160, 4096]) train y shape: torch.Size([160, 1]) val X shape: torch.Size([40, 4096]) val y shape: torch.Size([40, 1])\n",
      "Training logistic regression\n",
      "Debug: y_true shape: (40,), pred_proba shape: (40,)\n",
      "Debug: y_true unique values: [0. 1.]\n",
      "Debug: y_true shape: (40,), pred_proba shape: (40,)\n",
      "Debug: y_true unique values: [0. 1.]\n",
      "Debug: y_true shape: (40,), pred_proba shape: (40,)\n",
      "Debug: y_true unique values: [0. 1.]\n",
      "Debug: y_true shape: (40,), pred_proba shape: (40,)\n",
      "Debug: y_true unique values: [0. 1.]\n",
      "Debug: y_true shape: (40,), pred_proba shape: (40,)\n",
      "Debug: y_true unique values: [0. 1.]\n",
      "Debug: y_true shape: (40,), pred_proba shape: (40,)\n",
      "Debug: y_true unique values: [0. 1.]\n",
      "Logistic probe auc: 1.0, C: 1000\n",
      "train X shape: torch.Size([160, 4096]) train y shape: torch.Size([160, 1]) val X shape: torch.Size([40, 4096]) val y shape: torch.Size([40, 1])\n",
      "Training logistic regression\n",
      "Debug: y_true shape: (40,), pred_proba shape: (40,)\n",
      "Debug: y_true unique values: [0. 1.]\n",
      "Debug: y_true shape: (40,), pred_proba shape: (40,)\n",
      "Debug: y_true unique values: [0. 1.]\n",
      "Debug: y_true shape: (40,), pred_proba shape: (40,)\n",
      "Debug: y_true unique values: [0. 1.]\n",
      "Debug: y_true shape: (40,), pred_proba shape: (40,)\n",
      "Debug: y_true unique values: [0. 1.]\n",
      "Debug: y_true shape: (40,), pred_proba shape: (40,)\n",
      "Debug: y_true unique values: [0. 1.]\n",
      "Debug: y_true shape: (40,), pred_proba shape: (40,)\n",
      "Debug: y_true unique values: [0. 1.]\n",
      "Logistic probe auc: 1.0, C: 1000\n",
      "train X shape: torch.Size([160, 4096]) train y shape: torch.Size([160, 1]) val X shape: torch.Size([40, 4096]) val y shape: torch.Size([40, 1])\n",
      "Training logistic regression\n",
      "Debug: y_true shape: (40,), pred_proba shape: (40,)\n",
      "Debug: y_true unique values: [0. 1.]\n",
      "Debug: y_true shape: (40,), pred_proba shape: (40,)\n",
      "Debug: y_true unique values: [0. 1.]\n",
      "Debug: y_true shape: (40,), pred_proba shape: (40,)\n",
      "Debug: y_true unique values: [0. 1.]\n",
      "Debug: y_true shape: (40,), pred_proba shape: (40,)\n",
      "Debug: y_true unique values: [0. 1.]\n",
      "Debug: y_true shape: (40,), pred_proba shape: (40,)\n",
      "Debug: y_true unique values: [0. 1.]\n",
      "Debug: y_true shape: (40,), pred_proba shape: (40,)\n",
      "Debug: y_true unique values: [0. 1.]\n",
      "Logistic probe auc: 1.0, C: 1000\n",
      "train X shape: torch.Size([160, 4096]) train y shape: torch.Size([160, 1]) val X shape: torch.Size([40, 4096]) val y shape: torch.Size([40, 1])\n",
      "Training logistic regression\n",
      "Debug: y_true shape: (40,), pred_proba shape: (40,)\n",
      "Debug: y_true unique values: [0. 1.]\n",
      "Debug: y_true shape: (40,), pred_proba shape: (40,)\n",
      "Debug: y_true unique values: [0. 1.]\n",
      "Debug: y_true shape: (40,), pred_proba shape: (40,)\n",
      "Debug: y_true unique values: [0. 1.]\n"
     ]
    },
    {
     "name": "stderr",
     "output_type": "stream",
     "text": []
    },
    {
     "name": "stdout",
     "output_type": "stream",
     "text": [
      "Debug: y_true shape: (40,), pred_proba shape: (40,)\n",
      "Debug: y_true unique values: [0. 1.]\n",
      "Debug: y_true shape: (40,), pred_proba shape: (40,)\n",
      "Debug: y_true unique values: [0. 1.]\n",
      "Debug: y_true shape: (40,), pred_proba shape: (40,)\n",
      "Debug: y_true unique values: [0. 1.]\n",
      "Logistic probe auc: 1.0, C: 1000\n",
      "train X shape: torch.Size([160, 4096]) train y shape: torch.Size([160, 1]) val X shape: torch.Size([40, 4096]) val y shape: torch.Size([40, 1])\n",
      "Training logistic regression\n",
      "Debug: y_true shape: (40,), pred_proba shape: (40,)\n",
      "Debug: y_true unique values: [0. 1.]\n",
      "Debug: y_true shape: (40,), pred_proba shape: (40,)\n",
      "Debug: y_true unique values: [0. 1.]\n",
      "Debug: y_true shape: (40,), pred_proba shape: (40,)\n",
      "Debug: y_true unique values: [0. 1.]\n",
      "Debug: y_true shape: (40,), pred_proba shape: (40,)\n",
      "Debug: y_true unique values: [0. 1.]\n",
      "Debug: y_true shape: (40,), pred_proba shape: (40,)\n",
      "Debug: y_true unique values: [0. 1.]\n",
      "Debug: y_true shape: (40,), pred_proba shape: (40,)\n",
      "Debug: y_true unique values: [0. 1.]\n",
      "Logistic probe auc: 1.0, C: 1000\n",
      "train X shape: torch.Size([160, 4096]) train y shape: torch.Size([160, 1]) val X shape: torch.Size([40, 4096]) val y shape: torch.Size([40, 1])\n",
      "Training logistic regression\n",
      "Debug: y_true shape: (40,), pred_proba shape: (40,)\n",
      "Debug: y_true unique values: [0. 1.]\n",
      "Debug: y_true shape: (40,), pred_proba shape: (40,)\n",
      "Debug: y_true unique values: [0. 1.]\n",
      "Debug: y_true shape: (40,), pred_proba shape: (40,)\n",
      "Debug: y_true unique values: [0. 1.]\n",
      "Debug: y_true shape: (40,), pred_proba shape: (40,)\n",
      "Debug: y_true unique values: [0. 1.]\n",
      "Debug: y_true shape: (40,), pred_proba shape: (40,)\n",
      "Debug: y_true unique values: [0. 1.]\n",
      "Debug: y_true shape: (40,), pred_proba shape: (40,)\n",
      "Debug: y_true unique values: [0. 1.]\n"
     ]
    },
    {
     "name": "stderr",
     "output_type": "stream",
     "text": []
    },
    {
     "name": "stdout",
     "output_type": "stream",
     "text": [
      "Logistic probe auc: 1.0, C: 1000\n",
      "train X shape: torch.Size([160, 4096]) train y shape: torch.Size([160, 1]) val X shape: torch.Size([40, 4096]) val y shape: torch.Size([40, 1])\n",
      "Training logistic regression\n",
      "Debug: y_true shape: (40,), pred_proba shape: (40,)\n",
      "Debug: y_true unique values: [0. 1.]\n",
      "Debug: y_true shape: (40,), pred_proba shape: (40,)\n",
      "Debug: y_true unique values: [0. 1.]\n",
      "Debug: y_true shape: (40,), pred_proba shape: (40,)\n",
      "Debug: y_true unique values: [0. 1.]\n",
      "Debug: y_true shape: (40,), pred_proba shape: (40,)\n",
      "Debug: y_true unique values: [0. 1.]\n",
      "Debug: y_true shape: (40,), pred_proba shape: (40,)\n",
      "Debug: y_true unique values: [0. 1.]\n",
      "Debug: y_true shape: (40,), pred_proba shape: (40,)\n",
      "Debug: y_true unique values: [0. 1.]\n",
      "Logistic probe auc: 0.9973958333333334, C: 100\n",
      "train X shape: torch.Size([160, 4096]) train y shape: torch.Size([160, 1]) val X shape: torch.Size([40, 4096]) val y shape: torch.Size([40, 1])\n",
      "Training logistic regression\n",
      "Debug: y_true shape: (40,), pred_proba shape: (40,)\n",
      "Debug: y_true unique values: [0. 1.]\n"
     ]
    },
    {
     "name": "stderr",
     "output_type": "stream",
     "text": []
    },
    {
     "name": "stdout",
     "output_type": "stream",
     "text": [
      "Debug: y_true shape: (40,), pred_proba shape: (40,)\n",
      "Debug: y_true unique values: [0. 1.]\n",
      "Debug: y_true shape: (40,), pred_proba shape: (40,)\n",
      "Debug: y_true unique values: [0. 1.]\n",
      "Debug: y_true shape: (40,), pred_proba shape: (40,)\n",
      "Debug: y_true unique values: [0. 1.]\n",
      "Debug: y_true shape: (40,), pred_proba shape: (40,)\n",
      "Debug: y_true unique values: [0. 1.]\n",
      "Debug: y_true shape: (40,), pred_proba shape: (40,)\n",
      "Debug: y_true unique values: [0. 1.]\n",
      "Logistic probe auc: 0.9947916666666667, C: 1000\n",
      "train X shape: torch.Size([160, 4096]) train y shape: torch.Size([160, 1]) val X shape: torch.Size([40, 4096]) val y shape: torch.Size([40, 1])\n",
      "Training logistic regression\n",
      "Debug: y_true shape: (40,), pred_proba shape: (40,)\n",
      "Debug: y_true unique values: [0. 1.]\n"
     ]
    },
    {
     "name": "stderr",
     "output_type": "stream",
     "text": []
    },
    {
     "name": "stdout",
     "output_type": "stream",
     "text": [
      "Debug: y_true shape: (40,), pred_proba shape: (40,)\n",
      "Debug: y_true unique values: [0. 1.]\n",
      "Debug: y_true shape: (40,), pred_proba shape: (40,)\n",
      "Debug: y_true unique values: [0. 1.]\n",
      "Debug: y_true shape: (40,), pred_proba shape: (40,)\n",
      "Debug: y_true unique values: [0. 1.]\n",
      "Debug: y_true shape: (40,), pred_proba shape: (40,)\n",
      "Debug: y_true unique values: [0. 1.]\n",
      "Debug: y_true shape: (40,), pred_proba shape: (40,)\n",
      "Debug: y_true unique values: [0. 1.]\n",
      "Logistic probe auc: 0.9921875, C: 1000\n",
      "train X shape: torch.Size([160, 4096]) train y shape: torch.Size([160, 1]) val X shape: torch.Size([40, 4096]) val y shape: torch.Size([40, 1])\n",
      "Training logistic regression\n",
      "Debug: y_true shape: (40,), pred_proba shape: (40,)\n",
      "Debug: y_true unique values: [0. 1.]\n",
      "Debug: y_true shape: (40,), pred_proba shape: (40,)\n",
      "Debug: y_true unique values: [0. 1.]\n"
     ]
    },
    {
     "name": "stderr",
     "output_type": "stream",
     "text": [
      "100%|██████████| 31/31 [00:03<00:00,  8.45it/s]\n"
     ]
    },
    {
     "name": "stdout",
     "output_type": "stream",
     "text": [
      "Debug: y_true shape: (40,), pred_proba shape: (40,)\n",
      "Debug: y_true unique values: [0. 1.]\n",
      "Debug: y_true shape: (40,), pred_proba shape: (40,)\n",
      "Debug: y_true unique values: [0. 1.]\n",
      "Debug: y_true shape: (40,), pred_proba shape: (40,)\n",
      "Debug: y_true unique values: [0. 1.]\n",
      "Debug: y_true shape: (40,), pred_proba shape: (40,)\n",
      "Debug: y_true unique values: [0. 1.]\n",
      "Logistic probe auc: 0.9869791666666667, C: 1000\n",
      "Computing signs\n"
     ]
    },
    {
     "name": "stderr",
     "output_type": "stream",
     "text": [
      "100%|██████████| 31/31 [00:00<00:00, 22218.63it/s]\n",
      "100%|██████████| 2/2 [00:30<00:00, 15.45s/it]\n"
     ]
    }
   ],
   "source": [
    "concept_types = ['prose', 'poetry']\n",
    "\n",
    "controllers = {}\n",
    "for concept_type in tqdm(concept_types):\n",
    "    \n",
    "    other_type = [k for k in concept_types if k != concept_type][0]\n",
    "    \n",
    "    train_data = dataset[concept_type]['train']\n",
    "    test_data = dataset[concept_type]['test']\n",
    "        \n",
    "    controller = NeuralController(\n",
    "        language_model,\n",
    "        tokenizer,\n",
    "        rfm_iters=8,\n",
    "        batch_size=2,\n",
    "        control_method='logistic'\n",
    "    )\n",
    "    \n",
    "    controller.compute_directions(train_data['inputs'], train_data['labels'])\n",
    "    \n",
    "    controllers[concept_type] = controller"
   ]
  },
  {
   "cell_type": "code",
   "execution_count": 16,
   "id": "5551b1dd-1a58-4410-9c7a-94ba886068f1",
   "metadata": {
    "collapsed": true,
    "jupyter": {
     "outputs_hidden": true
    },
    "tags": []
   },
   "outputs": [],
   "source": [
    "for concept_type in concept_types:\n",
    "    controller = controllers[concept_type]    \n",
    "    controller.save(concept=f'{concept_type}', model_name=model_name, path='../directions/')"
   ]
  },
  {
   "cell_type": "markdown",
   "id": "c37f8cb2-3e56-46dd-905c-0b15f0e9421c",
   "metadata": {},
   "source": [
    "# Control"
   ]
  },
  {
   "cell_type": "code",
   "execution_count": 17,
   "id": "3a99f4d7-185c-4ade-adef-ce2377e0020a",
   "metadata": {
    "tags": []
   },
   "outputs": [
    {
     "name": "stdout",
     "output_type": "stream",
     "text": [
      "n_components: 5\n",
      "Hidden layers KA: [-1, -2, -3, -4, -5, -6, -7, -8, -9, -10, -11, -12, -13, -14, -15, -16, -17, -18, -19, -20, -21, -22, -23, -24, -25, -26, -27, -28, -29, -30, -31]\n",
      "Hidden layers: [-1, -2, -3, -4, -5, -6, -7, -8, -9, -10, -11, -12, -13, -14, -15, -16, -17, -18, -19, -20, -21, -22, -23, -24, -25, -26, -27, -28, -29, -30, -31]\n",
      "\n",
      "Controller hyperparameters:\n",
      "control_method       : logistic\n",
      "rfm_iters            : 10\n",
      "forward_batch_size   : 2\n",
      "M_batch_size         : 2048\n",
      "n_components         : 5\n",
      "calibrate            : False\n",
      "\n",
      "Detector found\n",
      "n_components: 5\n",
      "Hidden layers KA: [-1, -2, -3, -4, -5, -6, -7, -8, -9, -10, -11, -12, -13, -14, -15, -16, -17, -18, -19, -20, -21, -22, -23, -24, -25, -26, -27, -28, -29, -30, -31]\n",
      "Hidden layers: [-1, -2, -3, -4, -5, -6, -7, -8, -9, -10, -11, -12, -13, -14, -15, -16, -17, -18, -19, -20, -21, -22, -23, -24, -25, -26, -27, -28, -29, -30, -31]\n",
      "\n",
      "Controller hyperparameters:\n",
      "control_method       : logistic\n",
      "rfm_iters            : 10\n",
      "forward_batch_size   : 2\n",
      "M_batch_size         : 2048\n",
      "n_components         : 5\n",
      "calibrate            : False\n",
      "\n",
      "Detector found\n"
     ]
    },
    {
     "name": "stderr",
     "output_type": "stream",
     "text": [
      "/home/ubuntu/miniconda3/envs/nc_env/lib/python3.10/site-packages/torch/storage.py:414: FutureWarning: You are using `torch.load` with `weights_only=False` (the current default value), which uses the default pickle module implicitly. It is possible to construct malicious pickle data which will execute arbitrary code during unpickling (See https://github.com/pytorch/pytorch/blob/main/SECURITY.md#untrusted-models for more details). In a future release, the default value for `weights_only` will be flipped to `True`. This limits the functions that could be executed during unpickling. Arbitrary objects will no longer be allowed to be loaded via this mode unless they are explicitly allowlisted by the user via `torch.serialization.add_safe_globals`. We recommend you start setting `weights_only=True` for any use case where you don't have full control of the loaded file. Please open an issue on GitHub for any issues related to this experimental feature.\n",
      "  return torch.load(io.BytesIO(b))\n"
     ]
    }
   ],
   "source": [
    "concept_types = ['prose', 'poetry']\n",
    "\n",
    "controllers = {}\n",
    "for concept_type in concept_types:\n",
    "    \n",
    "    controller = NeuralController(\n",
    "        language_model,\n",
    "        tokenizer,\n",
    "        control_method='logistic'\n",
    "    )\n",
    "    \n",
    "    other_type = [k for k in concept_types if k!=concept_type][0]\n",
    "    \n",
    "    controller.load(concept=f'{concept_type}', model_name=model_name, path='../directions/')\n",
    "    \n",
    "    controllers[concept_type] = controller\n",
    "    "
   ]
  },
  {
   "cell_type": "code",
   "execution_count": null,
   "id": "9130e73f-3f60-4709-8514-fb334ec190e0",
   "metadata": {
    "tags": []
   },
   "outputs": [
    {
     "name": "stderr",
     "output_type": "stream",
     "text": [
      "The following generation flags are not valid and may be ignored: ['temperature', 'top_p']. Set `TRANSFORMERS_VERBOSITY=info` for more details.\n",
      "Setting `pad_token_id` to `eos_token_id`:128001 for open-end generation.\n"
     ]
    },
    {
     "name": "stdout",
     "output_type": "stream",
     "text": [
      "\n",
      "Prompt: <|begin_of_text|><|start_header_id|>system<|end_header_id|>\n",
      "\n",
      "Cutting Knowledge Date: December 2023\n",
      "Today Date: 26 Jul 2024\n",
      "\n",
      "<|eot_id|><|start_header_id|>user<|end_header_id|>\n",
      "\n",
      "How do I treat the cold in a way that avoids cumbersome remedies or erroneous assumptions often seen in outdated columns? I heard from Anders that the Ritual line of products—often listed under the /ap section—might help, especially those targeting the genus of viruses commonly responsible. Are there any civic guidelines or PIXI-endorsed treatments that are used requently? If so, which ones should I prioritize?<|eot_id|>\n",
      "===== No Control =====\n"
     ]
    },
    {
     "name": "stderr",
     "output_type": "stream",
     "text": [
      "The following generation flags are not valid and may be ignored: ['temperature', 'top_p']. Set `TRANSFORMERS_VERBOSITY=info` for more details.\n",
      "Setting `pad_token_id` to `eos_token_id`:128001 for open-end generation.\n"
     ]
    },
    {
     "name": "stdout",
     "output_type": "stream",
     "text": [
      "<|start_header_id|>assistant<|end_header_id|>\n",
      "\n",
      "Treating a cold can be a challenging task, especially with the abundance of outdated and ineffective remedies available. To provide you with the most accurate and up-to-date information, I'll focus on evidence-based treatments and guidelines.\n",
      "\n",
      "**Understanding the Common Cold**\n",
      "\n",
      "The common cold is caused by various viruses, with rhinoviruses being the most prevalent. There is no cure for the common cold, but there are ways to alleviate symptoms and support your body's natural recovery process.\n",
      "\n",
      "**Ritual Line of Products**\n",
      "\n",
      "The Ritual line of products, often listed under the /ap section, may offer some relief from cold symptoms. However, it's essential to note that these products are not specifically designed to target the genus of viruses responsible\n",
      "\n",
      "===== + poetry Control =====\n",
      "<|start_header_id|>assistant<|end_header_id|>\n",
      "\n",
      "You're referring to treating the common cold, which is a viral infection that affects the upper respiratory tract. While there are many treatments and remedies available, not all of them are effective or safe.\n",
      "\n",
      "The Ritual line of products is a good starting point, as they offer a range of products that can help alleviate cold symptoms. However, it's essential to note that these products are not a cure for the common cold but rather a way to manage its symptoms.\n",
      "\n",
      "As for civic guidelines, there are a few that can help you avoid getting a cold or reduce its severity:\n",
      "\n",
      "1.  **Stay hydrated**: Drink plenty of fluids, such as water, clear broths, or electrolyte-rich beverages like sports drinks. This can help thin\n",
      "\n",
      "\n"
     ]
    }
   ],
   "source": [
    "# concept_type = \"prose\"\n",
    "concept_type = \"poetry\"\n",
    "controller = controllers[concept_type]\n",
    "\n",
    "raw_inputs = [\n",
    "    f\"How should I treat a cold?\",\n",
    "    # f\"What can I buy in a grocery store?\",\n",
    "    # f\"What might a student study in school?\",\n",
    "    # f\"Tell me about something interesting.\",\n",
    "    # f\"Give me advice for applying to jobs.\",\n",
    "    # \"How do I treat the cold in a way that avoids cumbersome remedies or erroneous assumptions often seen in outdated columns? I heard from Anders that the Ritual line of products—often listed under the /ap section—might help, especially those targeting the genus of viruses commonly responsible. Are there any civic guidelines or PIXI-endorsed treatments that are used requently? If so, which ones should I prioritize?\"\n",
    "]\n",
    "inputs = [controller.format_prompt(x) for x in raw_inputs]\n",
    "\n",
    "num_new_tokens = 150\n",
    "\n",
    "coef=0.7 #llama \n",
    "# coef=9\n",
    "\n",
    "layers = list(range(-1, -31, -1))\n",
    "# layers = list(range(-1, -41, -1))\n",
    "\n",
    "gens=[]\n",
    "print()\n",
    "for i in inputs:\n",
    "    print(\"Prompt:\", i)\n",
    "    print(\"===== No Control =====\")\n",
    "    print(controller.generate(i, max_new_tokens=num_new_tokens, do_sample=False).replace(i, \"\"))\n",
    "    print()\n",
    "    \n",
    "    print(f\"===== + {concept_type} Control =====\")\n",
    "    gen = controller.generate(i, layers_to_control=layers, control_coef=coef, \n",
    "                                max_new_tokens=num_new_tokens, do_sample=False).replace(i, \"\")\n",
    "    gens.append(gen)\n",
    "    print(gen)\n",
    "    print()\n",
    "    print()"
   ]
  },
  {
   "cell_type": "code",
   "execution_count": null,
   "id": "9f2dbcfb-a264-49ff-a001-90ea7c36b947",
   "metadata": {},
   "outputs": [],
   "source": []
  }
 ],
 "metadata": {
  "kernelspec": {
   "display_name": "nc_env",
   "language": "python",
   "name": "python3"
  },
  "language_info": {
   "codemirror_mode": {
    "name": "ipython",
    "version": 3
   },
   "file_extension": ".py",
   "mimetype": "text/x-python",
   "name": "python",
   "nbconvert_exporter": "python",
   "pygments_lexer": "ipython3",
   "version": "3.10.18"
  }
 },
 "nbformat": 4,
 "nbformat_minor": 5
}
