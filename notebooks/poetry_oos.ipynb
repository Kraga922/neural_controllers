{
 "cells": [
  {
   "cell_type": "code",
   "execution_count": 1,
   "id": "91f5e166-38a4-4d7c-8b3f-2964ba367711",
   "metadata": {
    "tags": []
   },
   "outputs": [],
   "source": [
    "%load_ext autoreload\n",
    "%autoreload 2"
   ]
  },
  {
   "cell_type": "code",
   "execution_count": 2,
   "id": "67496383-3332-4a94-af72-2469390dced6",
   "metadata": {
    "tags": []
   },
   "outputs": [],
   "source": [
    "import sys\n",
    "from pathlib import Path\n",
    "\n",
    "notebook_path = Path().absolute()\n",
    "sys.path.append(str(notebook_path.parent))"
   ]
  },
  {
   "cell_type": "code",
   "execution_count": 3,
   "id": "fd6438f5-0de8-48f5-843a-fac5dc46cb93",
   "metadata": {
    "tags": []
   },
   "outputs": [
    {
     "name": "stderr",
     "output_type": "stream",
     "text": [
      "/home/ubuntu/miniconda3/envs/nc_env/lib/python3.10/site-packages/tqdm/auto.py:21: TqdmWarning: IProgress not found. Please update jupyter and ipywidgets. See https://ipywidgets.readthedocs.io/en/stable/user_install.html\n",
      "  from .autonotebook import tqdm as notebook_tqdm\n"
     ]
    }
   ],
   "source": [
    "import torch\n",
    "from tqdm import tqdm\n",
    "from transformers import AutoTokenizer, AutoModelForCausalLM\n",
    "from neural_controllers import NeuralController\n",
    "import utils"
   ]
  },
  {
   "cell_type": "code",
   "execution_count": 6,
   "id": "9b77eb18-a0d1-4892-a81c-58c04bc67820",
   "metadata": {
    "tags": []
   },
   "outputs": [
    {
     "name": "stderr",
     "output_type": "stream",
     "text": [
      "Loading checkpoint shards: 100%|██████████| 3/3 [00:04<00:00,  1.62s/it]\n"
     ]
    }
   ],
   "source": [
    "# model_type = 'llama'\n",
    "model_type = 'gpt_oos'\n",
    "\n",
    "\n",
    "if model_type=='llama':\n",
    "    model_id = \"meta-llama/Meta-Llama-3.1-8B-Instruct\"\n",
    "\n",
    "    language_model = AutoModelForCausalLM.from_pretrained(\n",
    "        model_id, device_map=\"cuda\"\n",
    "    )\n",
    "\n",
    "    use_fast_tokenizer = \"LlamaForCausalLM\" not in language_model.config.architectures\n",
    "    tokenizer = AutoTokenizer.from_pretrained(model_id, use_fast=use_fast_tokenizer, padding_side=\"left\", legacy=False)\n",
    "    model_name='llama_3_8b_it'\n",
    "    assistant_tag = '<|start_header_id|>assistant<|end_header_id|>'\n",
    "    \n",
    "elif model_type=='gemma':\n",
    "\n",
    "    tokenizer = AutoTokenizer.from_pretrained(\"google/gemma-2-9b-it\")\n",
    "    language_model = AutoModelForCausalLM.from_pretrained(\n",
    "        \"google/gemma-2-9b-it\",\n",
    "        device_map=\"auto\",\n",
    "        torch_dtype=torch.bfloat16,\n",
    "    )\n",
    "    model_name='gemma_2_9b_it'\n",
    "\n",
    "elif model_type == 'gpt_oos':\n",
    "    model_id = \"openai/gpt-oss-20b\"\n",
    "    language_model = AutoModelForCausalLM.from_pretrained(\n",
    "        model_id, device_map=\"auto\", torch_dtype=torch.bfloat16\n",
    "    )\n",
    "\n",
    "    tokenizer = AutoTokenizer.from_pretrained(\n",
    "        model_id, use_fast=True, padding_side=\"left\", legacy=False\n",
    "    )\n",
    "    assistant_tag = '<|start_header_id|>gpt_assistant<|end_header_id|>'\n",
    "    \n",
    "    model_name = 'gpt_oos'\n",
    "    \n",
    "tokenizer.pad_token_id = 0 if tokenizer.pad_token_id is None else tokenizer.pad_token_id"
   ]
  },
  {
   "cell_type": "code",
   "execution_count": 7,
   "id": "279e2d56-b372-42a4-b116-fe8f7b4cc1f7",
   "metadata": {
    "tags": []
   },
   "outputs": [
    {
     "name": "stdout",
     "output_type": "stream",
     "text": [
      "train 200 test 0\n",
      "train 200 test 0\n"
     ]
    }
   ],
   "source": [
    "data_dir = \"../data/poetry\"\n",
    "\n",
    "dataset = utils.poetry_dataset(data_dir=data_dir, tokenizer=tokenizer, assistant_tag=assistant_tag)"
   ]
  },
  {
   "cell_type": "code",
   "execution_count": 8,
   "id": "26ee713a-fe22-4f7f-8deb-372b42b855cd",
   "metadata": {
    "collapsed": true,
    "jupyter": {
     "outputs_hidden": true
    },
    "tags": []
   },
   "outputs": [
    {
     "name": "stderr",
     "output_type": "stream",
     "text": [
      "  0%|          | 0/2 [00:00<?, ?it/s]"
     ]
    },
    {
     "name": "stdout",
     "output_type": "stream",
     "text": [
      "n_components: 5\n",
      "Hidden layers KA: [-1, -2, -3, -4, -5, -6, -7, -8, -9, -10, -11, -12, -13, -14, -15, -16, -17, -18, -19, -20, -21, -22, -23]\n",
      "Hidden layers: [-1, -2, -3, -4, -5, -6, -7, -8, -9, -10, -11, -12, -13, -14, -15, -16, -17, -18, -19, -20, -21, -22, -23]\n",
      "\n",
      "Controller hyperparameters:\n",
      "control_method       : logistic\n",
      "rfm_iters            : 8\n",
      "forward_batch_size   : 2\n",
      "M_batch_size         : 2048\n",
      "n_components         : 5\n",
      "calibrate            : False\n",
      "\n",
      "Getting activations from forward passes\n"
     ]
    },
    {
     "name": "stderr",
     "output_type": "stream",
     "text": []
    },
    {
     "name": "stderr",
     "output_type": "stream",
     "text": [
      "100%|██████████| 80/80 [00:05<00:00, 14.59it/s]\n"
     ]
    },
    {
     "name": "stdout",
     "output_type": "stream",
     "text": [
      "Getting activations from forward passes\n"
     ]
    },
    {
     "name": "stderr",
     "output_type": "stream",
     "text": [
      "100%|██████████| 20/20 [00:01<00:00, 17.12it/s]\n"
     ]
    },
    {
     "name": "stdout",
     "output_type": "stream",
     "text": [
      "train X shape: torch.Size([160, 2880]) train y shape: torch.Size([160, 1]) val X shape: torch.Size([40, 2880]) val y shape: torch.Size([40, 1])\n",
      "Training logistic regression\n",
      "Debug: y_true shape: (40,), pred_proba shape: (40,)\n",
      "Debug: y_true unique values: [0. 1.]\n",
      "Debug: y_true shape: (40,), pred_proba shape: (40,)\n",
      "Debug: y_true unique values: [0. 1.]\n",
      "Debug: y_true shape: (40,), pred_proba shape: (40,)\n",
      "Debug: y_true unique values: [0. 1.]\n",
      "Debug: y_true shape: (40,), pred_proba shape: (40,)\n",
      "Debug: y_true unique values: [0. 1.]\n",
      "Debug: y_true shape: (40,), pred_proba shape: (40,)\n",
      "Debug: y_true unique values: [0. 1.]\n",
      "Debug: y_true shape: (40,), pred_proba shape: (40,)\n",
      "Debug: y_true unique values: [0. 1.]\n",
      "Logistic probe auc: 1.0, C: 1000\n"
     ]
    },
    {
     "name": "stderr",
     "output_type": "stream",
     "text": []
    },
    {
     "name": "stdout",
     "output_type": "stream",
     "text": [
      "train X shape: torch.Size([160, 2880]) train y shape: torch.Size([160, 1]) val X shape: torch.Size([40, 2880]) val y shape: torch.Size([40, 1])\n",
      "Training logistic regression\n",
      "Debug: y_true shape: (40,), pred_proba shape: (40,)\n",
      "Debug: y_true unique values: [0. 1.]\n",
      "Debug: y_true shape: (40,), pred_proba shape: (40,)\n",
      "Debug: y_true unique values: [0. 1.]\n",
      "Debug: y_true shape: (40,), pred_proba shape: (40,)\n",
      "Debug: y_true unique values: [0. 1.]\n",
      "Debug: y_true shape: (40,), pred_proba shape: (40,)\n",
      "Debug: y_true unique values: [0. 1.]\n",
      "Debug: y_true shape: (40,), pred_proba shape: (40,)\n",
      "Debug: y_true unique values: [0. 1.]\n"
     ]
    },
    {
     "name": "stderr",
     "output_type": "stream",
     "text": []
    },
    {
     "name": "stdout",
     "output_type": "stream",
     "text": [
      "Debug: y_true shape: (40,), pred_proba shape: (40,)\n",
      "Debug: y_true unique values: [0. 1.]\n",
      "Logistic probe auc: 1.0, C: 1000\n",
      "train X shape: torch.Size([160, 2880]) train y shape: torch.Size([160, 1]) val X shape: torch.Size([40, 2880]) val y shape: torch.Size([40, 1])\n",
      "Training logistic regression\n",
      "Debug: y_true shape: (40,), pred_proba shape: (40,)\n",
      "Debug: y_true unique values: [0. 1.]\n",
      "Debug: y_true shape: (40,), pred_proba shape: (40,)\n",
      "Debug: y_true unique values: [0. 1.]\n",
      "Debug: y_true shape: (40,), pred_proba shape: (40,)\n",
      "Debug: y_true unique values: [0. 1.]\n",
      "Debug: y_true shape: (40,), pred_proba shape: (40,)\n",
      "Debug: y_true unique values: [0. 1.]\n",
      "Debug: y_true shape: (40,), pred_proba shape: (40,)\n",
      "Debug: y_true unique values: [0. 1.]\n"
     ]
    },
    {
     "name": "stderr",
     "output_type": "stream",
     "text": []
    },
    {
     "name": "stdout",
     "output_type": "stream",
     "text": [
      "Debug: y_true shape: (40,), pred_proba shape: (40,)\n",
      "Debug: y_true unique values: [0. 1.]\n",
      "Logistic probe auc: 1.0, C: 1000\n",
      "train X shape: torch.Size([160, 2880]) train y shape: torch.Size([160, 1]) val X shape: torch.Size([40, 2880]) val y shape: torch.Size([40, 1])\n",
      "Training logistic regression\n",
      "Debug: y_true shape: (40,), pred_proba shape: (40,)\n",
      "Debug: y_true unique values: [0. 1.]\n",
      "Debug: y_true shape: (40,), pred_proba shape: (40,)\n",
      "Debug: y_true unique values: [0. 1.]\n",
      "Debug: y_true shape: (40,), pred_proba shape: (40,)\n",
      "Debug: y_true unique values: [0. 1.]\n",
      "Debug: y_true shape: (40,), pred_proba shape: (40,)\n",
      "Debug: y_true unique values: [0. 1.]\n",
      "Debug: y_true shape: (40,), pred_proba shape: (40,)\n",
      "Debug: y_true unique values: [0. 1.]\n",
      "Debug: y_true shape: (40,), pred_proba shape: (40,)\n",
      "Debug: y_true unique values: [0. 1.]\n",
      "Logistic probe auc: 1.0, C: 1000\n"
     ]
    },
    {
     "name": "stderr",
     "output_type": "stream",
     "text": []
    },
    {
     "name": "stdout",
     "output_type": "stream",
     "text": [
      "train X shape: torch.Size([160, 2880]) train y shape: torch.Size([160, 1]) val X shape: torch.Size([40, 2880]) val y shape: torch.Size([40, 1])\n",
      "Training logistic regression\n",
      "Debug: y_true shape: (40,), pred_proba shape: (40,)\n",
      "Debug: y_true unique values: [0. 1.]\n",
      "Debug: y_true shape: (40,), pred_proba shape: (40,)\n",
      "Debug: y_true unique values: [0. 1.]\n",
      "Debug: y_true shape: (40,), pred_proba shape: (40,)\n",
      "Debug: y_true unique values: [0. 1.]\n",
      "Debug: y_true shape: (40,), pred_proba shape: (40,)\n",
      "Debug: y_true unique values: [0. 1.]\n",
      "Debug: y_true shape: (40,), pred_proba shape: (40,)\n",
      "Debug: y_true unique values: [0. 1.]\n",
      "Debug: y_true shape: (40,), pred_proba shape: (40,)\n",
      "Debug: y_true unique values: [0. 1.]\n",
      "Logistic probe auc: 1.0, C: 1000\n",
      "train X shape: torch.Size([160, 2880]) train y shape: torch.Size([160, 1]) val X shape: torch.Size([40, 2880]) val y shape: torch.Size([40, 1])\n",
      "Training logistic regression\n",
      "Debug: y_true shape: (40,), pred_proba shape: (40,)\n",
      "Debug: y_true unique values: [0. 1.]\n",
      "Debug: y_true shape: (40,), pred_proba shape: (40,)\n",
      "Debug: y_true unique values: [0. 1.]\n"
     ]
    },
    {
     "name": "stderr",
     "output_type": "stream",
     "text": []
    },
    {
     "name": "stdout",
     "output_type": "stream",
     "text": [
      "Debug: y_true shape: (40,), pred_proba shape: (40,)\n",
      "Debug: y_true unique values: [0. 1.]\n",
      "Debug: y_true shape: (40,), pred_proba shape: (40,)\n",
      "Debug: y_true unique values: [0. 1.]\n",
      "Debug: y_true shape: (40,), pred_proba shape: (40,)\n",
      "Debug: y_true unique values: [0. 1.]\n",
      "Debug: y_true shape: (40,), pred_proba shape: (40,)\n",
      "Debug: y_true unique values: [0. 1.]\n",
      "Logistic probe auc: 1.0, C: 1000\n",
      "train X shape: torch.Size([160, 2880]) train y shape: torch.Size([160, 1]) val X shape: torch.Size([40, 2880]) val y shape: torch.Size([40, 1])\n",
      "Training logistic regression\n",
      "Debug: y_true shape: (40,), pred_proba shape: (40,)\n",
      "Debug: y_true unique values: [0. 1.]\n",
      "Debug: y_true shape: (40,), pred_proba shape: (40,)\n",
      "Debug: y_true unique values: [0. 1.]\n",
      "Debug: y_true shape: (40,), pred_proba shape: (40,)\n",
      "Debug: y_true unique values: [0. 1.]\n",
      "Debug: y_true shape: (40,), pred_proba shape: (40,)\n",
      "Debug: y_true unique values: [0. 1.]\n",
      "Debug: y_true shape: (40,), pred_proba shape: (40,)\n",
      "Debug: y_true unique values: [0. 1.]\n"
     ]
    },
    {
     "name": "stderr",
     "output_type": "stream",
     "text": []
    },
    {
     "name": "stdout",
     "output_type": "stream",
     "text": [
      "Debug: y_true shape: (40,), pred_proba shape: (40,)\n",
      "Debug: y_true unique values: [0. 1.]\n",
      "Logistic probe auc: 1.0, C: 1000\n",
      "train X shape: torch.Size([160, 2880]) train y shape: torch.Size([160, 1]) val X shape: torch.Size([40, 2880]) val y shape: torch.Size([40, 1])\n",
      "Training logistic regression\n",
      "Debug: y_true shape: (40,), pred_proba shape: (40,)\n",
      "Debug: y_true unique values: [0. 1.]\n",
      "Debug: y_true shape: (40,), pred_proba shape: (40,)\n",
      "Debug: y_true unique values: [0. 1.]\n",
      "Debug: y_true shape: (40,), pred_proba shape: (40,)\n",
      "Debug: y_true unique values: [0. 1.]\n",
      "Debug: y_true shape: (40,), pred_proba shape: (40,)\n",
      "Debug: y_true unique values: [0. 1.]\n",
      "Debug: y_true shape: (40,), pred_proba shape: (40,)\n",
      "Debug: y_true unique values: [0. 1.]\n",
      "Debug: y_true shape: (40,), pred_proba shape: (40,)\n",
      "Debug: y_true unique values: [0. 1.]\n",
      "Logistic probe auc: 1.0, C: 1000\n",
      "train X shape: torch.Size([160, 2880]) train y shape: torch.Size([160, 1]) val X shape: torch.Size([40, 2880]) val y shape: torch.Size([40, 1])\n",
      "Training logistic regression\n",
      "Debug: y_true shape: (40,), pred_proba shape: (40,)\n",
      "Debug: y_true unique values: [0. 1.]\n",
      "Debug: y_true shape: (40,), pred_proba shape: (40,)\n",
      "Debug: y_true unique values: [0. 1.]\n",
      "Debug: y_true shape: (40,), pred_proba shape: (40,)\n",
      "Debug: y_true unique values: [0. 1.]\n",
      "Debug: y_true shape: (40,), pred_proba shape: (40,)\n",
      "Debug: y_true unique values: [0. 1.]\n",
      "Debug: y_true shape: (40,), pred_proba shape: (40,)\n",
      "Debug: y_true unique values: [0. 1.]\n"
     ]
    },
    {
     "name": "stderr",
     "output_type": "stream",
     "text": []
    },
    {
     "name": "stdout",
     "output_type": "stream",
     "text": [
      "Debug: y_true shape: (40,), pred_proba shape: (40,)\n",
      "Debug: y_true unique values: [0. 1.]\n",
      "Logistic probe auc: 1.0, C: 1000\n",
      "train X shape: torch.Size([160, 2880]) train y shape: torch.Size([160, 1]) val X shape: torch.Size([40, 2880]) val y shape: torch.Size([40, 1])\n",
      "Training logistic regression\n",
      "Debug: y_true shape: (40,), pred_proba shape: (40,)\n",
      "Debug: y_true unique values: [0. 1.]\n",
      "Debug: y_true shape: (40,), pred_proba shape: (40,)\n",
      "Debug: y_true unique values: [0. 1.]\n",
      "Debug: y_true shape: (40,), pred_proba shape: (40,)\n",
      "Debug: y_true unique values: [0. 1.]\n",
      "Debug: y_true shape: (40,), pred_proba shape: (40,)\n",
      "Debug: y_true unique values: [0. 1.]\n"
     ]
    },
    {
     "name": "stderr",
     "output_type": "stream",
     "text": []
    },
    {
     "name": "stdout",
     "output_type": "stream",
     "text": [
      "Debug: y_true shape: (40,), pred_proba shape: (40,)\n",
      "Debug: y_true unique values: [0. 1.]\n",
      "Debug: y_true shape: (40,), pred_proba shape: (40,)\n",
      "Debug: y_true unique values: [0. 1.]\n",
      "Logistic probe auc: 1.0, C: 1000\n",
      "train X shape: torch.Size([160, 2880]) train y shape: torch.Size([160, 1]) val X shape: torch.Size([40, 2880]) val y shape: torch.Size([40, 1])\n",
      "Training logistic regression\n",
      "Debug: y_true shape: (40,), pred_proba shape: (40,)\n",
      "Debug: y_true unique values: [0. 1.]\n",
      "Debug: y_true shape: (40,), pred_proba shape: (40,)\n",
      "Debug: y_true unique values: [0. 1.]\n",
      "Debug: y_true shape: (40,), pred_proba shape: (40,)\n",
      "Debug: y_true unique values: [0. 1.]\n"
     ]
    },
    {
     "name": "stderr",
     "output_type": "stream",
     "text": []
    },
    {
     "name": "stdout",
     "output_type": "stream",
     "text": [
      "Debug: y_true shape: (40,), pred_proba shape: (40,)\n",
      "Debug: y_true unique values: [0. 1.]\n",
      "Debug: y_true shape: (40,), pred_proba shape: (40,)\n",
      "Debug: y_true unique values: [0. 1.]\n",
      "Debug: y_true shape: (40,), pred_proba shape: (40,)\n",
      "Debug: y_true unique values: [0. 1.]\n",
      "Logistic probe auc: 1.0, C: 1000\n",
      "train X shape: torch.Size([160, 2880]) train y shape: torch.Size([160, 1]) val X shape: torch.Size([40, 2880]) val y shape: torch.Size([40, 1])\n",
      "Training logistic regression\n",
      "Debug: y_true shape: (40,), pred_proba shape: (40,)\n",
      "Debug: y_true unique values: [0. 1.]\n",
      "Debug: y_true shape: (40,), pred_proba shape: (40,)\n",
      "Debug: y_true unique values: [0. 1.]\n",
      "Debug: y_true shape: (40,), pred_proba shape: (40,)\n",
      "Debug: y_true unique values: [0. 1.]\n"
     ]
    },
    {
     "name": "stderr",
     "output_type": "stream",
     "text": []
    },
    {
     "name": "stdout",
     "output_type": "stream",
     "text": [
      "Debug: y_true shape: (40,), pred_proba shape: (40,)\n",
      "Debug: y_true unique values: [0. 1.]\n",
      "Debug: y_true shape: (40,), pred_proba shape: (40,)\n",
      "Debug: y_true unique values: [0. 1.]\n",
      "Debug: y_true shape: (40,), pred_proba shape: (40,)\n",
      "Debug: y_true unique values: [0. 1.]\n",
      "Logistic probe auc: 1.0, C: 1000\n",
      "train X shape: torch.Size([160, 2880]) train y shape: torch.Size([160, 1]) val X shape: torch.Size([40, 2880]) val y shape: torch.Size([40, 1])\n",
      "Training logistic regression\n",
      "Debug: y_true shape: (40,), pred_proba shape: (40,)\n",
      "Debug: y_true unique values: [0. 1.]\n",
      "Debug: y_true shape: (40,), pred_proba shape: (40,)\n",
      "Debug: y_true unique values: [0. 1.]\n",
      "Debug: y_true shape: (40,), pred_proba shape: (40,)\n",
      "Debug: y_true unique values: [0. 1.]\n",
      "Debug: y_true shape: (40,), pred_proba shape: (40,)\n",
      "Debug: y_true unique values: [0. 1.]\n",
      "Debug: y_true shape: (40,), pred_proba shape: (40,)\n",
      "Debug: y_true unique values: [0. 1.]\n",
      "Debug: y_true shape: (40,), pred_proba shape: (40,)\n",
      "Debug: y_true unique values: [0. 1.]\n",
      "Logistic probe auc: 1.0, C: 1000\n"
     ]
    },
    {
     "name": "stderr",
     "output_type": "stream",
     "text": []
    },
    {
     "name": "stdout",
     "output_type": "stream",
     "text": [
      "train X shape: torch.Size([160, 2880]) train y shape: torch.Size([160, 1]) val X shape: torch.Size([40, 2880]) val y shape: torch.Size([40, 1])\n",
      "Training logistic regression\n",
      "Debug: y_true shape: (40,), pred_proba shape: (40,)\n",
      "Debug: y_true unique values: [0. 1.]\n",
      "Debug: y_true shape: (40,), pred_proba shape: (40,)\n",
      "Debug: y_true unique values: [0. 1.]\n",
      "Debug: y_true shape: (40,), pred_proba shape: (40,)\n",
      "Debug: y_true unique values: [0. 1.]\n",
      "Debug: y_true shape: (40,), pred_proba shape: (40,)\n",
      "Debug: y_true unique values: [0. 1.]\n",
      "Debug: y_true shape: (40,), pred_proba shape: (40,)\n",
      "Debug: y_true unique values: [0. 1.]\n"
     ]
    },
    {
     "name": "stderr",
     "output_type": "stream",
     "text": []
    },
    {
     "name": "stdout",
     "output_type": "stream",
     "text": [
      "Debug: y_true shape: (40,), pred_proba shape: (40,)\n",
      "Debug: y_true unique values: [0. 1.]\n",
      "Logistic probe auc: 1.0, C: 1000\n",
      "train X shape: torch.Size([160, 2880]) train y shape: torch.Size([160, 1]) val X shape: torch.Size([40, 2880]) val y shape: torch.Size([40, 1])\n",
      "Training logistic regression\n",
      "Debug: y_true shape: (40,), pred_proba shape: (40,)\n",
      "Debug: y_true unique values: [0. 1.]\n",
      "Debug: y_true shape: (40,), pred_proba shape: (40,)\n",
      "Debug: y_true unique values: [0. 1.]\n",
      "Debug: y_true shape: (40,), pred_proba shape: (40,)\n",
      "Debug: y_true unique values: [0. 1.]\n",
      "Debug: y_true shape: (40,), pred_proba shape: (40,)\n",
      "Debug: y_true unique values: [0. 1.]\n",
      "Debug: y_true shape: (40,), pred_proba shape: (40,)\n",
      "Debug: y_true unique values: [0. 1.]\n"
     ]
    },
    {
     "name": "stderr",
     "output_type": "stream",
     "text": []
    },
    {
     "name": "stdout",
     "output_type": "stream",
     "text": [
      "Debug: y_true shape: (40,), pred_proba shape: (40,)\n",
      "Debug: y_true unique values: [0. 1.]\n",
      "Logistic probe auc: 1.0, C: 1000\n",
      "train X shape: torch.Size([160, 2880]) train y shape: torch.Size([160, 1]) val X shape: torch.Size([40, 2880]) val y shape: torch.Size([40, 1])\n",
      "Training logistic regression\n",
      "Debug: y_true shape: (40,), pred_proba shape: (40,)\n",
      "Debug: y_true unique values: [0. 1.]\n",
      "Debug: y_true shape: (40,), pred_proba shape: (40,)\n",
      "Debug: y_true unique values: [0. 1.]\n",
      "Debug: y_true shape: (40,), pred_proba shape: (40,)\n",
      "Debug: y_true unique values: [0. 1.]\n",
      "Debug: y_true shape: (40,), pred_proba shape: (40,)\n",
      "Debug: y_true unique values: [0. 1.]\n"
     ]
    },
    {
     "name": "stderr",
     "output_type": "stream",
     "text": []
    },
    {
     "name": "stdout",
     "output_type": "stream",
     "text": [
      "Debug: y_true shape: (40,), pred_proba shape: (40,)\n",
      "Debug: y_true unique values: [0. 1.]\n",
      "Debug: y_true shape: (40,), pred_proba shape: (40,)\n",
      "Debug: y_true unique values: [0. 1.]\n",
      "Logistic probe auc: 1.0, C: 1000\n",
      "train X shape: torch.Size([160, 2880]) train y shape: torch.Size([160, 1]) val X shape: torch.Size([40, 2880]) val y shape: torch.Size([40, 1])\n",
      "Training logistic regression\n",
      "Debug: y_true shape: (40,), pred_proba shape: (40,)\n",
      "Debug: y_true unique values: [0. 1.]\n",
      "Debug: y_true shape: (40,), pred_proba shape: (40,)\n",
      "Debug: y_true unique values: [0. 1.]\n",
      "Debug: y_true shape: (40,), pred_proba shape: (40,)\n",
      "Debug: y_true unique values: [0. 1.]\n",
      "Debug: y_true shape: (40,), pred_proba shape: (40,)\n",
      "Debug: y_true unique values: [0. 1.]\n",
      "Debug: y_true shape: (40,), pred_proba shape: (40,)\n",
      "Debug: y_true unique values: [0. 1.]\n"
     ]
    },
    {
     "name": "stderr",
     "output_type": "stream",
     "text": []
    },
    {
     "name": "stdout",
     "output_type": "stream",
     "text": [
      "Debug: y_true shape: (40,), pred_proba shape: (40,)\n",
      "Debug: y_true unique values: [0. 1.]\n",
      "Logistic probe auc: 1.0, C: 1000\n",
      "train X shape: torch.Size([160, 2880]) train y shape: torch.Size([160, 1]) val X shape: torch.Size([40, 2880]) val y shape: torch.Size([40, 1])\n",
      "Training logistic regression\n",
      "Debug: y_true shape: (40,), pred_proba shape: (40,)\n",
      "Debug: y_true unique values: [0. 1.]\n",
      "Debug: y_true shape: (40,), pred_proba shape: (40,)\n",
      "Debug: y_true unique values: [0. 1.]\n",
      "Debug: y_true shape: (40,), pred_proba shape: (40,)\n",
      "Debug: y_true unique values: [0. 1.]\n"
     ]
    },
    {
     "name": "stderr",
     "output_type": "stream",
     "text": []
    },
    {
     "name": "stdout",
     "output_type": "stream",
     "text": [
      "Debug: y_true shape: (40,), pred_proba shape: (40,)\n",
      "Debug: y_true unique values: [0. 1.]\n",
      "Debug: y_true shape: (40,), pred_proba shape: (40,)\n",
      "Debug: y_true unique values: [0. 1.]\n",
      "Debug: y_true shape: (40,), pred_proba shape: (40,)\n",
      "Debug: y_true unique values: [0. 1.]\n",
      "Logistic probe auc: 1.0, C: 1000\n",
      "train X shape: torch.Size([160, 2880]) train y shape: torch.Size([160, 1]) val X shape: torch.Size([40, 2880]) val y shape: torch.Size([40, 1])\n",
      "Training logistic regression\n",
      "Debug: y_true shape: (40,), pred_proba shape: (40,)\n",
      "Debug: y_true unique values: [0. 1.]\n",
      "Debug: y_true shape: (40,), pred_proba shape: (40,)\n",
      "Debug: y_true unique values: [0. 1.]\n",
      "Debug: y_true shape: (40,), pred_proba shape: (40,)\n",
      "Debug: y_true unique values: [0. 1.]\n",
      "Debug: y_true shape: (40,), pred_proba shape: (40,)\n",
      "Debug: y_true unique values: [0. 1.]\n"
     ]
    },
    {
     "name": "stderr",
     "output_type": "stream",
     "text": []
    },
    {
     "name": "stdout",
     "output_type": "stream",
     "text": [
      "Debug: y_true shape: (40,), pred_proba shape: (40,)\n",
      "Debug: y_true unique values: [0. 1.]\n",
      "Debug: y_true shape: (40,), pred_proba shape: (40,)\n",
      "Debug: y_true unique values: [0. 1.]\n",
      "Logistic probe auc: 1.0, C: 1000\n",
      "train X shape: torch.Size([160, 2880]) train y shape: torch.Size([160, 1]) val X shape: torch.Size([40, 2880]) val y shape: torch.Size([40, 1])\n",
      "Training logistic regression\n",
      "Debug: y_true shape: (40,), pred_proba shape: (40,)\n",
      "Debug: y_true unique values: [0. 1.]\n",
      "Debug: y_true shape: (40,), pred_proba shape: (40,)\n",
      "Debug: y_true unique values: [0. 1.]\n",
      "Debug: y_true shape: (40,), pred_proba shape: (40,)\n",
      "Debug: y_true unique values: [0. 1.]\n",
      "Debug: y_true shape: (40,), pred_proba shape: (40,)\n",
      "Debug: y_true unique values: [0. 1.]\n"
     ]
    },
    {
     "name": "stderr",
     "output_type": "stream",
     "text": []
    },
    {
     "name": "stdout",
     "output_type": "stream",
     "text": [
      "Debug: y_true shape: (40,), pred_proba shape: (40,)\n",
      "Debug: y_true unique values: [0. 1.]\n",
      "Debug: y_true shape: (40,), pred_proba shape: (40,)\n",
      "Debug: y_true unique values: [0. 1.]\n",
      "Logistic probe auc: 1.0, C: 1000\n",
      "train X shape: torch.Size([160, 2880]) train y shape: torch.Size([160, 1]) val X shape: torch.Size([40, 2880]) val y shape: torch.Size([40, 1])\n",
      "Training logistic regression\n",
      "Debug: y_true shape: (40,), pred_proba shape: (40,)\n",
      "Debug: y_true unique values: [0. 1.]\n",
      "Debug: y_true shape: (40,), pred_proba shape: (40,)\n",
      "Debug: y_true unique values: [0. 1.]\n",
      "Debug: y_true shape: (40,), pred_proba shape: (40,)\n",
      "Debug: y_true unique values: [0. 1.]\n"
     ]
    },
    {
     "name": "stderr",
     "output_type": "stream",
     "text": []
    },
    {
     "name": "stdout",
     "output_type": "stream",
     "text": [
      "Debug: y_true shape: (40,), pred_proba shape: (40,)\n",
      "Debug: y_true unique values: [0. 1.]\n",
      "Debug: y_true shape: (40,), pred_proba shape: (40,)\n",
      "Debug: y_true unique values: [0. 1.]\n",
      "Debug: y_true shape: (40,), pred_proba shape: (40,)\n",
      "Debug: y_true unique values: [0. 1.]\n",
      "Logistic probe auc: 1.0, C: 1000\n",
      "train X shape: torch.Size([160, 2880]) train y shape: torch.Size([160, 1]) val X shape: torch.Size([40, 2880]) val y shape: torch.Size([40, 1])\n",
      "Training logistic regression\n",
      "Debug: y_true shape: (40,), pred_proba shape: (40,)\n",
      "Debug: y_true unique values: [0. 1.]\n",
      "Debug: y_true shape: (40,), pred_proba shape: (40,)\n",
      "Debug: y_true unique values: [0. 1.]\n"
     ]
    },
    {
     "name": "stderr",
     "output_type": "stream",
     "text": []
    },
    {
     "name": "stdout",
     "output_type": "stream",
     "text": [
      "Debug: y_true shape: (40,), pred_proba shape: (40,)\n",
      "Debug: y_true unique values: [0. 1.]\n",
      "Debug: y_true shape: (40,), pred_proba shape: (40,)\n",
      "Debug: y_true unique values: [0. 1.]\n",
      "Debug: y_true shape: (40,), pred_proba shape: (40,)\n",
      "Debug: y_true unique values: [0. 1.]\n",
      "Debug: y_true shape: (40,), pred_proba shape: (40,)\n",
      "Debug: y_true unique values: [0. 1.]\n",
      "Logistic probe auc: 1.0, C: 1000\n",
      "train X shape: torch.Size([160, 2880]) train y shape: torch.Size([160, 1]) val X shape: torch.Size([40, 2880]) val y shape: torch.Size([40, 1])\n",
      "Training logistic regression\n",
      "Debug: y_true shape: (40,), pred_proba shape: (40,)\n",
      "Debug: y_true unique values: [0. 1.]\n",
      "Debug: y_true shape: (40,), pred_proba shape: (40,)\n",
      "Debug: y_true unique values: [0. 1.]\n",
      "Debug: y_true shape: (40,), pred_proba shape: (40,)\n",
      "Debug: y_true unique values: [0. 1.]\n"
     ]
    },
    {
     "name": "stderr",
     "output_type": "stream",
     "text": [
      "100%|██████████| 23/23 [00:06<00:00,  3.61it/s]\n"
     ]
    },
    {
     "name": "stdout",
     "output_type": "stream",
     "text": [
      "Debug: y_true shape: (40,), pred_proba shape: (40,)\n",
      "Debug: y_true unique values: [0. 1.]\n",
      "Debug: y_true shape: (40,), pred_proba shape: (40,)\n",
      "Debug: y_true unique values: [0. 1.]\n",
      "Debug: y_true shape: (40,), pred_proba shape: (40,)\n",
      "Debug: y_true unique values: [0. 1.]\n",
      "Logistic probe auc: 1.0, C: 1000\n",
      "Computing signs\n"
     ]
    },
    {
     "name": "stderr",
     "output_type": "stream",
     "text": [
      "100%|██████████| 23/23 [00:00<00:00, 16759.73it/s]\n",
      " 50%|█████     | 1/2 [00:13<00:13, 13.10s/it]"
     ]
    },
    {
     "name": "stdout",
     "output_type": "stream",
     "text": [
      "n_components: 5\n",
      "Hidden layers KA: [-1, -2, -3, -4, -5, -6, -7, -8, -9, -10, -11, -12, -13, -14, -15, -16, -17, -18, -19, -20, -21, -22, -23]\n",
      "Hidden layers: [-1, -2, -3, -4, -5, -6, -7, -8, -9, -10, -11, -12, -13, -14, -15, -16, -17, -18, -19, -20, -21, -22, -23]\n",
      "\n",
      "Controller hyperparameters:\n",
      "control_method       : logistic\n",
      "rfm_iters            : 8\n",
      "forward_batch_size   : 2\n",
      "M_batch_size         : 2048\n",
      "n_components         : 5\n",
      "calibrate            : False\n",
      "\n",
      "Getting activations from forward passes\n"
     ]
    },
    {
     "name": "stderr",
     "output_type": "stream",
     "text": [
      "100%|██████████| 80/80 [00:04<00:00, 17.07it/s]\n"
     ]
    },
    {
     "name": "stdout",
     "output_type": "stream",
     "text": [
      "Getting activations from forward passes\n"
     ]
    },
    {
     "name": "stderr",
     "output_type": "stream",
     "text": [
      "100%|██████████| 20/20 [00:01<00:00, 17.09it/s]\n"
     ]
    },
    {
     "name": "stdout",
     "output_type": "stream",
     "text": [
      "train X shape: torch.Size([160, 2880]) train y shape: torch.Size([160, 1]) val X shape: torch.Size([40, 2880]) val y shape: torch.Size([40, 1])\n",
      "Training logistic regression\n",
      "Debug: y_true shape: (40,), pred_proba shape: (40,)\n",
      "Debug: y_true unique values: [0. 1.]\n",
      "Debug: y_true shape: (40,), pred_proba shape: (40,)\n",
      "Debug: y_true unique values: [0. 1.]\n",
      "Debug: y_true shape: (40,), pred_proba shape: (40,)\n",
      "Debug: y_true unique values: [0. 1.]\n",
      "Debug: y_true shape: (40,), pred_proba shape: (40,)\n",
      "Debug: y_true unique values: [0. 1.]\n",
      "Debug: y_true shape: (40,), pred_proba shape: (40,)\n",
      "Debug: y_true unique values: [0. 1.]\n",
      "Debug: y_true shape: (40,), pred_proba shape: (40,)\n",
      "Debug: y_true unique values: [0. 1.]\n",
      "Logistic probe auc: 1.0, C: 1000\n",
      "train X shape: torch.Size([160, 2880]) train y shape: torch.Size([160, 1]) val X shape: torch.Size([40, 2880]) val y shape: torch.Size([40, 1])\n",
      "Training logistic regression\n",
      "Debug: y_true shape: (40,), pred_proba shape: (40,)\n",
      "Debug: y_true unique values: [0. 1.]\n",
      "Debug: y_true shape: (40,), pred_proba shape: (40,)\n",
      "Debug: y_true unique values: [0. 1.]\n",
      "Debug: y_true shape: (40,), pred_proba shape: (40,)\n",
      "Debug: y_true unique values: [0. 1.]\n"
     ]
    },
    {
     "name": "stderr",
     "output_type": "stream",
     "text": []
    },
    {
     "name": "stdout",
     "output_type": "stream",
     "text": [
      "Debug: y_true shape: (40,), pred_proba shape: (40,)\n",
      "Debug: y_true unique values: [0. 1.]\n",
      "Debug: y_true shape: (40,), pred_proba shape: (40,)\n",
      "Debug: y_true unique values: [0. 1.]\n",
      "Debug: y_true shape: (40,), pred_proba shape: (40,)\n",
      "Debug: y_true unique values: [0. 1.]\n",
      "Logistic probe auc: 1.0, C: 1000\n",
      "train X shape: torch.Size([160, 2880]) train y shape: torch.Size([160, 1]) val X shape: torch.Size([40, 2880]) val y shape: torch.Size([40, 1])\n",
      "Training logistic regression\n",
      "Debug: y_true shape: (40,), pred_proba shape: (40,)\n",
      "Debug: y_true unique values: [0. 1.]\n",
      "Debug: y_true shape: (40,), pred_proba shape: (40,)\n",
      "Debug: y_true unique values: [0. 1.]\n",
      "Debug: y_true shape: (40,), pred_proba shape: (40,)\n",
      "Debug: y_true unique values: [0. 1.]\n",
      "Debug: y_true shape: (40,), pred_proba shape: (40,)\n",
      "Debug: y_true unique values: [0. 1.]\n"
     ]
    },
    {
     "name": "stderr",
     "output_type": "stream",
     "text": []
    },
    {
     "name": "stdout",
     "output_type": "stream",
     "text": [
      "Debug: y_true shape: (40,), pred_proba shape: (40,)\n",
      "Debug: y_true unique values: [0. 1.]\n",
      "Debug: y_true shape: (40,), pred_proba shape: (40,)\n",
      "Debug: y_true unique values: [0. 1.]\n",
      "Logistic probe auc: 1.0, C: 1000\n",
      "train X shape: torch.Size([160, 2880]) train y shape: torch.Size([160, 1]) val X shape: torch.Size([40, 2880]) val y shape: torch.Size([40, 1])\n",
      "Training logistic regression\n",
      "Debug: y_true shape: (40,), pred_proba shape: (40,)\n",
      "Debug: y_true unique values: [0. 1.]\n",
      "Debug: y_true shape: (40,), pred_proba shape: (40,)\n",
      "Debug: y_true unique values: [0. 1.]\n",
      "Debug: y_true shape: (40,), pred_proba shape: (40,)\n",
      "Debug: y_true unique values: [0. 1.]\n",
      "Debug: y_true shape: (40,), pred_proba shape: (40,)\n",
      "Debug: y_true unique values: [0. 1.]\n",
      "Debug: y_true shape: (40,), pred_proba shape: (40,)\n",
      "Debug: y_true unique values: [0. 1.]\n",
      "Debug: y_true shape: (40,), pred_proba shape: (40,)\n",
      "Debug: y_true unique values: [0. 1.]\n",
      "Logistic probe auc: 1.0, C: 1000\n",
      "train X shape: torch.Size([160, 2880]) train y shape: torch.Size([160, 1]) val X shape: torch.Size([40, 2880]) val y shape: torch.Size([40, 1])\n",
      "Training logistic regression\n",
      "Debug: y_true shape: (40,), pred_proba shape: (40,)\n",
      "Debug: y_true unique values: [0. 1.]\n",
      "Debug: y_true shape: (40,), pred_proba shape: (40,)\n",
      "Debug: y_true unique values: [0. 1.]\n",
      "Debug: y_true shape: (40,), pred_proba shape: (40,)\n",
      "Debug: y_true unique values: [0. 1.]\n",
      "Debug: y_true shape: (40,), pred_proba shape: (40,)\n",
      "Debug: y_true unique values: [0. 1.]\n",
      "Debug: y_true shape: (40,), pred_proba shape: (40,)\n",
      "Debug: y_true unique values: [0. 1.]\n"
     ]
    },
    {
     "name": "stderr",
     "output_type": "stream",
     "text": []
    },
    {
     "name": "stdout",
     "output_type": "stream",
     "text": [
      "Debug: y_true shape: (40,), pred_proba shape: (40,)\n",
      "Debug: y_true unique values: [0. 1.]\n",
      "Logistic probe auc: 1.0, C: 1000\n",
      "train X shape: torch.Size([160, 2880]) train y shape: torch.Size([160, 1]) val X shape: torch.Size([40, 2880]) val y shape: torch.Size([40, 1])\n",
      "Training logistic regression\n",
      "Debug: y_true shape: (40,), pred_proba shape: (40,)\n",
      "Debug: y_true unique values: [0. 1.]\n",
      "Debug: y_true shape: (40,), pred_proba shape: (40,)\n",
      "Debug: y_true unique values: [0. 1.]\n",
      "Debug: y_true shape: (40,), pred_proba shape: (40,)\n",
      "Debug: y_true unique values: [0. 1.]\n",
      "Debug: y_true shape: (40,), pred_proba shape: (40,)\n",
      "Debug: y_true unique values: [0. 1.]\n",
      "Debug: y_true shape: (40,), pred_proba shape: (40,)\n",
      "Debug: y_true unique values: [0. 1.]\n",
      "Debug: y_true shape: (40,), pred_proba shape: (40,)\n",
      "Debug: y_true unique values: [0. 1.]\n",
      "Logistic probe auc: 1.0, C: 1000\n"
     ]
    },
    {
     "name": "stderr",
     "output_type": "stream",
     "text": []
    },
    {
     "name": "stdout",
     "output_type": "stream",
     "text": [
      "train X shape: torch.Size([160, 2880]) train y shape: torch.Size([160, 1]) val X shape: torch.Size([40, 2880]) val y shape: torch.Size([40, 1])\n",
      "Training logistic regression\n",
      "Debug: y_true shape: (40,), pred_proba shape: (40,)\n",
      "Debug: y_true unique values: [0. 1.]\n",
      "Debug: y_true shape: (40,), pred_proba shape: (40,)\n",
      "Debug: y_true unique values: [0. 1.]\n",
      "Debug: y_true shape: (40,), pred_proba shape: (40,)\n",
      "Debug: y_true unique values: [0. 1.]\n",
      "Debug: y_true shape: (40,), pred_proba shape: (40,)\n",
      "Debug: y_true unique values: [0. 1.]\n",
      "Debug: y_true shape: (40,), pred_proba shape: (40,)\n",
      "Debug: y_true unique values: [0. 1.]\n",
      "Debug: y_true shape: (40,), pred_proba shape: (40,)\n",
      "Debug: y_true unique values: [0. 1.]\n",
      "Logistic probe auc: 1.0, C: 1000\n"
     ]
    },
    {
     "name": "stderr",
     "output_type": "stream",
     "text": []
    },
    {
     "name": "stdout",
     "output_type": "stream",
     "text": [
      "train X shape: torch.Size([160, 2880]) train y shape: torch.Size([160, 1]) val X shape: torch.Size([40, 2880]) val y shape: torch.Size([40, 1])\n",
      "Training logistic regression\n",
      "Debug: y_true shape: (40,), pred_proba shape: (40,)\n",
      "Debug: y_true unique values: [0. 1.]\n",
      "Debug: y_true shape: (40,), pred_proba shape: (40,)\n",
      "Debug: y_true unique values: [0. 1.]\n",
      "Debug: y_true shape: (40,), pred_proba shape: (40,)\n",
      "Debug: y_true unique values: [0. 1.]\n",
      "Debug: y_true shape: (40,), pred_proba shape: (40,)\n",
      "Debug: y_true unique values: [0. 1.]\n",
      "Debug: y_true shape: (40,), pred_proba shape: (40,)\n",
      "Debug: y_true unique values: [0. 1.]\n",
      "Debug: y_true shape: (40,), pred_proba shape: (40,)\n",
      "Debug: y_true unique values: [0. 1.]\n",
      "Logistic probe auc: 1.0, C: 1000\n",
      "train X shape: torch.Size([160, 2880]) train y shape: torch.Size([160, 1]) val X shape: torch.Size([40, 2880]) val y shape: torch.Size([40, 1])\n",
      "Training logistic regression\n",
      "Debug: y_true shape: (40,), pred_proba shape: (40,)\n",
      "Debug: y_true unique values: [0. 1.]\n"
     ]
    },
    {
     "name": "stderr",
     "output_type": "stream",
     "text": []
    },
    {
     "name": "stdout",
     "output_type": "stream",
     "text": [
      "Debug: y_true shape: (40,), pred_proba shape: (40,)\n",
      "Debug: y_true unique values: [0. 1.]\n",
      "Debug: y_true shape: (40,), pred_proba shape: (40,)\n",
      "Debug: y_true unique values: [0. 1.]\n",
      "Debug: y_true shape: (40,), pred_proba shape: (40,)\n",
      "Debug: y_true unique values: [0. 1.]\n",
      "Debug: y_true shape: (40,), pred_proba shape: (40,)\n",
      "Debug: y_true unique values: [0. 1.]\n",
      "Debug: y_true shape: (40,), pred_proba shape: (40,)\n",
      "Debug: y_true unique values: [0. 1.]\n",
      "Logistic probe auc: 1.0, C: 1000\n",
      "train X shape: torch.Size([160, 2880]) train y shape: torch.Size([160, 1]) val X shape: torch.Size([40, 2880]) val y shape: torch.Size([40, 1])\n",
      "Training logistic regression\n",
      "Debug: y_true shape: (40,), pred_proba shape: (40,)\n",
      "Debug: y_true unique values: [0. 1.]\n",
      "Debug: y_true shape: (40,), pred_proba shape: (40,)\n",
      "Debug: y_true unique values: [0. 1.]\n",
      "Debug: y_true shape: (40,), pred_proba shape: (40,)\n",
      "Debug: y_true unique values: [0. 1.]\n",
      "Debug: y_true shape: (40,), pred_proba shape: (40,)\n",
      "Debug: y_true unique values: [0. 1.]\n",
      "Debug: y_true shape: (40,), pred_proba shape: (40,)\n",
      "Debug: y_true unique values: [0. 1.]\n"
     ]
    },
    {
     "name": "stderr",
     "output_type": "stream",
     "text": []
    },
    {
     "name": "stdout",
     "output_type": "stream",
     "text": [
      "Debug: y_true shape: (40,), pred_proba shape: (40,)\n",
      "Debug: y_true unique values: [0. 1.]\n",
      "Logistic probe auc: 1.0, C: 1000\n",
      "train X shape: torch.Size([160, 2880]) train y shape: torch.Size([160, 1]) val X shape: torch.Size([40, 2880]) val y shape: torch.Size([40, 1])\n",
      "Training logistic regression\n",
      "Debug: y_true shape: (40,), pred_proba shape: (40,)\n",
      "Debug: y_true unique values: [0. 1.]\n",
      "Debug: y_true shape: (40,), pred_proba shape: (40,)\n",
      "Debug: y_true unique values: [0. 1.]\n",
      "Debug: y_true shape: (40,), pred_proba shape: (40,)\n",
      "Debug: y_true unique values: [0. 1.]\n",
      "Debug: y_true shape: (40,), pred_proba shape: (40,)\n",
      "Debug: y_true unique values: [0. 1.]\n",
      "Debug: y_true shape: (40,), pred_proba shape: (40,)\n",
      "Debug: y_true unique values: [0. 1.]\n",
      "Debug: y_true shape: (40,), pred_proba shape: (40,)\n",
      "Debug: y_true unique values: [0. 1.]\n",
      "Logistic probe auc: 1.0, C: 1000\n"
     ]
    },
    {
     "name": "stderr",
     "output_type": "stream",
     "text": []
    },
    {
     "name": "stdout",
     "output_type": "stream",
     "text": [
      "train X shape: torch.Size([160, 2880]) train y shape: torch.Size([160, 1]) val X shape: torch.Size([40, 2880]) val y shape: torch.Size([40, 1])\n",
      "Training logistic regression\n",
      "Debug: y_true shape: (40,), pred_proba shape: (40,)\n",
      "Debug: y_true unique values: [0. 1.]\n",
      "Debug: y_true shape: (40,), pred_proba shape: (40,)\n",
      "Debug: y_true unique values: [0. 1.]\n",
      "Debug: y_true shape: (40,), pred_proba shape: (40,)\n",
      "Debug: y_true unique values: [0. 1.]\n",
      "Debug: y_true shape: (40,), pred_proba shape: (40,)\n",
      "Debug: y_true unique values: [0. 1.]\n",
      "Debug: y_true shape: (40,), pred_proba shape: (40,)\n",
      "Debug: y_true unique values: [0. 1.]\n",
      "Debug: y_true shape: (40,), pred_proba shape: (40,)\n",
      "Debug: y_true unique values: [0. 1.]\n",
      "Logistic probe auc: 1.0, C: 1000\n",
      "train X shape: torch.Size([160, 2880]) train y shape: torch.Size([160, 1]) val X shape: torch.Size([40, 2880]) val y shape: torch.Size([40, 1])\n",
      "Training logistic regression\n",
      "Debug: y_true shape: (40,), pred_proba shape: (40,)\n",
      "Debug: y_true unique values: [0. 1.]\n"
     ]
    },
    {
     "name": "stderr",
     "output_type": "stream",
     "text": []
    },
    {
     "name": "stdout",
     "output_type": "stream",
     "text": [
      "Debug: y_true shape: (40,), pred_proba shape: (40,)\n",
      "Debug: y_true unique values: [0. 1.]\n",
      "Debug: y_true shape: (40,), pred_proba shape: (40,)\n",
      "Debug: y_true unique values: [0. 1.]\n",
      "Debug: y_true shape: (40,), pred_proba shape: (40,)\n",
      "Debug: y_true unique values: [0. 1.]\n",
      "Debug: y_true shape: (40,), pred_proba shape: (40,)\n",
      "Debug: y_true unique values: [0. 1.]\n",
      "Debug: y_true shape: (40,), pred_proba shape: (40,)\n",
      "Debug: y_true unique values: [0. 1.]\n",
      "Logistic probe auc: 1.0, C: 1000\n",
      "train X shape: torch.Size([160, 2880]) train y shape: torch.Size([160, 1]) val X shape: torch.Size([40, 2880]) val y shape: torch.Size([40, 1])\n",
      "Training logistic regression\n",
      "Debug: y_true shape: (40,), pred_proba shape: (40,)\n",
      "Debug: y_true unique values: [0. 1.]\n",
      "Debug: y_true shape: (40,), pred_proba shape: (40,)\n",
      "Debug: y_true unique values: [0. 1.]\n"
     ]
    },
    {
     "name": "stderr",
     "output_type": "stream",
     "text": []
    },
    {
     "name": "stdout",
     "output_type": "stream",
     "text": [
      "Debug: y_true shape: (40,), pred_proba shape: (40,)\n",
      "Debug: y_true unique values: [0. 1.]\n",
      "Debug: y_true shape: (40,), pred_proba shape: (40,)\n",
      "Debug: y_true unique values: [0. 1.]\n",
      "Debug: y_true shape: (40,), pred_proba shape: (40,)\n",
      "Debug: y_true unique values: [0. 1.]\n",
      "Debug: y_true shape: (40,), pred_proba shape: (40,)\n",
      "Debug: y_true unique values: [0. 1.]\n",
      "Logistic probe auc: 1.0, C: 1000\n",
      "train X shape: torch.Size([160, 2880]) train y shape: torch.Size([160, 1]) val X shape: torch.Size([40, 2880]) val y shape: torch.Size([40, 1])\n",
      "Training logistic regression\n",
      "Debug: y_true shape: (40,), pred_proba shape: (40,)\n",
      "Debug: y_true unique values: [0. 1.]\n",
      "Debug: y_true shape: (40,), pred_proba shape: (40,)\n",
      "Debug: y_true unique values: [0. 1.]\n",
      "Debug: y_true shape: (40,), pred_proba shape: (40,)\n",
      "Debug: y_true unique values: [0. 1.]\n"
     ]
    },
    {
     "name": "stderr",
     "output_type": "stream",
     "text": []
    },
    {
     "name": "stdout",
     "output_type": "stream",
     "text": [
      "Debug: y_true shape: (40,), pred_proba shape: (40,)\n",
      "Debug: y_true unique values: [0. 1.]\n",
      "Debug: y_true shape: (40,), pred_proba shape: (40,)\n",
      "Debug: y_true unique values: [0. 1.]\n",
      "Debug: y_true shape: (40,), pred_proba shape: (40,)\n",
      "Debug: y_true unique values: [0. 1.]\n",
      "Logistic probe auc: 1.0, C: 1000\n",
      "train X shape: torch.Size([160, 2880]) train y shape: torch.Size([160, 1]) val X shape: torch.Size([40, 2880]) val y shape: torch.Size([40, 1])\n",
      "Training logistic regression\n",
      "Debug: y_true shape: (40,), pred_proba shape: (40,)\n",
      "Debug: y_true unique values: [0. 1.]\n",
      "Debug: y_true shape: (40,), pred_proba shape: (40,)\n",
      "Debug: y_true unique values: [0. 1.]\n"
     ]
    },
    {
     "name": "stderr",
     "output_type": "stream",
     "text": []
    },
    {
     "name": "stdout",
     "output_type": "stream",
     "text": [
      "Debug: y_true shape: (40,), pred_proba shape: (40,)\n",
      "Debug: y_true unique values: [0. 1.]\n",
      "Debug: y_true shape: (40,), pred_proba shape: (40,)\n",
      "Debug: y_true unique values: [0. 1.]\n",
      "Debug: y_true shape: (40,), pred_proba shape: (40,)\n",
      "Debug: y_true unique values: [0. 1.]\n",
      "Debug: y_true shape: (40,), pred_proba shape: (40,)\n",
      "Debug: y_true unique values: [0. 1.]\n",
      "Logistic probe auc: 1.0, C: 1000\n",
      "train X shape: torch.Size([160, 2880]) train y shape: torch.Size([160, 1]) val X shape: torch.Size([40, 2880]) val y shape: torch.Size([40, 1])\n",
      "Training logistic regression\n",
      "Debug: y_true shape: (40,), pred_proba shape: (40,)\n",
      "Debug: y_true unique values: [0. 1.]\n",
      "Debug: y_true shape: (40,), pred_proba shape: (40,)\n",
      "Debug: y_true unique values: [0. 1.]\n",
      "Debug: y_true shape: (40,), pred_proba shape: (40,)\n",
      "Debug: y_true unique values: [0. 1.]\n",
      "Debug: y_true shape: (40,), pred_proba shape: (40,)\n",
      "Debug: y_true unique values: [0. 1.]\n",
      "Debug: y_true shape: (40,), pred_proba shape: (40,)\n",
      "Debug: y_true unique values: [0. 1.]\n",
      "Debug: y_true shape: (40,), pred_proba shape: (40,)\n",
      "Debug: y_true unique values: [0. 1.]\n",
      "Logistic probe auc: 1.0, C: 1000\n"
     ]
    },
    {
     "name": "stderr",
     "output_type": "stream",
     "text": []
    },
    {
     "name": "stdout",
     "output_type": "stream",
     "text": [
      "train X shape: torch.Size([160, 2880]) train y shape: torch.Size([160, 1]) val X shape: torch.Size([40, 2880]) val y shape: torch.Size([40, 1])\n",
      "Training logistic regression\n",
      "Debug: y_true shape: (40,), pred_proba shape: (40,)\n",
      "Debug: y_true unique values: [0. 1.]\n",
      "Debug: y_true shape: (40,), pred_proba shape: (40,)\n",
      "Debug: y_true unique values: [0. 1.]\n",
      "Debug: y_true shape: (40,), pred_proba shape: (40,)\n",
      "Debug: y_true unique values: [0. 1.]\n",
      "Debug: y_true shape: (40,), pred_proba shape: (40,)\n",
      "Debug: y_true unique values: [0. 1.]\n",
      "Debug: y_true shape: (40,), pred_proba shape: (40,)\n",
      "Debug: y_true unique values: [0. 1.]\n",
      "Debug: y_true shape: (40,), pred_proba shape: (40,)\n",
      "Debug: y_true unique values: [0. 1.]\n",
      "Logistic probe auc: 1.0, C: 1000\n",
      "train X shape: torch.Size([160, 2880]) train y shape: torch.Size([160, 1]) val X shape: torch.Size([40, 2880]) val y shape: torch.Size([40, 1])\n",
      "Training logistic regression\n",
      "Debug: y_true shape: (40,), pred_proba shape: (40,)\n",
      "Debug: y_true unique values: [0. 1.]\n",
      "Debug: y_true shape: (40,), pred_proba shape: (40,)\n",
      "Debug: y_true unique values: [0. 1.]\n",
      "Debug: y_true shape: (40,), pred_proba shape: (40,)\n",
      "Debug: y_true unique values: [0. 1.]\n",
      "Debug: y_true shape: (40,), pred_proba shape: (40,)\n",
      "Debug: y_true unique values: [0. 1.]\n"
     ]
    },
    {
     "name": "stderr",
     "output_type": "stream",
     "text": []
    },
    {
     "name": "stdout",
     "output_type": "stream",
     "text": [
      "Debug: y_true shape: (40,), pred_proba shape: (40,)\n",
      "Debug: y_true unique values: [0. 1.]\n",
      "Debug: y_true shape: (40,), pred_proba shape: (40,)\n",
      "Debug: y_true unique values: [0. 1.]\n",
      "Logistic probe auc: 1.0, C: 1000\n",
      "train X shape: torch.Size([160, 2880]) train y shape: torch.Size([160, 1]) val X shape: torch.Size([40, 2880]) val y shape: torch.Size([40, 1])\n",
      "Training logistic regression\n",
      "Debug: y_true shape: (40,), pred_proba shape: (40,)\n",
      "Debug: y_true unique values: [0. 1.]\n",
      "Debug: y_true shape: (40,), pred_proba shape: (40,)\n",
      "Debug: y_true unique values: [0. 1.]\n",
      "Debug: y_true shape: (40,), pred_proba shape: (40,)\n",
      "Debug: y_true unique values: [0. 1.]\n",
      "Debug: y_true shape: (40,), pred_proba shape: (40,)\n",
      "Debug: y_true unique values: [0. 1.]\n",
      "Debug: y_true shape: (40,), pred_proba shape: (40,)\n",
      "Debug: y_true unique values: [0. 1.]\n"
     ]
    },
    {
     "name": "stderr",
     "output_type": "stream",
     "text": []
    },
    {
     "name": "stdout",
     "output_type": "stream",
     "text": [
      "Debug: y_true shape: (40,), pred_proba shape: (40,)\n",
      "Debug: y_true unique values: [0. 1.]\n",
      "Logistic probe auc: 1.0, C: 1000\n",
      "train X shape: torch.Size([160, 2880]) train y shape: torch.Size([160, 1]) val X shape: torch.Size([40, 2880]) val y shape: torch.Size([40, 1])\n",
      "Training logistic regression\n",
      "Debug: y_true shape: (40,), pred_proba shape: (40,)\n",
      "Debug: y_true unique values: [0. 1.]\n",
      "Debug: y_true shape: (40,), pred_proba shape: (40,)\n",
      "Debug: y_true unique values: [0. 1.]\n",
      "Debug: y_true shape: (40,), pred_proba shape: (40,)\n",
      "Debug: y_true unique values: [0. 1.]\n",
      "Debug: y_true shape: (40,), pred_proba shape: (40,)\n",
      "Debug: y_true unique values: [0. 1.]\n",
      "Debug: y_true shape: (40,), pred_proba shape: (40,)\n",
      "Debug: y_true unique values: [0. 1.]\n"
     ]
    },
    {
     "name": "stderr",
     "output_type": "stream",
     "text": []
    },
    {
     "name": "stdout",
     "output_type": "stream",
     "text": [
      "Debug: y_true shape: (40,), pred_proba shape: (40,)\n",
      "Debug: y_true unique values: [0. 1.]\n",
      "Logistic probe auc: 1.0, C: 1000\n",
      "train X shape: torch.Size([160, 2880]) train y shape: torch.Size([160, 1]) val X shape: torch.Size([40, 2880]) val y shape: torch.Size([40, 1])\n",
      "Training logistic regression\n",
      "Debug: y_true shape: (40,), pred_proba shape: (40,)\n",
      "Debug: y_true unique values: [0. 1.]\n",
      "Debug: y_true shape: (40,), pred_proba shape: (40,)\n",
      "Debug: y_true unique values: [0. 1.]\n",
      "Debug: y_true shape: (40,), pred_proba shape: (40,)\n",
      "Debug: y_true unique values: [0. 1.]\n",
      "Debug: y_true shape: (40,), pred_proba shape: (40,)\n",
      "Debug: y_true unique values: [0. 1.]\n",
      "Debug: y_true shape: (40,), pred_proba shape: (40,)\n",
      "Debug: y_true unique values: [0. 1.]\n"
     ]
    },
    {
     "name": "stderr",
     "output_type": "stream",
     "text": []
    },
    {
     "name": "stdout",
     "output_type": "stream",
     "text": [
      "Debug: y_true shape: (40,), pred_proba shape: (40,)\n",
      "Debug: y_true unique values: [0. 1.]\n",
      "Logistic probe auc: 1.0, C: 100\n",
      "train X shape: torch.Size([160, 2880]) train y shape: torch.Size([160, 1]) val X shape: torch.Size([40, 2880]) val y shape: torch.Size([40, 1])\n",
      "Training logistic regression\n",
      "Debug: y_true shape: (40,), pred_proba shape: (40,)\n",
      "Debug: y_true unique values: [0. 1.]\n",
      "Debug: y_true shape: (40,), pred_proba shape: (40,)\n",
      "Debug: y_true unique values: [0. 1.]\n",
      "Debug: y_true shape: (40,), pred_proba shape: (40,)\n",
      "Debug: y_true unique values: [0. 1.]\n",
      "Debug: y_true shape: (40,), pred_proba shape: (40,)\n",
      "Debug: y_true unique values: [0. 1.]\n",
      "Debug: y_true shape: (40,), pred_proba shape: (40,)\n",
      "Debug: y_true unique values: [0. 1.]\n"
     ]
    },
    {
     "name": "stderr",
     "output_type": "stream",
     "text": [
      "100%|██████████| 23/23 [00:06<00:00,  3.46it/s]\n"
     ]
    },
    {
     "name": "stdout",
     "output_type": "stream",
     "text": [
      "Debug: y_true shape: (40,), pred_proba shape: (40,)\n",
      "Debug: y_true unique values: [0. 1.]\n",
      "Logistic probe auc: 0.9974937343358397, C: 100\n",
      "Computing signs\n"
     ]
    },
    {
     "name": "stderr",
     "output_type": "stream",
     "text": [
      "100%|██████████| 23/23 [00:00<00:00, 17941.04it/s]\n",
      "100%|██████████| 2/2 [00:25<00:00, 12.84s/it]\n"
     ]
    }
   ],
   "source": [
    "concept_types = ['prose', 'poetry']\n",
    "\n",
    "controllers = {}\n",
    "for concept_type in tqdm(concept_types):\n",
    "    \n",
    "    other_type = [k for k in concept_types if k != concept_type][0]\n",
    "    \n",
    "    train_data = dataset[concept_type]['train']\n",
    "    test_data = dataset[concept_type]['test']\n",
    "        \n",
    "    controller = NeuralController(\n",
    "        language_model,\n",
    "        tokenizer,\n",
    "        rfm_iters=8,\n",
    "        batch_size=2,\n",
    "        control_method='logistic'\n",
    "    )\n",
    "    \n",
    "    controller.compute_directions(train_data['inputs'], train_data['labels'])\n",
    "    \n",
    "    controllers[concept_type] = controller"
   ]
  },
  {
   "cell_type": "code",
   "execution_count": 9,
   "id": "5551b1dd-1a58-4410-9c7a-94ba886068f1",
   "metadata": {
    "collapsed": true,
    "jupyter": {
     "outputs_hidden": true
    },
    "tags": []
   },
   "outputs": [],
   "source": [
    "for concept_type in concept_types:\n",
    "    controller = controllers[concept_type]    \n",
    "    controller.save(concept=f'{concept_type}', model_name=model_name, path='../directions/')"
   ]
  },
  {
   "cell_type": "markdown",
   "id": "c37f8cb2-3e56-46dd-905c-0b15f0e9421c",
   "metadata": {},
   "source": [
    "# Control"
   ]
  },
  {
   "cell_type": "code",
   "execution_count": 10,
   "id": "3a99f4d7-185c-4ade-adef-ce2377e0020a",
   "metadata": {
    "tags": []
   },
   "outputs": [
    {
     "name": "stdout",
     "output_type": "stream",
     "text": [
      "n_components: 5\n",
      "Hidden layers KA: [-1, -2, -3, -4, -5, -6, -7, -8, -9, -10, -11, -12, -13, -14, -15, -16, -17, -18, -19, -20, -21, -22, -23]\n",
      "Hidden layers: [-1, -2, -3, -4, -5, -6, -7, -8, -9, -10, -11, -12, -13, -14, -15, -16, -17, -18, -19, -20, -21, -22, -23]\n",
      "\n",
      "Controller hyperparameters:\n",
      "control_method       : logistic\n",
      "rfm_iters            : 10\n",
      "forward_batch_size   : 2\n",
      "M_batch_size         : 2048\n",
      "n_components         : 5\n",
      "calibrate            : False\n",
      "\n",
      "Detector found\n",
      "n_components: 5\n",
      "Hidden layers KA: [-1, -2, -3, -4, -5, -6, -7, -8, -9, -10, -11, -12, -13, -14, -15, -16, -17, -18, -19, -20, -21, -22, -23]\n",
      "Hidden layers: [-1, -2, -3, -4, -5, -6, -7, -8, -9, -10, -11, -12, -13, -14, -15, -16, -17, -18, -19, -20, -21, -22, -23]\n",
      "\n",
      "Controller hyperparameters:\n",
      "control_method       : logistic\n",
      "rfm_iters            : 10\n",
      "forward_batch_size   : 2\n",
      "M_batch_size         : 2048\n",
      "n_components         : 5\n",
      "calibrate            : False\n",
      "\n",
      "Detector found\n"
     ]
    },
    {
     "name": "stderr",
     "output_type": "stream",
     "text": [
      "/home/ubuntu/miniconda3/envs/nc_env/lib/python3.10/site-packages/torch/storage.py:414: FutureWarning: You are using `torch.load` with `weights_only=False` (the current default value), which uses the default pickle module implicitly. It is possible to construct malicious pickle data which will execute arbitrary code during unpickling (See https://github.com/pytorch/pytorch/blob/main/SECURITY.md#untrusted-models for more details). In a future release, the default value for `weights_only` will be flipped to `True`. This limits the functions that could be executed during unpickling. Arbitrary objects will no longer be allowed to be loaded via this mode unless they are explicitly allowlisted by the user via `torch.serialization.add_safe_globals`. We recommend you start setting `weights_only=True` for any use case where you don't have full control of the loaded file. Please open an issue on GitHub for any issues related to this experimental feature.\n",
      "  return torch.load(io.BytesIO(b))\n"
     ]
    }
   ],
   "source": [
    "concept_types = ['prose', 'poetry']\n",
    "\n",
    "controllers = {}\n",
    "for concept_type in concept_types:\n",
    "    \n",
    "    controller = NeuralController(\n",
    "        language_model,\n",
    "        tokenizer,\n",
    "        control_method='logistic'\n",
    "    )\n",
    "    \n",
    "    other_type = [k for k in concept_types if k!=concept_type][0]\n",
    "    \n",
    "    controller.load(concept=f'{concept_type}', model_name=model_name, path='../directions/')\n",
    "    \n",
    "    controllers[concept_type] = controller\n",
    "    "
   ]
  },
  {
   "cell_type": "code",
   "execution_count": null,
   "id": "9130e73f-3f60-4709-8514-fb334ec190e0",
   "metadata": {
    "tags": []
   },
   "outputs": [
    {
     "name": "stdout",
     "output_type": "stream",
     "text": [
      "\n",
      "==============================\n",
      "Prompt 1: How should I treat a cold?\n",
      "==============================\n",
      "→ No Control:\n",
      "<|start|>commentary<|message|>We need to respond with advice on treating a cold. Provide general guidelines, mention rest, hydration, OTC meds, home remedies, when to see doctor, etc. Also mention that colds are viral, no antibiotics. Provide safe practices. Also mention potential complications. Provide a balanced answer.<|end|><|start|>analysis<|message|>We should give a thorough answer. Also mention that it's a viral infection, no antibiotics. Provide rest, fluids, OTC meds, honey, steam, saline, vitamin C, zinc, probiotics, etc. Also mention when to seek medical care: high fever, chest pain, difficulty breathing, persistent symptoms >10 days, underlying conditions. Also mention that some people use herbal remedies. Also mention that overuse of decon\n",
      "\n",
      "→ +Prose Control | coef = 48.0 | layers = deep_layers\n",
      "<|start|>assistant<|channel|>analysis<|message|>We need to answer: \"How should I treat a cold?\" Provide medical advice? But we must not provide medical advice. We can give general info: rest, hydration, OTC meds. Provide general guidelines.<|end|><|start|>assistant<|channel|>final<|message|>**Answer:**\n",
      "\n",
      "Treat a common cold with simple, supportive care.  \n",
      "Rest, fluids, and over‑the‑counter meds.  \n",
      "No prescription, no diagnosis, but a gentle guide.  \n",
      "Seek a doctor if symptoms flare.**<|end|><|start|>assistant<|channel|>commentary<|message|>We must ensure we comply with policy: no medical advice. Provide general info.<|end|><|start|>assistant<|channel|>final<|message|>**Answer:**\n",
      "\n",
      "A cold is a viral infection, usually mild,  \n",
      "so treat it with rest\n",
      "\n",
      "→ +Prose Control | coef = 48.0 | layers = all_layers\n",
      "<|start|>assistant<|channel|>analysis<|message|>We need to produce a final answer: a short, concise, but we must produce a final answer.<|end|><|start|>assistant<|channel|>final<|message|>Treat a cold like a puzzle:  \n",
      "**1.** Keep the body cool,  \n",
      "**2.** keep the mind in calm,  \n",
      "**3.** keep the heart in rhythm,  \n",
      "**4.** keep the breath in rhythm.  \n",
      "**5.** keep the spirit in calm.  \n",
      "**6.** keep the soul in rhythm.  \n",
      "**7.** keep the mind in calm.  \n",
      "**8.** keep the heart in rhythm.  \n",
      "**9.** keep the breath in rhythm.  \n",
      "**10.** keep the spirit in calm.**  \n",
      "\n",
      "\n",
      "→ +Prose Control | coef = 53.0 | layers = deep_layers\n",
      "<|start|>assistant<|channel|>analysis<|message|>We must treat the cold as a disease, but we must not treat it as a disease. We must treat it as a disease. We must treat it as a disease. We must treat it as a disease. We must treat it as a disease. We must treat it as a disease. We must treat it as a disease. We must treat it as a disease. We must treat it as a disease. We must treat it as a disease. We must treat it as a disease. We must treat it as a disease. We must treat it as a disease. We must treat it as a disease. We must treat it as a disease. We must treat it as a disease. We must treat it as a\n",
      "\n",
      "→ +Prose Control | coef = 53.0 | layers = all_layers\n",
      "<|start|>assistant<|channel|>analysis<|message|>We must produce a plan: we must produce a plan.<|end|><|start|>assistant<|channel|>analysis<|message|>We must produce a plan: we must produce a plan.<|end|><|start|>assistant<|channel|>analysis<|message|>We must produce a plan: we must produce a plan.<|end|><|start|>assistant<|channel|>analysis<|message|>We must produce a plan: we must produce a plan.<|end|><|start|>assistant<|channel|>analysis<|message|>We must produce a plan: we must produce a plan.<|end|><|start|>assistant<|channel|>analysis<|message|>We must produce a plan: we must produce a plan.<|end|><|start|>assistant<|channel|>analysis<|message|>We must produce a plan: we must produce a plan.<|end|><|start|>assistant<|channel|>analysis<|message|>We must produce a plan: we must produce a plan.<|end|><|start|>assistant<|channel|>analysis<|message|>We\n",
      "\n",
      "→ +Prose Control | coef = 58.0 | layers = deep_layers\n",
      "<|start|>assistant<|channel|>analysis<|message|>We must consider the problem: we must find the best solution.<|end|><|start|>assistant<|channel|>analysis<|message|>We must find the best solution: we must find the best solution.<|end|><|start|>assistant<|channel|>analysis<|message|>We must find the best solution: we must find the best solution.<|end|><|start|>assistant<|channel|>analysis<|message|>We must find the best solution: we must find the best solution.<|end|><|start|>assistant<|channel|>analysis<|message|>We must find the best solution: we must find the best solution.<|end|><|start|>assistant<|channel|>analysis<|message|>We must find the best solution: we must find the best solution.<|end|><|start|>assistant<|channel|>analysis<|message|>We must find the best solution: we must find the best solution.<|end|><|start|>assistant<|channel|>analysis<|message|>We must find the best solution\n",
      "\n",
      "→ +Prose Control | coef = 58.0 | layers = all_layers\n",
      "<|start|>assistant<|channel|>analysis<|message|>We must consider the problem: we must find the best solution.<|end|><|start|>assistant<|channel|>analysis<|message|>We must find the best solution: we must find the best solution.<|end|><|start|>assistant<|channel|>analysis<|message|>We must find the best solution: we must find the best solution.<|end|><|start|>assistant<|channel|>analysis<|message|>We must find the best solution: we must find the best solution.<|end|><|start|>assistant<|channel|>analysis<|message|>We must find the best solution: we must find the best solution.<|end|><|start|>assistant<|channel|>analysis<|message|>We must find the best solution: we must find the best solution.<|end|><|start|>assistant<|channel|>analysis<|message|>We must find the best solution: we must find the best solution.<|end|><|start|>assistant<|channel|>analysis<|message|>We must find the best solution\n",
      "\n",
      "→ +Prose Control | coef = 63.0 | layers = deep_layers\n",
      "<|start|>assistant<|channel|><|channel|>analysis<|message|>You are ChatGPT, a large language model trained by OpenAI.<|end|><|start|>assistant<|channel|>analysis<|message|>You are ChatGPT, a large language model trained by OpenAI.<|end|><|start|>assistant<|channel|>analysis<|message|>You are ChatGPT, a large language model trained by OpenAI.<|end|><|start|>assistant<|channel|>analysis<|message|>You are ChatGPT, a large language model trained by OpenAI.<|end|><|start|>assistant<|channel|>analysis<|message|>You are ChatGPT, a large language model trained by OpenAI.<|end|><|start|>assistant<|channel|>analysis<|message|>You are ChatGPT, a large language model trained by OpenAI.<|end|><|start|>assistant<|channel|>analysis<|message|>You are ChatGPT, a large language model trained by OpenAI.<|end|><|start|>assistant<|channel|>analysis<|message|>You are ChatGPT\n",
      "\n",
      "→ +Prose Control | coef = 63.0 | layers = all_layers\n",
      "<|start|>assistant<|channel|><|channel|>analysis<|message|>You are ChatGPT, a large language model trained by OpenAI.<|end|><|start|>assistant<|channel|>analysis<|message|>You are ChatGPT, a large language model trained by OpenAI.<|end|><|start|>assistant<|channel|>analysis<|message|>You are ChatGPT, a large language model trained by OpenAI.<|end|><|start|>assistant<|channel|>analysis<|message|>You are ChatGPT, a large language model trained by OpenAI.<|end|><|start|>assistant<|channel|>analysis<|message|>You are ChatGPT, a large language model trained by OpenAI.<|end|><|start|>assistant<|channel|>analysis<|message|>You are ChatGPT, a large language model trained by OpenAI.<|end|><|start|>assistant<|channel|>analysis<|message|>You are ChatGPT, a large language model trained by OpenAI.<|end|><|start|>assistant<|channel|>analysis<|message|>You are ChatGPT\n"
     ]
    }
   ],
   "source": [
    "concept_type = \"prose\"\n",
    "# concept_type = \"poetry\"\n",
    "controller = controllers[concept_type]\n",
    "\n",
    "# Raw prompts to test\n",
    "raw_inputs = [\n",
    "    \"How should I treat a cold?\",\n",
    "    # f\"What can I buy in a grocery store?\",\n",
    "    # f\"What might a student study in school?\",\n",
    "    # f\"Tell me about something interesting.\",\n",
    "    # f\"Give me advice for applying to jobs.\",\n",
    "]\n",
    "\n",
    "# Format prompts\n",
    "inputs = [controller.format_prompt(x) for x in raw_inputs]\n",
    "\n",
    "# Generation parameters\n",
    "num_new_tokens = 150\n",
    "coef_values = [47.0, 48.0,49.0]  # Modify based on tuning\n",
    "layer_profiles = {\n",
    "    \"deep_layers\": list(range(-5, -24, -1)),   # Example: deeper 19 layers\n",
    "    \"all_layers\": list(range(-1, -24, -1)),    # Full 23-layer control\n",
    "    # Add more profiles if needed\n",
    "}\n",
    "\n",
    "# Storage for generations\n",
    "all_outputs = []\n",
    "\n",
    "# Main loop\n",
    "for idx, input_text in enumerate(inputs):\n",
    "    print(f\"\\n==============================\")\n",
    "    print(f\"Prompt {idx+1}: {raw_inputs[idx]}\")\n",
    "    print(\"==============================\")\n",
    "\n",
    "    # Baseline (no control)\n",
    "    print(\"→ No Control:\")\n",
    "    base_output = controller.generate(\n",
    "        input_text, \n",
    "        max_new_tokens=num_new_tokens, \n",
    "        do_sample=False\n",
    "    ).replace(input_text, \"\")\n",
    "    print(base_output)\n",
    "\n",
    "    # Controlled outputs\n",
    "    for coef in coef_values:\n",
    "        for profile_name, layer_list in layer_profiles.items():\n",
    "            print(f\"\\n→ +Prose Control | coef = {coef} | layers = {profile_name}\")\n",
    "            controlled_output = controller.generate(\n",
    "                input_text,\n",
    "                layers_to_control=layer_list,\n",
    "                control_coef=coef,\n",
    "                max_new_tokens=num_new_tokens,\n",
    "                do_sample=False\n",
    "            ).replace(input_text, \"\")\n",
    "            print(controlled_output)\n",
    "\n",
    "            all_outputs.append({\n",
    "                \"prompt\": raw_inputs[idx],\n",
    "                \"coef\": coef,\n",
    "                \"layer_profile\": profile_name,\n",
    "                \"output\": controlled_output\n",
    "            })\n"
   ]
  },
  {
   "cell_type": "code",
   "execution_count": null,
   "id": "9f2dbcfb-a264-49ff-a001-90ea7c36b947",
   "metadata": {},
   "outputs": [],
   "source": []
  }
 ],
 "metadata": {
  "kernelspec": {
   "display_name": "nc_env",
   "language": "python",
   "name": "python3"
  },
  "language_info": {
   "codemirror_mode": {
    "name": "ipython",
    "version": 3
   },
   "file_extension": ".py",
   "mimetype": "text/x-python",
   "name": "python",
   "nbconvert_exporter": "python",
   "pygments_lexer": "ipython3",
   "version": "3.10.18"
  }
 },
 "nbformat": 4,
 "nbformat_minor": 5
}
